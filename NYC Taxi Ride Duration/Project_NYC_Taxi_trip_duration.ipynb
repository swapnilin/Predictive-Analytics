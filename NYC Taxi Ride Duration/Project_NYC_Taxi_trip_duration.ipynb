{
  "cells": [
    {
      "cell_type": "markdown",
      "metadata": {
        "id": "OGLrzXT0HjtF"
      },
      "source": [
        "## Project Predictive Analytics: New York City Taxi Ride Duration Prediction\n",
        "\n",
        "## **Marks: 40**\n",
        "---------------\n",
        "\n",
        "## **Context**\n",
        "---------------\n",
        "\n",
        "New York City taxi rides form the core of the traffic in the city of New York. The many rides taken every day by New Yorkers in the busy city can give us a great idea of traffic times, road blockages, and so on. A typical taxi company faces a common problem of efficiently assigning the cabs to passengers so that the service is hassle-free. One of the main issues is predicting the duration of the current ride so it can predict when the cab will be free for the next trip. Here the data set contains various information regarding the taxi trips, its duration in New York City. We will apply different techniques here to get insights into the data and determine how different variables are dependent on the Trip Duration.\n",
        "\n",
        "-----------------\n",
        "## **Objective**\n",
        "-----------------\n",
        "\n",
        "- To Build a predictive model, for predicting the duration for the taxi ride. \n",
        "- Use Automated feature engineering to create new features\n",
        "\n",
        "-----------------\n",
        "## **Dataset**\n",
        "-----------------\n",
        "\n",
        "The ``trips`` table has the following fields\n",
        "* ``id`` which uniquely identifies the trip\n",
        "* ``vendor_id`` is the taxi cab company - in our case study we have data from three different cab companies\n",
        "* ``pickup_datetime`` the time stamp for pickup\n",
        "* ``dropoff_datetime`` the time stamp for drop-off\n",
        "* ``passenger_count`` the number of passengers for the trip\n",
        "* ``trip_distance`` total distance of the trip in miles \n",
        "* ``pickup_longitude`` the longitude for pickup\n",
        "* ``pickup_latitude`` the latitude for pickup\n",
        "* ``dropoff_longitude``the longitude of dropoff \n",
        "* ``dropoff_latitude`` the latitude of dropoff\n",
        "* ``payment_type`` a numeric code signifying how the passenger paid for the trip. 1= Credit card 2= Cash 3= No charge 4= Dispute 5= Unknown 6= Voided\n",
        "* ``trip_duration`` this is the duration we would like to predict using other fields \n",
        "* ``pickup_neighborhood`` a one or two letter id of the neighborhood where the trip started\n",
        "* ``dropoff_neighborhood`` a one or two letter id of the neighborhood where the trip ended\n",
        "\n",
        "\n",
        "\n",
        "### We will do the following steps:\n",
        "  * Install the dependencies\n",
        "  * Load the data as pandas dataframe\n",
        "  * Perform EDA on the dataset\n",
        "  * Build features with Deep Feature Synthesis using the [featuretools](https://featuretools.com) package. We will start with simple features and incrementally improve the feature definitions and examine the accuracy of the system"
      ]
    },
    {
      "cell_type": "markdown",
      "metadata": {
        "id": "-YfDMd_EHjtK"
      },
      "source": [
        "#### Uncomment the code given below, and run the line of code to install featuretools library"
      ]
    },
    {
      "cell_type": "code",
      "execution_count": null,
      "metadata": {
        "id": "zK8x4oQ6HjtL"
      },
      "outputs": [],
      "source": [
        "# Uncomment the code given below, and run the line of code to install featuretools library\n",
        "\n",
        "!pip install featuretools==0.27.0"
      ]
    },
    {
      "cell_type": "markdown",
      "metadata": {
        "id": "w_M4bfNUHjtO"
      },
      "source": [
        "### Note: If !pip install featuretools doesn't work, please install using the anaconda prompt by typing the following command in anaconda prompt\n",
        "      conda install -c conda-forge featuretools==0.27.0"
      ]
    },
    {
      "cell_type": "markdown",
      "metadata": {
        "id": "5uSyMdJLHjtO"
      },
      "source": [
        "### Importing libraries"
      ]
    },
    {
      "cell_type": "code",
      "execution_count": 3,
      "metadata": {
        "colab": {
          "base_uri": "https://localhost:8080/"
        },
        "id": "Kw7Fwb5EHjtP",
        "outputId": "e38d2504-4832-4748-c9b6-eb8cff5638f4"
      },
      "outputs": [
        {
          "output_type": "stream",
          "name": "stdout",
          "text": [
            "0.27.0\n"
          ]
        }
      ],
      "source": [
        "import pandas as pd\n",
        "import numpy as np\n",
        "import matplotlib.pyplot as plt\n",
        "import seaborn as sns\n",
        "\n",
        "#Feataurestools for feature engineering\n",
        "import featuretools as ft\n",
        "\n",
        "from sklearn.model_selection import train_test_split\n",
        "from sklearn.impute import SimpleImputer\n",
        "\n",
        "# Importing gradient boosting regressor, to make prediction\n",
        "from sklearn.metrics import r2_score\n",
        "from sklearn.linear_model import LinearRegression\n",
        "from sklearn.ensemble import RandomForestRegressor\n",
        "from sklearn.tree import DecisionTreeRegressor\n",
        "\n",
        "#importing primitives\n",
        "from featuretools.primitives import (Minute, Hour, Day, Month,\n",
        "                                     Weekday, IsWeekend, Count, Sum, Mean, Median, Std, Min, Max)\n",
        "\n",
        "print(ft.__version__)\n",
        "%load_ext autoreload\n",
        "%autoreload 2"
      ]
    },
    {
      "cell_type": "code",
      "execution_count": 4,
      "metadata": {
        "id": "_ySlteAxHjtP"
      },
      "outputs": [],
      "source": [
        "# set global random seed\n",
        "np.random.seed(40)\n",
        "\n",
        "# To load the dataset\n",
        "def load_nyc_taxi_data():\n",
        "    trips = pd.read_csv('trips.csv',\n",
        "                        parse_dates=[\"pickup_datetime\",\"dropoff_datetime\"],\n",
        "                        dtype={'vendor_id':\"category\",'passenger_count':'int64'},\n",
        "                        encoding='utf-8')\n",
        "    trips[\"payment_type\"] = trips[\"payment_type\"].apply(str)\n",
        "    trips = trips.dropna(axis=0, how='any', subset=['trip_duration'])\n",
        "\n",
        "    pickup_neighborhoods = pd.read_csv(\"pickup_neighborhoods.csv\", encoding='utf-8')\n",
        "    dropoff_neighborhoods = pd.read_csv(\"dropoff_neighborhoods.csv\", encoding='utf-8')\n",
        "\n",
        "    return trips, pickup_neighborhoods, dropoff_neighborhoods\n",
        "\n",
        "### To preview first five rows. \n",
        "def preview(df, n=5):\n",
        "    \"\"\"return n rows that have fewest number of nulls\"\"\"\n",
        "    order = df.isnull().sum(axis=1).sort_values().head(n).index\n",
        "    return df.loc[order]\n",
        "\n",
        "\n",
        "\n",
        "#to compute features using automated feature engineering. \n",
        "def compute_features(features, cutoff_time):\n",
        "    # shuffle so we don't see encoded features in the front or backs\n",
        "\n",
        "    np.random.shuffle(features)\n",
        "    feature_matrix = ft.calculate_feature_matrix(features,\n",
        "                                                 cutoff_time=cutoff_time,\n",
        "                                                 approximate='36d',\n",
        "                                                 verbose=True)\n",
        "    print(\"Finishing computing...\")\n",
        "    feature_matrix, features = ft.encode_features(feature_matrix, features,\n",
        "                                                  to_encode=[\"pickup_neighborhood\", \"dropoff_neighborhood\"],\n",
        "                                                  include_unknown=False)\n",
        "    return feature_matrix\n",
        "\n",
        "\n",
        "#to generate train and test dataset\n",
        "def get_train_test_fm(feature_matrix, percentage):\n",
        "    nrows = feature_matrix.shape[0]\n",
        "    head = int(nrows * percentage)\n",
        "    tail = nrows-head\n",
        "    X_train = feature_matrix.head(head)\n",
        "    y_train = X_train['trip_duration']\n",
        "    X_train = X_train.drop(['trip_duration'], axis=1)\n",
        "    imp = SimpleImputer()\n",
        "    X_train = imp.fit_transform(X_train)\n",
        "    X_test = feature_matrix.tail(tail)\n",
        "    y_test = X_test['trip_duration']\n",
        "    X_test = X_test.drop(['trip_duration'], axis=1)\n",
        "    X_test = imp.transform(X_test)\n",
        "\n",
        "    return (X_train, y_train, X_test,y_test)\n",
        "\n",
        "\n",
        "\n",
        "#to see the feature importance of variables in the final model\n",
        "def feature_importances(model, feature_names, n=5):\n",
        "    importances = model.feature_importances_\n",
        "    zipped = sorted(zip(feature_names, importances), key=lambda x: -x[1])\n",
        "    for i, f in enumerate(zipped[:n]):\n",
        "        print(\"%d: Feature: %s, %.3f\" % (i+1, f[0], f[1]))"
      ]
    },
    {
      "cell_type": "markdown",
      "metadata": {
        "id": "do4v_2enHjtQ"
      },
      "source": [
        "### Load the Datasets"
      ]
    },
    {
      "cell_type": "code",
      "source": [
        "trips, pickup_neighborhoods, dropoff_neighborhoods = load_nyc_taxi_data()\n",
        "preview(trips, 10)"
      ],
      "metadata": {
        "colab": {
          "base_uri": "https://localhost:8080/",
          "height": 601
        },
        "id": "JQ4x_PWBgD2M",
        "outputId": "d2203f5d-ca55-4ef8-9f97-ff794c51772f"
      },
      "execution_count": 5,
      "outputs": [
        {
          "output_type": "execute_result",
          "data": {
            "text/html": [
              "\n",
              "  <div id=\"df-5e71ea0f-f153-4894-b434-2fda78f61751\">\n",
              "    <div class=\"colab-df-container\">\n",
              "      <div>\n",
              "<style scoped>\n",
              "    .dataframe tbody tr th:only-of-type {\n",
              "        vertical-align: middle;\n",
              "    }\n",
              "\n",
              "    .dataframe tbody tr th {\n",
              "        vertical-align: top;\n",
              "    }\n",
              "\n",
              "    .dataframe thead th {\n",
              "        text-align: right;\n",
              "    }\n",
              "</style>\n",
              "<table border=\"1\" class=\"dataframe\">\n",
              "  <thead>\n",
              "    <tr style=\"text-align: right;\">\n",
              "      <th></th>\n",
              "      <th>id</th>\n",
              "      <th>vendor_id</th>\n",
              "      <th>pickup_datetime</th>\n",
              "      <th>dropoff_datetime</th>\n",
              "      <th>passenger_count</th>\n",
              "      <th>trip_distance</th>\n",
              "      <th>pickup_longitude</th>\n",
              "      <th>pickup_latitude</th>\n",
              "      <th>dropoff_longitude</th>\n",
              "      <th>dropoff_latitude</th>\n",
              "      <th>payment_type</th>\n",
              "      <th>trip_duration</th>\n",
              "      <th>pickup_neighborhood</th>\n",
              "      <th>dropoff_neighborhood</th>\n",
              "    </tr>\n",
              "  </thead>\n",
              "  <tbody>\n",
              "    <tr>\n",
              "      <th>0</th>\n",
              "      <td>0</td>\n",
              "      <td>2</td>\n",
              "      <td>2016-01-01 00:00:00</td>\n",
              "      <td>2016-01-01 00:06:00</td>\n",
              "      <td>3</td>\n",
              "      <td>1.32</td>\n",
              "      <td>-73.961258</td>\n",
              "      <td>40.796200</td>\n",
              "      <td>-73.950050</td>\n",
              "      <td>40.787312</td>\n",
              "      <td>2</td>\n",
              "      <td>372</td>\n",
              "      <td>AH</td>\n",
              "      <td>C</td>\n",
              "    </tr>\n",
              "    <tr>\n",
              "      <th>649598</th>\n",
              "      <td>679634</td>\n",
              "      <td>1</td>\n",
              "      <td>2016-04-30 11:45:00</td>\n",
              "      <td>2016-04-30 11:47:00</td>\n",
              "      <td>1</td>\n",
              "      <td>0.50</td>\n",
              "      <td>-73.994919</td>\n",
              "      <td>40.755226</td>\n",
              "      <td>-74.000351</td>\n",
              "      <td>40.747917</td>\n",
              "      <td>1</td>\n",
              "      <td>108</td>\n",
              "      <td>D</td>\n",
              "      <td>AG</td>\n",
              "    </tr>\n",
              "    <tr>\n",
              "      <th>649599</th>\n",
              "      <td>679635</td>\n",
              "      <td>2</td>\n",
              "      <td>2016-04-30 11:46:00</td>\n",
              "      <td>2016-04-30 11:47:00</td>\n",
              "      <td>2</td>\n",
              "      <td>0.33</td>\n",
              "      <td>-73.978935</td>\n",
              "      <td>40.777172</td>\n",
              "      <td>-73.981888</td>\n",
              "      <td>40.773136</td>\n",
              "      <td>2</td>\n",
              "      <td>97</td>\n",
              "      <td>AV</td>\n",
              "      <td>AV</td>\n",
              "    </tr>\n",
              "    <tr>\n",
              "      <th>649600</th>\n",
              "      <td>679636</td>\n",
              "      <td>2</td>\n",
              "      <td>2016-04-30 11:46:00</td>\n",
              "      <td>2016-04-30 11:58:00</td>\n",
              "      <td>1</td>\n",
              "      <td>1.78</td>\n",
              "      <td>-73.998207</td>\n",
              "      <td>40.745201</td>\n",
              "      <td>-73.990265</td>\n",
              "      <td>40.729023</td>\n",
              "      <td>2</td>\n",
              "      <td>683</td>\n",
              "      <td>AP</td>\n",
              "      <td>H</td>\n",
              "    </tr>\n",
              "    <tr>\n",
              "      <th>649601</th>\n",
              "      <td>679637</td>\n",
              "      <td>2</td>\n",
              "      <td>2016-04-30 11:46:00</td>\n",
              "      <td>2016-04-30 11:55:00</td>\n",
              "      <td>1</td>\n",
              "      <td>1.40</td>\n",
              "      <td>-73.987129</td>\n",
              "      <td>40.739429</td>\n",
              "      <td>-74.007370</td>\n",
              "      <td>40.743511</td>\n",
              "      <td>2</td>\n",
              "      <td>538</td>\n",
              "      <td>R</td>\n",
              "      <td>Q</td>\n",
              "    </tr>\n",
              "    <tr>\n",
              "      <th>649602</th>\n",
              "      <td>679638</td>\n",
              "      <td>2</td>\n",
              "      <td>2016-04-30 11:47:00</td>\n",
              "      <td>2016-04-30 11:54:00</td>\n",
              "      <td>1</td>\n",
              "      <td>1.12</td>\n",
              "      <td>-73.942375</td>\n",
              "      <td>40.790768</td>\n",
              "      <td>-73.952095</td>\n",
              "      <td>40.777145</td>\n",
              "      <td>2</td>\n",
              "      <td>390</td>\n",
              "      <td>J</td>\n",
              "      <td>AM</td>\n",
              "    </tr>\n",
              "    <tr>\n",
              "      <th>649603</th>\n",
              "      <td>679639</td>\n",
              "      <td>1</td>\n",
              "      <td>2016-04-30 11:47:00</td>\n",
              "      <td>2016-04-30 11:57:00</td>\n",
              "      <td>2</td>\n",
              "      <td>1.90</td>\n",
              "      <td>-73.960800</td>\n",
              "      <td>40.769920</td>\n",
              "      <td>-73.978966</td>\n",
              "      <td>40.785698</td>\n",
              "      <td>1</td>\n",
              "      <td>584</td>\n",
              "      <td>K</td>\n",
              "      <td>I</td>\n",
              "    </tr>\n",
              "    <tr>\n",
              "      <th>649604</th>\n",
              "      <td>679640</td>\n",
              "      <td>1</td>\n",
              "      <td>2016-04-30 11:47:00</td>\n",
              "      <td>2016-04-30 12:01:00</td>\n",
              "      <td>1</td>\n",
              "      <td>4.30</td>\n",
              "      <td>-74.013886</td>\n",
              "      <td>40.709515</td>\n",
              "      <td>-73.987213</td>\n",
              "      <td>40.722343</td>\n",
              "      <td>2</td>\n",
              "      <td>796</td>\n",
              "      <td>AU</td>\n",
              "      <td>AC</td>\n",
              "    </tr>\n",
              "    <tr>\n",
              "      <th>649605</th>\n",
              "      <td>679641</td>\n",
              "      <td>1</td>\n",
              "      <td>2016-04-30 11:48:00</td>\n",
              "      <td>2016-04-30 12:01:00</td>\n",
              "      <td>1</td>\n",
              "      <td>2.90</td>\n",
              "      <td>-73.975426</td>\n",
              "      <td>40.757584</td>\n",
              "      <td>-73.999016</td>\n",
              "      <td>40.722027</td>\n",
              "      <td>1</td>\n",
              "      <td>765</td>\n",
              "      <td>A</td>\n",
              "      <td>X</td>\n",
              "    </tr>\n",
              "    <tr>\n",
              "      <th>649606</th>\n",
              "      <td>679642</td>\n",
              "      <td>1</td>\n",
              "      <td>2016-04-30 11:49:00</td>\n",
              "      <td>2016-04-30 12:00:00</td>\n",
              "      <td>1</td>\n",
              "      <td>1.30</td>\n",
              "      <td>-73.989815</td>\n",
              "      <td>40.750454</td>\n",
              "      <td>-74.000473</td>\n",
              "      <td>40.762352</td>\n",
              "      <td>2</td>\n",
              "      <td>619</td>\n",
              "      <td>D</td>\n",
              "      <td>P</td>\n",
              "    </tr>\n",
              "  </tbody>\n",
              "</table>\n",
              "</div>\n",
              "      <button class=\"colab-df-convert\" onclick=\"convertToInteractive('df-5e71ea0f-f153-4894-b434-2fda78f61751')\"\n",
              "              title=\"Convert this dataframe to an interactive table.\"\n",
              "              style=\"display:none;\">\n",
              "        \n",
              "  <svg xmlns=\"http://www.w3.org/2000/svg\" height=\"24px\"viewBox=\"0 0 24 24\"\n",
              "       width=\"24px\">\n",
              "    <path d=\"M0 0h24v24H0V0z\" fill=\"none\"/>\n",
              "    <path d=\"M18.56 5.44l.94 2.06.94-2.06 2.06-.94-2.06-.94-.94-2.06-.94 2.06-2.06.94zm-11 1L8.5 8.5l.94-2.06 2.06-.94-2.06-.94L8.5 2.5l-.94 2.06-2.06.94zm10 10l.94 2.06.94-2.06 2.06-.94-2.06-.94-.94-2.06-.94 2.06-2.06.94z\"/><path d=\"M17.41 7.96l-1.37-1.37c-.4-.4-.92-.59-1.43-.59-.52 0-1.04.2-1.43.59L10.3 9.45l-7.72 7.72c-.78.78-.78 2.05 0 2.83L4 21.41c.39.39.9.59 1.41.59.51 0 1.02-.2 1.41-.59l7.78-7.78 2.81-2.81c.8-.78.8-2.07 0-2.86zM5.41 20L4 18.59l7.72-7.72 1.47 1.35L5.41 20z\"/>\n",
              "  </svg>\n",
              "      </button>\n",
              "      \n",
              "  <style>\n",
              "    .colab-df-container {\n",
              "      display:flex;\n",
              "      flex-wrap:wrap;\n",
              "      gap: 12px;\n",
              "    }\n",
              "\n",
              "    .colab-df-convert {\n",
              "      background-color: #E8F0FE;\n",
              "      border: none;\n",
              "      border-radius: 50%;\n",
              "      cursor: pointer;\n",
              "      display: none;\n",
              "      fill: #1967D2;\n",
              "      height: 32px;\n",
              "      padding: 0 0 0 0;\n",
              "      width: 32px;\n",
              "    }\n",
              "\n",
              "    .colab-df-convert:hover {\n",
              "      background-color: #E2EBFA;\n",
              "      box-shadow: 0px 1px 2px rgba(60, 64, 67, 0.3), 0px 1px 3px 1px rgba(60, 64, 67, 0.15);\n",
              "      fill: #174EA6;\n",
              "    }\n",
              "\n",
              "    [theme=dark] .colab-df-convert {\n",
              "      background-color: #3B4455;\n",
              "      fill: #D2E3FC;\n",
              "    }\n",
              "\n",
              "    [theme=dark] .colab-df-convert:hover {\n",
              "      background-color: #434B5C;\n",
              "      box-shadow: 0px 1px 3px 1px rgba(0, 0, 0, 0.15);\n",
              "      filter: drop-shadow(0px 1px 2px rgba(0, 0, 0, 0.3));\n",
              "      fill: #FFFFFF;\n",
              "    }\n",
              "  </style>\n",
              "\n",
              "      <script>\n",
              "        const buttonEl =\n",
              "          document.querySelector('#df-5e71ea0f-f153-4894-b434-2fda78f61751 button.colab-df-convert');\n",
              "        buttonEl.style.display =\n",
              "          google.colab.kernel.accessAllowed ? 'block' : 'none';\n",
              "\n",
              "        async function convertToInteractive(key) {\n",
              "          const element = document.querySelector('#df-5e71ea0f-f153-4894-b434-2fda78f61751');\n",
              "          const dataTable =\n",
              "            await google.colab.kernel.invokeFunction('convertToInteractive',\n",
              "                                                     [key], {});\n",
              "          if (!dataTable) return;\n",
              "\n",
              "          const docLinkHtml = 'Like what you see? Visit the ' +\n",
              "            '<a target=\"_blank\" href=https://colab.research.google.com/notebooks/data_table.ipynb>data table notebook</a>'\n",
              "            + ' to learn more about interactive tables.';\n",
              "          element.innerHTML = '';\n",
              "          dataTable['output_type'] = 'display_data';\n",
              "          await google.colab.output.renderOutput(dataTable, element);\n",
              "          const docLink = document.createElement('div');\n",
              "          docLink.innerHTML = docLinkHtml;\n",
              "          element.appendChild(docLink);\n",
              "        }\n",
              "      </script>\n",
              "    </div>\n",
              "  </div>\n",
              "  "
            ],
            "text/plain": [
              "            id vendor_id  ... pickup_neighborhood dropoff_neighborhood\n",
              "0            0         2  ...                  AH                    C\n",
              "649598  679634         1  ...                   D                   AG\n",
              "649599  679635         2  ...                  AV                   AV\n",
              "649600  679636         2  ...                  AP                    H\n",
              "649601  679637         2  ...                   R                    Q\n",
              "649602  679638         2  ...                   J                   AM\n",
              "649603  679639         1  ...                   K                    I\n",
              "649604  679640         1  ...                  AU                   AC\n",
              "649605  679641         1  ...                   A                    X\n",
              "649606  679642         1  ...                   D                    P\n",
              "\n",
              "[10 rows x 14 columns]"
            ]
          },
          "metadata": {},
          "execution_count": 5
        }
      ]
    },
    {
      "cell_type": "markdown",
      "metadata": {
        "id": "sZaPEA07HjtQ"
      },
      "source": [
        "### Display first five rows"
      ]
    },
    {
      "cell_type": "code",
      "execution_count": 20,
      "metadata": {
        "colab": {
          "base_uri": "https://localhost:8080/",
          "height": 357
        },
        "id": "App31D_RHjtR",
        "outputId": "d7aaa7f3-52ab-4da9-d9b0-498c400612f7"
      },
      "outputs": [
        {
          "output_type": "execute_result",
          "data": {
            "text/html": [
              "\n",
              "  <div id=\"df-7e52047b-8e37-4d6e-ad51-cec73ac636bd\">\n",
              "    <div class=\"colab-df-container\">\n",
              "      <div>\n",
              "<style scoped>\n",
              "    .dataframe tbody tr th:only-of-type {\n",
              "        vertical-align: middle;\n",
              "    }\n",
              "\n",
              "    .dataframe tbody tr th {\n",
              "        vertical-align: top;\n",
              "    }\n",
              "\n",
              "    .dataframe thead th {\n",
              "        text-align: right;\n",
              "    }\n",
              "</style>\n",
              "<table border=\"1\" class=\"dataframe\">\n",
              "  <thead>\n",
              "    <tr style=\"text-align: right;\">\n",
              "      <th></th>\n",
              "      <th>id</th>\n",
              "      <th>vendor_id</th>\n",
              "      <th>pickup_datetime</th>\n",
              "      <th>dropoff_datetime</th>\n",
              "      <th>passenger_count</th>\n",
              "      <th>trip_distance</th>\n",
              "      <th>pickup_longitude</th>\n",
              "      <th>pickup_latitude</th>\n",
              "      <th>dropoff_longitude</th>\n",
              "      <th>dropoff_latitude</th>\n",
              "      <th>payment_type</th>\n",
              "      <th>trip_duration</th>\n",
              "      <th>pickup_neighborhood</th>\n",
              "      <th>dropoff_neighborhood</th>\n",
              "    </tr>\n",
              "  </thead>\n",
              "  <tbody>\n",
              "    <tr>\n",
              "      <th>0</th>\n",
              "      <td>0</td>\n",
              "      <td>2</td>\n",
              "      <td>2016-01-01 00:00:00</td>\n",
              "      <td>2016-01-01 00:06:00</td>\n",
              "      <td>3</td>\n",
              "      <td>1.32</td>\n",
              "      <td>-73.961258</td>\n",
              "      <td>40.796200</td>\n",
              "      <td>-73.950050</td>\n",
              "      <td>40.787312</td>\n",
              "      <td>2</td>\n",
              "      <td>372</td>\n",
              "      <td>AH</td>\n",
              "      <td>C</td>\n",
              "    </tr>\n",
              "    <tr>\n",
              "      <th>1</th>\n",
              "      <td>1</td>\n",
              "      <td>2</td>\n",
              "      <td>2016-01-01 00:01:00</td>\n",
              "      <td>2016-01-01 00:27:00</td>\n",
              "      <td>1</td>\n",
              "      <td>13.70</td>\n",
              "      <td>-73.956169</td>\n",
              "      <td>40.707756</td>\n",
              "      <td>-73.939949</td>\n",
              "      <td>40.839558</td>\n",
              "      <td>1</td>\n",
              "      <td>1553</td>\n",
              "      <td>Z</td>\n",
              "      <td>S</td>\n",
              "    </tr>\n",
              "    <tr>\n",
              "      <th>2</th>\n",
              "      <td>2</td>\n",
              "      <td>1</td>\n",
              "      <td>2016-01-01 00:01:00</td>\n",
              "      <td>2016-01-01 00:21:00</td>\n",
              "      <td>2</td>\n",
              "      <td>5.30</td>\n",
              "      <td>-73.993103</td>\n",
              "      <td>40.752632</td>\n",
              "      <td>-73.953903</td>\n",
              "      <td>40.816540</td>\n",
              "      <td>2</td>\n",
              "      <td>1204</td>\n",
              "      <td>D</td>\n",
              "      <td>AL</td>\n",
              "    </tr>\n",
              "    <tr>\n",
              "      <th>3</th>\n",
              "      <td>3</td>\n",
              "      <td>2</td>\n",
              "      <td>2016-01-01 00:01:00</td>\n",
              "      <td>2016-01-01 00:16:00</td>\n",
              "      <td>1</td>\n",
              "      <td>7.19</td>\n",
              "      <td>-73.983009</td>\n",
              "      <td>40.731419</td>\n",
              "      <td>-73.930969</td>\n",
              "      <td>40.808460</td>\n",
              "      <td>2</td>\n",
              "      <td>858</td>\n",
              "      <td>AT</td>\n",
              "      <td>J</td>\n",
              "    </tr>\n",
              "    <tr>\n",
              "      <th>4</th>\n",
              "      <td>4</td>\n",
              "      <td>1</td>\n",
              "      <td>2016-01-01 00:02:00</td>\n",
              "      <td>2016-01-01 00:20:00</td>\n",
              "      <td>2</td>\n",
              "      <td>2.90</td>\n",
              "      <td>-74.004631</td>\n",
              "      <td>40.747234</td>\n",
              "      <td>-73.976395</td>\n",
              "      <td>40.777237</td>\n",
              "      <td>1</td>\n",
              "      <td>1076</td>\n",
              "      <td>AG</td>\n",
              "      <td>AV</td>\n",
              "    </tr>\n",
              "  </tbody>\n",
              "</table>\n",
              "</div>\n",
              "      <button class=\"colab-df-convert\" onclick=\"convertToInteractive('df-7e52047b-8e37-4d6e-ad51-cec73ac636bd')\"\n",
              "              title=\"Convert this dataframe to an interactive table.\"\n",
              "              style=\"display:none;\">\n",
              "        \n",
              "  <svg xmlns=\"http://www.w3.org/2000/svg\" height=\"24px\"viewBox=\"0 0 24 24\"\n",
              "       width=\"24px\">\n",
              "    <path d=\"M0 0h24v24H0V0z\" fill=\"none\"/>\n",
              "    <path d=\"M18.56 5.44l.94 2.06.94-2.06 2.06-.94-2.06-.94-.94-2.06-.94 2.06-2.06.94zm-11 1L8.5 8.5l.94-2.06 2.06-.94-2.06-.94L8.5 2.5l-.94 2.06-2.06.94zm10 10l.94 2.06.94-2.06 2.06-.94-2.06-.94-.94-2.06-.94 2.06-2.06.94z\"/><path d=\"M17.41 7.96l-1.37-1.37c-.4-.4-.92-.59-1.43-.59-.52 0-1.04.2-1.43.59L10.3 9.45l-7.72 7.72c-.78.78-.78 2.05 0 2.83L4 21.41c.39.39.9.59 1.41.59.51 0 1.02-.2 1.41-.59l7.78-7.78 2.81-2.81c.8-.78.8-2.07 0-2.86zM5.41 20L4 18.59l7.72-7.72 1.47 1.35L5.41 20z\"/>\n",
              "  </svg>\n",
              "      </button>\n",
              "      \n",
              "  <style>\n",
              "    .colab-df-container {\n",
              "      display:flex;\n",
              "      flex-wrap:wrap;\n",
              "      gap: 12px;\n",
              "    }\n",
              "\n",
              "    .colab-df-convert {\n",
              "      background-color: #E8F0FE;\n",
              "      border: none;\n",
              "      border-radius: 50%;\n",
              "      cursor: pointer;\n",
              "      display: none;\n",
              "      fill: #1967D2;\n",
              "      height: 32px;\n",
              "      padding: 0 0 0 0;\n",
              "      width: 32px;\n",
              "    }\n",
              "\n",
              "    .colab-df-convert:hover {\n",
              "      background-color: #E2EBFA;\n",
              "      box-shadow: 0px 1px 2px rgba(60, 64, 67, 0.3), 0px 1px 3px 1px rgba(60, 64, 67, 0.15);\n",
              "      fill: #174EA6;\n",
              "    }\n",
              "\n",
              "    [theme=dark] .colab-df-convert {\n",
              "      background-color: #3B4455;\n",
              "      fill: #D2E3FC;\n",
              "    }\n",
              "\n",
              "    [theme=dark] .colab-df-convert:hover {\n",
              "      background-color: #434B5C;\n",
              "      box-shadow: 0px 1px 3px 1px rgba(0, 0, 0, 0.15);\n",
              "      filter: drop-shadow(0px 1px 2px rgba(0, 0, 0, 0.3));\n",
              "      fill: #FFFFFF;\n",
              "    }\n",
              "  </style>\n",
              "\n",
              "      <script>\n",
              "        const buttonEl =\n",
              "          document.querySelector('#df-7e52047b-8e37-4d6e-ad51-cec73ac636bd button.colab-df-convert');\n",
              "        buttonEl.style.display =\n",
              "          google.colab.kernel.accessAllowed ? 'block' : 'none';\n",
              "\n",
              "        async function convertToInteractive(key) {\n",
              "          const element = document.querySelector('#df-7e52047b-8e37-4d6e-ad51-cec73ac636bd');\n",
              "          const dataTable =\n",
              "            await google.colab.kernel.invokeFunction('convertToInteractive',\n",
              "                                                     [key], {});\n",
              "          if (!dataTable) return;\n",
              "\n",
              "          const docLinkHtml = 'Like what you see? Visit the ' +\n",
              "            '<a target=\"_blank\" href=https://colab.research.google.com/notebooks/data_table.ipynb>data table notebook</a>'\n",
              "            + ' to learn more about interactive tables.';\n",
              "          element.innerHTML = '';\n",
              "          dataTable['output_type'] = 'display_data';\n",
              "          await google.colab.output.renderOutput(dataTable, element);\n",
              "          const docLink = document.createElement('div');\n",
              "          docLink.innerHTML = docLinkHtml;\n",
              "          element.appendChild(docLink);\n",
              "        }\n",
              "      </script>\n",
              "    </div>\n",
              "  </div>\n",
              "  "
            ],
            "text/plain": [
              "   id vendor_id  ... pickup_neighborhood dropoff_neighborhood\n",
              "0   0         2  ...                  AH                    C\n",
              "1   1         2  ...                   Z                    S\n",
              "2   2         1  ...                   D                   AL\n",
              "3   3         2  ...                  AT                    J\n",
              "4   4         1  ...                  AG                   AV\n",
              "\n",
              "[5 rows x 14 columns]"
            ]
          },
          "metadata": {},
          "execution_count": 20
        }
      ],
      "source": [
        "trips.head()"
      ]
    },
    {
      "cell_type": "markdown",
      "metadata": {
        "id": "goPEux6dHjtR"
      },
      "source": [
        "### Display info of the dataset"
      ]
    },
    {
      "cell_type": "code",
      "execution_count": 21,
      "metadata": {
        "colab": {
          "base_uri": "https://localhost:8080/"
        },
        "id": "pYcGPP6rHjtR",
        "outputId": "db0fba13-f416-4a98-f935-4097461869ce"
      },
      "outputs": [
        {
          "output_type": "stream",
          "name": "stdout",
          "text": [
            "<class 'pandas.core.frame.DataFrame'>\n",
            "Int64Index: 974409 entries, 0 to 974408\n",
            "Data columns (total 14 columns):\n",
            " #   Column                Non-Null Count   Dtype         \n",
            "---  ------                --------------   -----         \n",
            " 0   id                    974409 non-null  int64         \n",
            " 1   vendor_id             974409 non-null  category      \n",
            " 2   pickup_datetime       974409 non-null  datetime64[ns]\n",
            " 3   dropoff_datetime      974409 non-null  datetime64[ns]\n",
            " 4   passenger_count       974409 non-null  int64         \n",
            " 5   trip_distance         974409 non-null  float64       \n",
            " 6   pickup_longitude      974409 non-null  float64       \n",
            " 7   pickup_latitude       974409 non-null  float64       \n",
            " 8   dropoff_longitude     974409 non-null  float64       \n",
            " 9   dropoff_latitude      974409 non-null  float64       \n",
            " 10  payment_type          974409 non-null  object        \n",
            " 11  trip_duration         974409 non-null  int64         \n",
            " 12  pickup_neighborhood   974409 non-null  object        \n",
            " 13  dropoff_neighborhood  974409 non-null  object        \n",
            "dtypes: category(1), datetime64[ns](2), float64(5), int64(3), object(3)\n",
            "memory usage: 137.3+ MB\n"
          ]
        }
      ],
      "source": [
        "#checking the info of the dataset\n",
        "trips.info()"
      ]
    },
    {
      "cell_type": "markdown",
      "metadata": {
        "id": "h8uZVLtfHjtS"
      },
      "source": [
        "- There are 974409 non null values in the dataset"
      ]
    },
    {
      "cell_type": "markdown",
      "metadata": {
        "id": "QWaWHUfSHjtS"
      },
      "source": [
        "### Check the number of unique values in the dataset."
      ]
    },
    {
      "cell_type": "code",
      "execution_count": 22,
      "metadata": {
        "colab": {
          "base_uri": "https://localhost:8080/"
        },
        "id": "4p8jB5HDHjtS",
        "outputId": "2d971863-e9d2-4ea5-e145-8202e274e48e"
      },
      "outputs": [
        {
          "output_type": "execute_result",
          "data": {
            "text/plain": [
              "id                      974409\n",
              "vendor_id                    2\n",
              "pickup_datetime         234894\n",
              "dropoff_datetime        235123\n",
              "passenger_count              8\n",
              "trip_distance             2503\n",
              "pickup_longitude         20222\n",
              "pickup_latitude          40692\n",
              "dropoff_longitude        26127\n",
              "dropoff_latitude         50077\n",
              "payment_type                 4\n",
              "trip_duration             3607\n",
              "pickup_neighborhood         49\n",
              "dropoff_neighborhood        49\n",
              "dtype: int64"
            ]
          },
          "metadata": {},
          "execution_count": 22
        }
      ],
      "source": [
        "# Check the uniques values in each columns\n",
        "trips.nunique()"
      ]
    },
    {
      "cell_type": "markdown",
      "metadata": {
        "id": "ymKVeOHNHjtT"
      },
      "source": [
        "**Write your answers here:_____**\n",
        "- vendor_id has only 2 unique values, implies there are only 2 major taxi vendors are there. \n",
        "- Passenger count has 8 unique values and payment type have 4. \n",
        "- There are 49 neighborhood in the dataset, from where either a pickup or dropoff is happening. "
      ]
    },
    {
      "cell_type": "markdown",
      "metadata": {
        "id": "no3vVVLKHjtT"
      },
      "source": [
        "### Question 1 : Check summary statistics of the dataset (1 Mark)"
      ]
    },
    {
      "cell_type": "code",
      "execution_count": 23,
      "metadata": {
        "colab": {
          "base_uri": "https://localhost:8080/",
          "height": 300
        },
        "id": "4EW-su-jHjtT",
        "outputId": "f04b7b06-0fe7-49fd-da53-4707c9ae9b47"
      },
      "outputs": [
        {
          "output_type": "execute_result",
          "data": {
            "text/html": [
              "\n",
              "  <div id=\"df-c424b60d-e0f9-4fa4-9c8c-23a26c20acbc\">\n",
              "    <div class=\"colab-df-container\">\n",
              "      <div>\n",
              "<style scoped>\n",
              "    .dataframe tbody tr th:only-of-type {\n",
              "        vertical-align: middle;\n",
              "    }\n",
              "\n",
              "    .dataframe tbody tr th {\n",
              "        vertical-align: top;\n",
              "    }\n",
              "\n",
              "    .dataframe thead th {\n",
              "        text-align: right;\n",
              "    }\n",
              "</style>\n",
              "<table border=\"1\" class=\"dataframe\">\n",
              "  <thead>\n",
              "    <tr style=\"text-align: right;\">\n",
              "      <th></th>\n",
              "      <th>id</th>\n",
              "      <th>passenger_count</th>\n",
              "      <th>trip_distance</th>\n",
              "      <th>pickup_longitude</th>\n",
              "      <th>pickup_latitude</th>\n",
              "      <th>dropoff_longitude</th>\n",
              "      <th>dropoff_latitude</th>\n",
              "      <th>trip_duration</th>\n",
              "    </tr>\n",
              "  </thead>\n",
              "  <tbody>\n",
              "    <tr>\n",
              "      <th>count</th>\n",
              "      <td>9.744090e+05</td>\n",
              "      <td>974409.000000</td>\n",
              "      <td>974409.000000</td>\n",
              "      <td>974409.000000</td>\n",
              "      <td>974409.000000</td>\n",
              "      <td>974409.000000</td>\n",
              "      <td>974409.000000</td>\n",
              "      <td>974409.000000</td>\n",
              "    </tr>\n",
              "    <tr>\n",
              "      <th>mean</th>\n",
              "      <td>5.096223e+05</td>\n",
              "      <td>1.664010</td>\n",
              "      <td>2.734356</td>\n",
              "      <td>-73.973275</td>\n",
              "      <td>40.752475</td>\n",
              "      <td>-73.972825</td>\n",
              "      <td>40.753046</td>\n",
              "      <td>797.702753</td>\n",
              "    </tr>\n",
              "    <tr>\n",
              "      <th>std</th>\n",
              "      <td>2.944916e+05</td>\n",
              "      <td>1.314975</td>\n",
              "      <td>3.307038</td>\n",
              "      <td>0.035702</td>\n",
              "      <td>0.026668</td>\n",
              "      <td>0.031348</td>\n",
              "      <td>0.029151</td>\n",
              "      <td>576.802176</td>\n",
              "    </tr>\n",
              "    <tr>\n",
              "      <th>min</th>\n",
              "      <td>0.000000e+00</td>\n",
              "      <td>0.000000</td>\n",
              "      <td>0.000000</td>\n",
              "      <td>-74.029846</td>\n",
              "      <td>40.630268</td>\n",
              "      <td>-74.029945</td>\n",
              "      <td>40.630009</td>\n",
              "      <td>0.000000</td>\n",
              "    </tr>\n",
              "    <tr>\n",
              "      <th>25%</th>\n",
              "      <td>2.545210e+05</td>\n",
              "      <td>1.000000</td>\n",
              "      <td>1.000000</td>\n",
              "      <td>-73.991058</td>\n",
              "      <td>40.739689</td>\n",
              "      <td>-73.990356</td>\n",
              "      <td>40.738792</td>\n",
              "      <td>389.000000</td>\n",
              "    </tr>\n",
              "    <tr>\n",
              "      <th>50%</th>\n",
              "      <td>5.093100e+05</td>\n",
              "      <td>1.000000</td>\n",
              "      <td>1.640000</td>\n",
              "      <td>-73.981178</td>\n",
              "      <td>40.755390</td>\n",
              "      <td>-73.979156</td>\n",
              "      <td>40.755650</td>\n",
              "      <td>646.000000</td>\n",
              "    </tr>\n",
              "    <tr>\n",
              "      <th>75%</th>\n",
              "      <td>7.647430e+05</td>\n",
              "      <td>2.000000</td>\n",
              "      <td>2.990000</td>\n",
              "      <td>-73.966888</td>\n",
              "      <td>40.768929</td>\n",
              "      <td>-73.962769</td>\n",
              "      <td>40.770454</td>\n",
              "      <td>1040.000000</td>\n",
              "    </tr>\n",
              "    <tr>\n",
              "      <th>max</th>\n",
              "      <td>1.020002e+06</td>\n",
              "      <td>9.000000</td>\n",
              "      <td>502.800000</td>\n",
              "      <td>-73.770508</td>\n",
              "      <td>40.849911</td>\n",
              "      <td>-73.770020</td>\n",
              "      <td>40.849998</td>\n",
              "      <td>3606.000000</td>\n",
              "    </tr>\n",
              "  </tbody>\n",
              "</table>\n",
              "</div>\n",
              "      <button class=\"colab-df-convert\" onclick=\"convertToInteractive('df-c424b60d-e0f9-4fa4-9c8c-23a26c20acbc')\"\n",
              "              title=\"Convert this dataframe to an interactive table.\"\n",
              "              style=\"display:none;\">\n",
              "        \n",
              "  <svg xmlns=\"http://www.w3.org/2000/svg\" height=\"24px\"viewBox=\"0 0 24 24\"\n",
              "       width=\"24px\">\n",
              "    <path d=\"M0 0h24v24H0V0z\" fill=\"none\"/>\n",
              "    <path d=\"M18.56 5.44l.94 2.06.94-2.06 2.06-.94-2.06-.94-.94-2.06-.94 2.06-2.06.94zm-11 1L8.5 8.5l.94-2.06 2.06-.94-2.06-.94L8.5 2.5l-.94 2.06-2.06.94zm10 10l.94 2.06.94-2.06 2.06-.94-2.06-.94-.94-2.06-.94 2.06-2.06.94z\"/><path d=\"M17.41 7.96l-1.37-1.37c-.4-.4-.92-.59-1.43-.59-.52 0-1.04.2-1.43.59L10.3 9.45l-7.72 7.72c-.78.78-.78 2.05 0 2.83L4 21.41c.39.39.9.59 1.41.59.51 0 1.02-.2 1.41-.59l7.78-7.78 2.81-2.81c.8-.78.8-2.07 0-2.86zM5.41 20L4 18.59l7.72-7.72 1.47 1.35L5.41 20z\"/>\n",
              "  </svg>\n",
              "      </button>\n",
              "      \n",
              "  <style>\n",
              "    .colab-df-container {\n",
              "      display:flex;\n",
              "      flex-wrap:wrap;\n",
              "      gap: 12px;\n",
              "    }\n",
              "\n",
              "    .colab-df-convert {\n",
              "      background-color: #E8F0FE;\n",
              "      border: none;\n",
              "      border-radius: 50%;\n",
              "      cursor: pointer;\n",
              "      display: none;\n",
              "      fill: #1967D2;\n",
              "      height: 32px;\n",
              "      padding: 0 0 0 0;\n",
              "      width: 32px;\n",
              "    }\n",
              "\n",
              "    .colab-df-convert:hover {\n",
              "      background-color: #E2EBFA;\n",
              "      box-shadow: 0px 1px 2px rgba(60, 64, 67, 0.3), 0px 1px 3px 1px rgba(60, 64, 67, 0.15);\n",
              "      fill: #174EA6;\n",
              "    }\n",
              "\n",
              "    [theme=dark] .colab-df-convert {\n",
              "      background-color: #3B4455;\n",
              "      fill: #D2E3FC;\n",
              "    }\n",
              "\n",
              "    [theme=dark] .colab-df-convert:hover {\n",
              "      background-color: #434B5C;\n",
              "      box-shadow: 0px 1px 3px 1px rgba(0, 0, 0, 0.15);\n",
              "      filter: drop-shadow(0px 1px 2px rgba(0, 0, 0, 0.3));\n",
              "      fill: #FFFFFF;\n",
              "    }\n",
              "  </style>\n",
              "\n",
              "      <script>\n",
              "        const buttonEl =\n",
              "          document.querySelector('#df-c424b60d-e0f9-4fa4-9c8c-23a26c20acbc button.colab-df-convert');\n",
              "        buttonEl.style.display =\n",
              "          google.colab.kernel.accessAllowed ? 'block' : 'none';\n",
              "\n",
              "        async function convertToInteractive(key) {\n",
              "          const element = document.querySelector('#df-c424b60d-e0f9-4fa4-9c8c-23a26c20acbc');\n",
              "          const dataTable =\n",
              "            await google.colab.kernel.invokeFunction('convertToInteractive',\n",
              "                                                     [key], {});\n",
              "          if (!dataTable) return;\n",
              "\n",
              "          const docLinkHtml = 'Like what you see? Visit the ' +\n",
              "            '<a target=\"_blank\" href=https://colab.research.google.com/notebooks/data_table.ipynb>data table notebook</a>'\n",
              "            + ' to learn more about interactive tables.';\n",
              "          element.innerHTML = '';\n",
              "          dataTable['output_type'] = 'display_data';\n",
              "          await google.colab.output.renderOutput(dataTable, element);\n",
              "          const docLink = document.createElement('div');\n",
              "          docLink.innerHTML = docLinkHtml;\n",
              "          element.appendChild(docLink);\n",
              "        }\n",
              "      </script>\n",
              "    </div>\n",
              "  </div>\n",
              "  "
            ],
            "text/plain": [
              "                 id  passenger_count  ...  dropoff_latitude  trip_duration\n",
              "count  9.744090e+05    974409.000000  ...     974409.000000  974409.000000\n",
              "mean   5.096223e+05         1.664010  ...         40.753046     797.702753\n",
              "std    2.944916e+05         1.314975  ...          0.029151     576.802176\n",
              "min    0.000000e+00         0.000000  ...         40.630009       0.000000\n",
              "25%    2.545210e+05         1.000000  ...         40.738792     389.000000\n",
              "50%    5.093100e+05         1.000000  ...         40.755650     646.000000\n",
              "75%    7.647430e+05         2.000000  ...         40.770454    1040.000000\n",
              "max    1.020002e+06         9.000000  ...         40.849998    3606.000000\n",
              "\n",
              "[8 rows x 8 columns]"
            ]
          },
          "metadata": {},
          "execution_count": 23
        }
      ],
      "source": [
        "#chekcing the descriptive stats of the data\n",
        "\n",
        "#Remove _________ and complete the code\n",
        "\n",
        "trips.describe()"
      ]
    },
    {
      "cell_type": "markdown",
      "metadata": {
        "id": "Yb6VTLl4HjtU"
      },
      "source": [
        "**Write your answers here:_____**\n",
        "\n",
        "- The median and 75% of the passenger count is 1 and  2 respectively. \n",
        "- Average trip distance is 2.73 miles, with a maximum value of 502 miles and Minimum for trip distance is 0 miles.\n",
        "- Average trip duration is 797.7 sec. (assuming this is in seconds, since the meta data does not specify this unit)"
      ]
    },
    {
      "cell_type": "markdown",
      "metadata": {
        "id": "ihSzmZljHjtU"
      },
      "source": [
        "#### Checking for the rows for which trip_distance is 0"
      ]
    },
    {
      "cell_type": "code",
      "execution_count": 6,
      "metadata": {
        "colab": {
          "base_uri": "https://localhost:8080/",
          "height": 661
        },
        "id": "YkfrbRNBHjtV",
        "outputId": "bea9816e-0e44-475e-a06e-1621f1562610"
      },
      "outputs": [
        {
          "output_type": "execute_result",
          "data": {
            "text/html": [
              "\n",
              "  <div id=\"df-7ed9afe4-5183-4a5e-ab9d-799e06a4532d\">\n",
              "    <div class=\"colab-df-container\">\n",
              "      <div>\n",
              "<style scoped>\n",
              "    .dataframe tbody tr th:only-of-type {\n",
              "        vertical-align: middle;\n",
              "    }\n",
              "\n",
              "    .dataframe tbody tr th {\n",
              "        vertical-align: top;\n",
              "    }\n",
              "\n",
              "    .dataframe thead th {\n",
              "        text-align: right;\n",
              "    }\n",
              "</style>\n",
              "<table border=\"1\" class=\"dataframe\">\n",
              "  <thead>\n",
              "    <tr style=\"text-align: right;\">\n",
              "      <th></th>\n",
              "      <th>id</th>\n",
              "      <th>vendor_id</th>\n",
              "      <th>pickup_datetime</th>\n",
              "      <th>dropoff_datetime</th>\n",
              "      <th>passenger_count</th>\n",
              "      <th>trip_distance</th>\n",
              "      <th>pickup_longitude</th>\n",
              "      <th>pickup_latitude</th>\n",
              "      <th>dropoff_longitude</th>\n",
              "      <th>dropoff_latitude</th>\n",
              "      <th>payment_type</th>\n",
              "      <th>trip_duration</th>\n",
              "      <th>pickup_neighborhood</th>\n",
              "      <th>dropoff_neighborhood</th>\n",
              "    </tr>\n",
              "  </thead>\n",
              "  <tbody>\n",
              "    <tr>\n",
              "      <th>852</th>\n",
              "      <td>880</td>\n",
              "      <td>1</td>\n",
              "      <td>2016-01-01 02:15:00</td>\n",
              "      <td>2016-01-01 02:16:00</td>\n",
              "      <td>1</td>\n",
              "      <td>0.0</td>\n",
              "      <td>-74.002586</td>\n",
              "      <td>40.750298</td>\n",
              "      <td>-74.002861</td>\n",
              "      <td>40.750446</td>\n",
              "      <td>2</td>\n",
              "      <td>21</td>\n",
              "      <td>AG</td>\n",
              "      <td>AG</td>\n",
              "    </tr>\n",
              "    <tr>\n",
              "      <th>1079</th>\n",
              "      <td>1116</td>\n",
              "      <td>1</td>\n",
              "      <td>2016-01-01 03:01:00</td>\n",
              "      <td>2016-01-01 03:03:00</td>\n",
              "      <td>1</td>\n",
              "      <td>0.0</td>\n",
              "      <td>-73.987831</td>\n",
              "      <td>40.728558</td>\n",
              "      <td>-73.988747</td>\n",
              "      <td>40.727280</td>\n",
              "      <td>3</td>\n",
              "      <td>136</td>\n",
              "      <td>H</td>\n",
              "      <td>H</td>\n",
              "    </tr>\n",
              "    <tr>\n",
              "      <th>1408</th>\n",
              "      <td>1455</td>\n",
              "      <td>2</td>\n",
              "      <td>2016-01-01 04:09:00</td>\n",
              "      <td>2016-01-01 04:10:00</td>\n",
              "      <td>1</td>\n",
              "      <td>0.0</td>\n",
              "      <td>-73.985893</td>\n",
              "      <td>40.763649</td>\n",
              "      <td>-73.985741</td>\n",
              "      <td>40.763672</td>\n",
              "      <td>2</td>\n",
              "      <td>65</td>\n",
              "      <td>AR</td>\n",
              "      <td>AR</td>\n",
              "    </tr>\n",
              "    <tr>\n",
              "      <th>1440</th>\n",
              "      <td>1488</td>\n",
              "      <td>1</td>\n",
              "      <td>2016-01-01 04:16:00</td>\n",
              "      <td>2016-01-01 04:16:00</td>\n",
              "      <td>1</td>\n",
              "      <td>0.0</td>\n",
              "      <td>-74.014198</td>\n",
              "      <td>40.709988</td>\n",
              "      <td>-74.014198</td>\n",
              "      <td>40.709988</td>\n",
              "      <td>3</td>\n",
              "      <td>3</td>\n",
              "      <td>AU</td>\n",
              "      <td>AU</td>\n",
              "    </tr>\n",
              "    <tr>\n",
              "      <th>1510</th>\n",
              "      <td>1558</td>\n",
              "      <td>1</td>\n",
              "      <td>2016-01-01 04:36:00</td>\n",
              "      <td>2016-01-01 04:36:00</td>\n",
              "      <td>1</td>\n",
              "      <td>0.0</td>\n",
              "      <td>-73.952507</td>\n",
              "      <td>40.817329</td>\n",
              "      <td>-73.952499</td>\n",
              "      <td>40.817322</td>\n",
              "      <td>2</td>\n",
              "      <td>13</td>\n",
              "      <td>AL</td>\n",
              "      <td>AL</td>\n",
              "    </tr>\n",
              "    <tr>\n",
              "      <th>...</th>\n",
              "      <td>...</td>\n",
              "      <td>...</td>\n",
              "      <td>...</td>\n",
              "      <td>...</td>\n",
              "      <td>...</td>\n",
              "      <td>...</td>\n",
              "      <td>...</td>\n",
              "      <td>...</td>\n",
              "      <td>...</td>\n",
              "      <td>...</td>\n",
              "      <td>...</td>\n",
              "      <td>...</td>\n",
              "      <td>...</td>\n",
              "      <td>...</td>\n",
              "    </tr>\n",
              "    <tr>\n",
              "      <th>972967</th>\n",
              "      <td>1018490</td>\n",
              "      <td>1</td>\n",
              "      <td>2016-06-30 19:09:00</td>\n",
              "      <td>2016-06-30 19:22:00</td>\n",
              "      <td>1</td>\n",
              "      <td>0.0</td>\n",
              "      <td>-73.945480</td>\n",
              "      <td>40.751400</td>\n",
              "      <td>-73.945496</td>\n",
              "      <td>40.751549</td>\n",
              "      <td>2</td>\n",
              "      <td>757</td>\n",
              "      <td>AN</td>\n",
              "      <td>AN</td>\n",
              "    </tr>\n",
              "    <tr>\n",
              "      <th>973384</th>\n",
              "      <td>1018928</td>\n",
              "      <td>2</td>\n",
              "      <td>2016-06-30 20:35:00</td>\n",
              "      <td>2016-06-30 20:35:00</td>\n",
              "      <td>1</td>\n",
              "      <td>0.0</td>\n",
              "      <td>-73.983864</td>\n",
              "      <td>40.693813</td>\n",
              "      <td>-73.983910</td>\n",
              "      <td>40.693817</td>\n",
              "      <td>1</td>\n",
              "      <td>2</td>\n",
              "      <td>AS</td>\n",
              "      <td>AS</td>\n",
              "    </tr>\n",
              "    <tr>\n",
              "      <th>973555</th>\n",
              "      <td>1019105</td>\n",
              "      <td>2</td>\n",
              "      <td>2016-06-30 21:13:00</td>\n",
              "      <td>2016-06-30 21:14:00</td>\n",
              "      <td>1</td>\n",
              "      <td>0.0</td>\n",
              "      <td>-74.008789</td>\n",
              "      <td>40.708740</td>\n",
              "      <td>-74.008659</td>\n",
              "      <td>40.708858</td>\n",
              "      <td>1</td>\n",
              "      <td>15</td>\n",
              "      <td>AU</td>\n",
              "      <td>AU</td>\n",
              "    </tr>\n",
              "    <tr>\n",
              "      <th>973607</th>\n",
              "      <td>1019159</td>\n",
              "      <td>2</td>\n",
              "      <td>2016-06-30 21:24:00</td>\n",
              "      <td>2016-06-30 21:37:00</td>\n",
              "      <td>1</td>\n",
              "      <td>0.0</td>\n",
              "      <td>-73.974510</td>\n",
              "      <td>40.778297</td>\n",
              "      <td>-73.977272</td>\n",
              "      <td>40.754047</td>\n",
              "      <td>1</td>\n",
              "      <td>797</td>\n",
              "      <td>I</td>\n",
              "      <td>AD</td>\n",
              "    </tr>\n",
              "    <tr>\n",
              "      <th>973898</th>\n",
              "      <td>1019464</td>\n",
              "      <td>2</td>\n",
              "      <td>2016-06-30 22:20:00</td>\n",
              "      <td>2016-06-30 22:43:00</td>\n",
              "      <td>2</td>\n",
              "      <td>0.0</td>\n",
              "      <td>-73.978920</td>\n",
              "      <td>40.688160</td>\n",
              "      <td>-73.992317</td>\n",
              "      <td>40.749359</td>\n",
              "      <td>1</td>\n",
              "      <td>1364</td>\n",
              "      <td>V</td>\n",
              "      <td>D</td>\n",
              "    </tr>\n",
              "  </tbody>\n",
              "</table>\n",
              "<p>3807 rows × 14 columns</p>\n",
              "</div>\n",
              "      <button class=\"colab-df-convert\" onclick=\"convertToInteractive('df-7ed9afe4-5183-4a5e-ab9d-799e06a4532d')\"\n",
              "              title=\"Convert this dataframe to an interactive table.\"\n",
              "              style=\"display:none;\">\n",
              "        \n",
              "  <svg xmlns=\"http://www.w3.org/2000/svg\" height=\"24px\"viewBox=\"0 0 24 24\"\n",
              "       width=\"24px\">\n",
              "    <path d=\"M0 0h24v24H0V0z\" fill=\"none\"/>\n",
              "    <path d=\"M18.56 5.44l.94 2.06.94-2.06 2.06-.94-2.06-.94-.94-2.06-.94 2.06-2.06.94zm-11 1L8.5 8.5l.94-2.06 2.06-.94-2.06-.94L8.5 2.5l-.94 2.06-2.06.94zm10 10l.94 2.06.94-2.06 2.06-.94-2.06-.94-.94-2.06-.94 2.06-2.06.94z\"/><path d=\"M17.41 7.96l-1.37-1.37c-.4-.4-.92-.59-1.43-.59-.52 0-1.04.2-1.43.59L10.3 9.45l-7.72 7.72c-.78.78-.78 2.05 0 2.83L4 21.41c.39.39.9.59 1.41.59.51 0 1.02-.2 1.41-.59l7.78-7.78 2.81-2.81c.8-.78.8-2.07 0-2.86zM5.41 20L4 18.59l7.72-7.72 1.47 1.35L5.41 20z\"/>\n",
              "  </svg>\n",
              "      </button>\n",
              "      \n",
              "  <style>\n",
              "    .colab-df-container {\n",
              "      display:flex;\n",
              "      flex-wrap:wrap;\n",
              "      gap: 12px;\n",
              "    }\n",
              "\n",
              "    .colab-df-convert {\n",
              "      background-color: #E8F0FE;\n",
              "      border: none;\n",
              "      border-radius: 50%;\n",
              "      cursor: pointer;\n",
              "      display: none;\n",
              "      fill: #1967D2;\n",
              "      height: 32px;\n",
              "      padding: 0 0 0 0;\n",
              "      width: 32px;\n",
              "    }\n",
              "\n",
              "    .colab-df-convert:hover {\n",
              "      background-color: #E2EBFA;\n",
              "      box-shadow: 0px 1px 2px rgba(60, 64, 67, 0.3), 0px 1px 3px 1px rgba(60, 64, 67, 0.15);\n",
              "      fill: #174EA6;\n",
              "    }\n",
              "\n",
              "    [theme=dark] .colab-df-convert {\n",
              "      background-color: #3B4455;\n",
              "      fill: #D2E3FC;\n",
              "    }\n",
              "\n",
              "    [theme=dark] .colab-df-convert:hover {\n",
              "      background-color: #434B5C;\n",
              "      box-shadow: 0px 1px 3px 1px rgba(0, 0, 0, 0.15);\n",
              "      filter: drop-shadow(0px 1px 2px rgba(0, 0, 0, 0.3));\n",
              "      fill: #FFFFFF;\n",
              "    }\n",
              "  </style>\n",
              "\n",
              "      <script>\n",
              "        const buttonEl =\n",
              "          document.querySelector('#df-7ed9afe4-5183-4a5e-ab9d-799e06a4532d button.colab-df-convert');\n",
              "        buttonEl.style.display =\n",
              "          google.colab.kernel.accessAllowed ? 'block' : 'none';\n",
              "\n",
              "        async function convertToInteractive(key) {\n",
              "          const element = document.querySelector('#df-7ed9afe4-5183-4a5e-ab9d-799e06a4532d');\n",
              "          const dataTable =\n",
              "            await google.colab.kernel.invokeFunction('convertToInteractive',\n",
              "                                                     [key], {});\n",
              "          if (!dataTable) return;\n",
              "\n",
              "          const docLinkHtml = 'Like what you see? Visit the ' +\n",
              "            '<a target=\"_blank\" href=https://colab.research.google.com/notebooks/data_table.ipynb>data table notebook</a>'\n",
              "            + ' to learn more about interactive tables.';\n",
              "          element.innerHTML = '';\n",
              "          dataTable['output_type'] = 'display_data';\n",
              "          await google.colab.output.renderOutput(dataTable, element);\n",
              "          const docLink = document.createElement('div');\n",
              "          docLink.innerHTML = docLinkHtml;\n",
              "          element.appendChild(docLink);\n",
              "        }\n",
              "      </script>\n",
              "    </div>\n",
              "  </div>\n",
              "  "
            ],
            "text/plain": [
              "             id vendor_id  ... pickup_neighborhood dropoff_neighborhood\n",
              "852         880         1  ...                  AG                   AG\n",
              "1079       1116         1  ...                   H                    H\n",
              "1408       1455         2  ...                  AR                   AR\n",
              "1440       1488         1  ...                  AU                   AU\n",
              "1510       1558         1  ...                  AL                   AL\n",
              "...         ...       ...  ...                 ...                  ...\n",
              "972967  1018490         1  ...                  AN                   AN\n",
              "973384  1018928         2  ...                  AS                   AS\n",
              "973555  1019105         2  ...                  AU                   AU\n",
              "973607  1019159         2  ...                   I                   AD\n",
              "973898  1019464         2  ...                   V                    D\n",
              "\n",
              "[3807 rows x 14 columns]"
            ]
          },
          "metadata": {},
          "execution_count": 6
        }
      ],
      "source": [
        "#Chekcing the rows where trip distance is 0\n",
        "trips[trips['trip_distance']==0]"
      ]
    },
    {
      "cell_type": "markdown",
      "metadata": {
        "id": "ysi2Kdl7HjtV"
      },
      "source": [
        "**Write your answers here:_____**\n",
        "- We can observe that, where trip distance is 0 trip duration is not 0, hence we can replace those values. \n",
        "- There are 3807 such rows"
      ]
    },
    {
      "cell_type": "markdown",
      "metadata": {
        "id": "QXzGzXBQHjtW"
      },
      "source": [
        "#### Replacing the 0 values with median of the trip distance"
      ]
    },
    {
      "cell_type": "code",
      "execution_count": 7,
      "metadata": {
        "id": "M9w-jy4RHjtW"
      },
      "outputs": [],
      "source": [
        "trips['trip_distance']=trips['trip_distance'].replace(0,trips['trip_distance'].median())"
      ]
    },
    {
      "cell_type": "code",
      "execution_count": 26,
      "metadata": {
        "colab": {
          "base_uri": "https://localhost:8080/"
        },
        "id": "unYe9HAgHjtW",
        "outputId": "eac8484d-6205-4e09-c02b-cbdc55927b2b"
      },
      "outputs": [
        {
          "output_type": "execute_result",
          "data": {
            "text/plain": [
              "id                      0\n",
              "vendor_id               0\n",
              "pickup_datetime         0\n",
              "dropoff_datetime        0\n",
              "passenger_count         0\n",
              "trip_distance           0\n",
              "pickup_longitude        0\n",
              "pickup_latitude         0\n",
              "dropoff_longitude       0\n",
              "dropoff_latitude        0\n",
              "payment_type            0\n",
              "trip_duration           0\n",
              "pickup_neighborhood     0\n",
              "dropoff_neighborhood    0\n",
              "dtype: int64"
            ]
          },
          "metadata": {},
          "execution_count": 26
        }
      ],
      "source": [
        "trips[trips['trip_distance']==0].count()"
      ]
    },
    {
      "cell_type": "markdown",
      "metadata": {
        "id": "jcn71zpxHjtX"
      },
      "source": [
        "#### Checking for the rows for which trip_duration is 0"
      ]
    },
    {
      "cell_type": "code",
      "execution_count": 8,
      "metadata": {
        "colab": {
          "base_uri": "https://localhost:8080/",
          "height": 357
        },
        "id": "PvMdcsKnHjtX",
        "outputId": "01b3f9a6-f99c-4f2f-f16b-0c4c5dc6eddb"
      },
      "outputs": [
        {
          "output_type": "execute_result",
          "data": {
            "text/html": [
              "\n",
              "  <div id=\"df-32b6f90a-a919-442e-9feb-b0c51e3ef9bc\">\n",
              "    <div class=\"colab-df-container\">\n",
              "      <div>\n",
              "<style scoped>\n",
              "    .dataframe tbody tr th:only-of-type {\n",
              "        vertical-align: middle;\n",
              "    }\n",
              "\n",
              "    .dataframe tbody tr th {\n",
              "        vertical-align: top;\n",
              "    }\n",
              "\n",
              "    .dataframe thead th {\n",
              "        text-align: right;\n",
              "    }\n",
              "</style>\n",
              "<table border=\"1\" class=\"dataframe\">\n",
              "  <thead>\n",
              "    <tr style=\"text-align: right;\">\n",
              "      <th></th>\n",
              "      <th>id</th>\n",
              "      <th>vendor_id</th>\n",
              "      <th>pickup_datetime</th>\n",
              "      <th>dropoff_datetime</th>\n",
              "      <th>passenger_count</th>\n",
              "      <th>trip_distance</th>\n",
              "      <th>pickup_longitude</th>\n",
              "      <th>pickup_latitude</th>\n",
              "      <th>dropoff_longitude</th>\n",
              "      <th>dropoff_latitude</th>\n",
              "      <th>payment_type</th>\n",
              "      <th>trip_duration</th>\n",
              "      <th>pickup_neighborhood</th>\n",
              "      <th>dropoff_neighborhood</th>\n",
              "    </tr>\n",
              "  </thead>\n",
              "  <tbody>\n",
              "    <tr>\n",
              "      <th>44446</th>\n",
              "      <td>46325</td>\n",
              "      <td>1</td>\n",
              "      <td>2016-10-01 00:48:00</td>\n",
              "      <td>2016-10-01 00:48:00</td>\n",
              "      <td>1</td>\n",
              "      <td>1.20</td>\n",
              "      <td>-73.968842</td>\n",
              "      <td>40.766972</td>\n",
              "      <td>-73.968842</td>\n",
              "      <td>40.766972</td>\n",
              "      <td>3</td>\n",
              "      <td>0</td>\n",
              "      <td>AK</td>\n",
              "      <td>AK</td>\n",
              "    </tr>\n",
              "    <tr>\n",
              "      <th>121544</th>\n",
              "      <td>126869</td>\n",
              "      <td>2</td>\n",
              "      <td>2016-01-26 00:07:00</td>\n",
              "      <td>2016-01-26 00:07:00</td>\n",
              "      <td>6</td>\n",
              "      <td>4.35</td>\n",
              "      <td>-73.986694</td>\n",
              "      <td>40.739815</td>\n",
              "      <td>-73.956139</td>\n",
              "      <td>40.732872</td>\n",
              "      <td>1</td>\n",
              "      <td>0</td>\n",
              "      <td>R</td>\n",
              "      <td>Z</td>\n",
              "    </tr>\n",
              "    <tr>\n",
              "      <th>142202</th>\n",
              "      <td>148598</td>\n",
              "      <td>1</td>\n",
              "      <td>2016-01-30 00:00:00</td>\n",
              "      <td>2016-01-30 00:00:00</td>\n",
              "      <td>1</td>\n",
              "      <td>1.64</td>\n",
              "      <td>-73.989578</td>\n",
              "      <td>40.743877</td>\n",
              "      <td>-73.989578</td>\n",
              "      <td>40.743877</td>\n",
              "      <td>2</td>\n",
              "      <td>0</td>\n",
              "      <td>AO</td>\n",
              "      <td>AO</td>\n",
              "    </tr>\n",
              "    <tr>\n",
              "      <th>172653</th>\n",
              "      <td>180414</td>\n",
              "      <td>1</td>\n",
              "      <td>2016-04-02 19:23:00</td>\n",
              "      <td>2016-04-02 19:23:00</td>\n",
              "      <td>1</td>\n",
              "      <td>0.40</td>\n",
              "      <td>-73.990868</td>\n",
              "      <td>40.751106</td>\n",
              "      <td>-73.990868</td>\n",
              "      <td>40.751106</td>\n",
              "      <td>2</td>\n",
              "      <td>0</td>\n",
              "      <td>D</td>\n",
              "      <td>D</td>\n",
              "    </tr>\n",
              "    <tr>\n",
              "      <th>173013</th>\n",
              "      <td>180795</td>\n",
              "      <td>1</td>\n",
              "      <td>2016-04-02 20:23:00</td>\n",
              "      <td>2016-04-02 20:23:00</td>\n",
              "      <td>1</td>\n",
              "      <td>0.80</td>\n",
              "      <td>-73.977661</td>\n",
              "      <td>40.752968</td>\n",
              "      <td>-73.977661</td>\n",
              "      <td>40.752968</td>\n",
              "      <td>2</td>\n",
              "      <td>0</td>\n",
              "      <td>AD</td>\n",
              "      <td>AD</td>\n",
              "    </tr>\n",
              "  </tbody>\n",
              "</table>\n",
              "</div>\n",
              "      <button class=\"colab-df-convert\" onclick=\"convertToInteractive('df-32b6f90a-a919-442e-9feb-b0c51e3ef9bc')\"\n",
              "              title=\"Convert this dataframe to an interactive table.\"\n",
              "              style=\"display:none;\">\n",
              "        \n",
              "  <svg xmlns=\"http://www.w3.org/2000/svg\" height=\"24px\"viewBox=\"0 0 24 24\"\n",
              "       width=\"24px\">\n",
              "    <path d=\"M0 0h24v24H0V0z\" fill=\"none\"/>\n",
              "    <path d=\"M18.56 5.44l.94 2.06.94-2.06 2.06-.94-2.06-.94-.94-2.06-.94 2.06-2.06.94zm-11 1L8.5 8.5l.94-2.06 2.06-.94-2.06-.94L8.5 2.5l-.94 2.06-2.06.94zm10 10l.94 2.06.94-2.06 2.06-.94-2.06-.94-.94-2.06-.94 2.06-2.06.94z\"/><path d=\"M17.41 7.96l-1.37-1.37c-.4-.4-.92-.59-1.43-.59-.52 0-1.04.2-1.43.59L10.3 9.45l-7.72 7.72c-.78.78-.78 2.05 0 2.83L4 21.41c.39.39.9.59 1.41.59.51 0 1.02-.2 1.41-.59l7.78-7.78 2.81-2.81c.8-.78.8-2.07 0-2.86zM5.41 20L4 18.59l7.72-7.72 1.47 1.35L5.41 20z\"/>\n",
              "  </svg>\n",
              "      </button>\n",
              "      \n",
              "  <style>\n",
              "    .colab-df-container {\n",
              "      display:flex;\n",
              "      flex-wrap:wrap;\n",
              "      gap: 12px;\n",
              "    }\n",
              "\n",
              "    .colab-df-convert {\n",
              "      background-color: #E8F0FE;\n",
              "      border: none;\n",
              "      border-radius: 50%;\n",
              "      cursor: pointer;\n",
              "      display: none;\n",
              "      fill: #1967D2;\n",
              "      height: 32px;\n",
              "      padding: 0 0 0 0;\n",
              "      width: 32px;\n",
              "    }\n",
              "\n",
              "    .colab-df-convert:hover {\n",
              "      background-color: #E2EBFA;\n",
              "      box-shadow: 0px 1px 2px rgba(60, 64, 67, 0.3), 0px 1px 3px 1px rgba(60, 64, 67, 0.15);\n",
              "      fill: #174EA6;\n",
              "    }\n",
              "\n",
              "    [theme=dark] .colab-df-convert {\n",
              "      background-color: #3B4455;\n",
              "      fill: #D2E3FC;\n",
              "    }\n",
              "\n",
              "    [theme=dark] .colab-df-convert:hover {\n",
              "      background-color: #434B5C;\n",
              "      box-shadow: 0px 1px 3px 1px rgba(0, 0, 0, 0.15);\n",
              "      filter: drop-shadow(0px 1px 2px rgba(0, 0, 0, 0.3));\n",
              "      fill: #FFFFFF;\n",
              "    }\n",
              "  </style>\n",
              "\n",
              "      <script>\n",
              "        const buttonEl =\n",
              "          document.querySelector('#df-32b6f90a-a919-442e-9feb-b0c51e3ef9bc button.colab-df-convert');\n",
              "        buttonEl.style.display =\n",
              "          google.colab.kernel.accessAllowed ? 'block' : 'none';\n",
              "\n",
              "        async function convertToInteractive(key) {\n",
              "          const element = document.querySelector('#df-32b6f90a-a919-442e-9feb-b0c51e3ef9bc');\n",
              "          const dataTable =\n",
              "            await google.colab.kernel.invokeFunction('convertToInteractive',\n",
              "                                                     [key], {});\n",
              "          if (!dataTable) return;\n",
              "\n",
              "          const docLinkHtml = 'Like what you see? Visit the ' +\n",
              "            '<a target=\"_blank\" href=https://colab.research.google.com/notebooks/data_table.ipynb>data table notebook</a>'\n",
              "            + ' to learn more about interactive tables.';\n",
              "          element.innerHTML = '';\n",
              "          dataTable['output_type'] = 'display_data';\n",
              "          await google.colab.output.renderOutput(dataTable, element);\n",
              "          const docLink = document.createElement('div');\n",
              "          docLink.innerHTML = docLinkHtml;\n",
              "          element.appendChild(docLink);\n",
              "        }\n",
              "      </script>\n",
              "    </div>\n",
              "  </div>\n",
              "  "
            ],
            "text/plain": [
              "            id vendor_id  ... pickup_neighborhood dropoff_neighborhood\n",
              "44446    46325         1  ...                  AK                   AK\n",
              "121544  126869         2  ...                   R                    Z\n",
              "142202  148598         1  ...                  AO                   AO\n",
              "172653  180414         1  ...                   D                    D\n",
              "173013  180795         1  ...                  AD                   AD\n",
              "\n",
              "[5 rows x 14 columns]"
            ]
          },
          "metadata": {},
          "execution_count": 8
        }
      ],
      "source": [
        "trips[trips['trip_duration']==0].head()"
      ]
    },
    {
      "cell_type": "markdown",
      "metadata": {
        "id": "mJJpHLjVHjtX"
      },
      "source": [
        "**Write your answers here:_____**\n",
        "- We can observe that, where trip duration is 0 trip distance is not 0, hence we can replace those values. "
      ]
    },
    {
      "cell_type": "code",
      "execution_count": 9,
      "metadata": {
        "id": "_ii9xIWsHjtX"
      },
      "outputs": [],
      "source": [
        "trips['trip_duration']=trips['trip_duration'].replace(0,trips['trip_duration'].median())"
      ]
    },
    {
      "cell_type": "code",
      "execution_count": 10,
      "metadata": {
        "colab": {
          "base_uri": "https://localhost:8080/"
        },
        "id": "HDFhfju_HjtX",
        "outputId": "1e455fec-1339-46e4-94e9-93f3808273c4"
      },
      "outputs": [
        {
          "output_type": "execute_result",
          "data": {
            "text/plain": [
              "id                      0\n",
              "vendor_id               0\n",
              "pickup_datetime         0\n",
              "dropoff_datetime        0\n",
              "passenger_count         0\n",
              "trip_distance           0\n",
              "pickup_longitude        0\n",
              "pickup_latitude         0\n",
              "dropoff_longitude       0\n",
              "dropoff_latitude        0\n",
              "payment_type            0\n",
              "trip_duration           0\n",
              "pickup_neighborhood     0\n",
              "dropoff_neighborhood    0\n",
              "dtype: int64"
            ]
          },
          "metadata": {},
          "execution_count": 10
        }
      ],
      "source": [
        "trips[trips['trip_duration']==0].count()"
      ]
    },
    {
      "cell_type": "markdown",
      "metadata": {
        "id": "ILiigbxMHjtY"
      },
      "source": [
        "### Question 2: Univariate Analysis"
      ]
    },
    {
      "cell_type": "markdown",
      "metadata": {
        "id": "dKLDmNP9HjtY"
      },
      "source": [
        "### Question 2.1: Build histogram for numerical columns (1 Marks)"
      ]
    },
    {
      "cell_type": "code",
      "execution_count": 11,
      "metadata": {
        "colab": {
          "base_uri": "https://localhost:8080/",
          "height": 716
        },
        "id": "_VwzZgs7HjtY",
        "outputId": "99c80b68-d09e-428e-ba21-5344a0af456f"
      },
      "outputs": [
        {
          "output_type": "display_data",
          "data": {
            "image/png": "[encoded data removed]",
            "text/plain": [
              "<Figure size 864x864 with 12 Axes>"
            ]
          },
          "metadata": {
            "needs_background": "light"
          }
        }
      ],
      "source": [
        "#Remove _________ and complete the code\n",
        "trips.hist(figsize=(12,12))\n",
        "plt.show()"
      ]
    },
    {
      "cell_type": "markdown",
      "metadata": {
        "id": "dJOlGFhAHjtY"
      },
      "source": [
        "**Write your answers here:_____**\n",
        "\n",
        "- Pickup latitude,  dropoff latitude are nearly normal distribution, while  pickup longitude,dropoff longitude  are a bit right skewed.\n",
        "- Trip distance seem to have some outlier, which we can investigate through boxplot. \n",
        "- trip duration is also rightly skewed. "
      ]
    },
    {
      "cell_type": "code",
      "execution_count": 12,
      "metadata": {
        "colab": {
          "base_uri": "https://localhost:8080/",
          "height": 335
        },
        "id": "VJdGFOc8HjtY",
        "outputId": "e4c12e43-66fe-454b-c998-836cb90cac20"
      },
      "outputs": [
        {
          "output_type": "stream",
          "name": "stderr",
          "text": [
            "/usr/local/lib/python3.7/dist-packages/seaborn/_decorators.py:43: FutureWarning: Pass the following variable as a keyword arg: x. From version 0.12, the only valid positional argument will be `data`, and passing other arguments without an explicit keyword will result in an error or misinterpretation.\n",
            "  FutureWarning\n"
          ]
        },
        {
          "output_type": "display_data",
          "data": {
            "image/png": "[encoded data removed]",
            "text/plain": [
              "<Figure size 432x288 with 1 Axes>"
            ]
          },
          "metadata": {
            "needs_background": "light"
          }
        }
      ],
      "source": [
        "sns.boxplot(trips['trip_distance'])\n",
        "plt.show()"
      ]
    },
    {
      "cell_type": "markdown",
      "metadata": {
        "id": "wbw9An20HjtZ"
      },
      "source": [
        "- We can see there is an extreme outlier in the dataset, we drop investigate it further"
      ]
    },
    {
      "cell_type": "code",
      "execution_count": 13,
      "metadata": {
        "colab": {
          "base_uri": "https://localhost:8080/",
          "height": 357
        },
        "id": "soQ7F0i7HjtZ",
        "outputId": "eb9f2d9e-7621-4124-f081-f8ad71df10a2"
      },
      "outputs": [
        {
          "output_type": "execute_result",
          "data": {
            "text/html": [
              "\n",
              "  <div id=\"df-8cba9f96-936f-42e5-af12-4a110d0ae9ca\">\n",
              "    <div class=\"colab-df-container\">\n",
              "      <div>\n",
              "<style scoped>\n",
              "    .dataframe tbody tr th:only-of-type {\n",
              "        vertical-align: middle;\n",
              "    }\n",
              "\n",
              "    .dataframe tbody tr th {\n",
              "        vertical-align: top;\n",
              "    }\n",
              "\n",
              "    .dataframe thead th {\n",
              "        text-align: right;\n",
              "    }\n",
              "</style>\n",
              "<table border=\"1\" class=\"dataframe\">\n",
              "  <thead>\n",
              "    <tr style=\"text-align: right;\">\n",
              "      <th></th>\n",
              "      <th>id</th>\n",
              "      <th>vendor_id</th>\n",
              "      <th>pickup_datetime</th>\n",
              "      <th>dropoff_datetime</th>\n",
              "      <th>passenger_count</th>\n",
              "      <th>trip_distance</th>\n",
              "      <th>pickup_longitude</th>\n",
              "      <th>pickup_latitude</th>\n",
              "      <th>dropoff_longitude</th>\n",
              "      <th>dropoff_latitude</th>\n",
              "      <th>payment_type</th>\n",
              "      <th>trip_duration</th>\n",
              "      <th>pickup_neighborhood</th>\n",
              "      <th>dropoff_neighborhood</th>\n",
              "    </tr>\n",
              "  </thead>\n",
              "  <tbody>\n",
              "    <tr>\n",
              "      <th>171143</th>\n",
              "      <td>178815</td>\n",
              "      <td>1</td>\n",
              "      <td>2016-04-02 14:05:00</td>\n",
              "      <td>2016-04-02 14:56:00</td>\n",
              "      <td>1</td>\n",
              "      <td>156.2</td>\n",
              "      <td>-73.979149</td>\n",
              "      <td>40.765499</td>\n",
              "      <td>-73.782806</td>\n",
              "      <td>40.644009</td>\n",
              "      <td>1</td>\n",
              "      <td>3087</td>\n",
              "      <td>AR</td>\n",
              "      <td>G</td>\n",
              "    </tr>\n",
              "    <tr>\n",
              "      <th>248346</th>\n",
              "      <td>259490</td>\n",
              "      <td>1</td>\n",
              "      <td>2016-02-18 09:48:00</td>\n",
              "      <td>2016-02-18 09:50:00</td>\n",
              "      <td>1</td>\n",
              "      <td>501.4</td>\n",
              "      <td>-73.980087</td>\n",
              "      <td>40.782185</td>\n",
              "      <td>-73.981468</td>\n",
              "      <td>40.778519</td>\n",
              "      <td>2</td>\n",
              "      <td>141</td>\n",
              "      <td>I</td>\n",
              "      <td>AV</td>\n",
              "    </tr>\n",
              "    <tr>\n",
              "      <th>525084</th>\n",
              "      <td>548884</td>\n",
              "      <td>1</td>\n",
              "      <td>2016-07-04 21:19:00</td>\n",
              "      <td>2016-07-04 22:03:00</td>\n",
              "      <td>3</td>\n",
              "      <td>172.3</td>\n",
              "      <td>-73.783340</td>\n",
              "      <td>40.644176</td>\n",
              "      <td>-73.936028</td>\n",
              "      <td>40.737762</td>\n",
              "      <td>2</td>\n",
              "      <td>2654</td>\n",
              "      <td>G</td>\n",
              "      <td>AN</td>\n",
              "    </tr>\n",
              "    <tr>\n",
              "      <th>530340</th>\n",
              "      <td>554389</td>\n",
              "      <td>1</td>\n",
              "      <td>2016-08-04 19:19:00</td>\n",
              "      <td>2016-08-04 19:41:00</td>\n",
              "      <td>2</td>\n",
              "      <td>502.8</td>\n",
              "      <td>-73.995461</td>\n",
              "      <td>40.724884</td>\n",
              "      <td>-73.986099</td>\n",
              "      <td>40.762108</td>\n",
              "      <td>1</td>\n",
              "      <td>1321</td>\n",
              "      <td>X</td>\n",
              "      <td>AA</td>\n",
              "    </tr>\n",
              "    <tr>\n",
              "      <th>828650</th>\n",
              "      <td>867217</td>\n",
              "      <td>1</td>\n",
              "      <td>2016-02-06 21:30:00</td>\n",
              "      <td>2016-02-06 21:36:00</td>\n",
              "      <td>2</td>\n",
              "      <td>101.0</td>\n",
              "      <td>-73.961586</td>\n",
              "      <td>40.800968</td>\n",
              "      <td>-73.950165</td>\n",
              "      <td>40.802193</td>\n",
              "      <td>2</td>\n",
              "      <td>390</td>\n",
              "      <td>AH</td>\n",
              "      <td>J</td>\n",
              "    </tr>\n",
              "  </tbody>\n",
              "</table>\n",
              "</div>\n",
              "      <button class=\"colab-df-convert\" onclick=\"convertToInteractive('df-8cba9f96-936f-42e5-af12-4a110d0ae9ca')\"\n",
              "              title=\"Convert this dataframe to an interactive table.\"\n",
              "              style=\"display:none;\">\n",
              "        \n",
              "  <svg xmlns=\"http://www.w3.org/2000/svg\" height=\"24px\"viewBox=\"0 0 24 24\"\n",
              "       width=\"24px\">\n",
              "    <path d=\"M0 0h24v24H0V0z\" fill=\"none\"/>\n",
              "    <path d=\"M18.56 5.44l.94 2.06.94-2.06 2.06-.94-2.06-.94-.94-2.06-.94 2.06-2.06.94zm-11 1L8.5 8.5l.94-2.06 2.06-.94-2.06-.94L8.5 2.5l-.94 2.06-2.06.94zm10 10l.94 2.06.94-2.06 2.06-.94-2.06-.94-.94-2.06-.94 2.06-2.06.94z\"/><path d=\"M17.41 7.96l-1.37-1.37c-.4-.4-.92-.59-1.43-.59-.52 0-1.04.2-1.43.59L10.3 9.45l-7.72 7.72c-.78.78-.78 2.05 0 2.83L4 21.41c.39.39.9.59 1.41.59.51 0 1.02-.2 1.41-.59l7.78-7.78 2.81-2.81c.8-.78.8-2.07 0-2.86zM5.41 20L4 18.59l7.72-7.72 1.47 1.35L5.41 20z\"/>\n",
              "  </svg>\n",
              "      </button>\n",
              "      \n",
              "  <style>\n",
              "    .colab-df-container {\n",
              "      display:flex;\n",
              "      flex-wrap:wrap;\n",
              "      gap: 12px;\n",
              "    }\n",
              "\n",
              "    .colab-df-convert {\n",
              "      background-color: #E8F0FE;\n",
              "      border: none;\n",
              "      border-radius: 50%;\n",
              "      cursor: pointer;\n",
              "      display: none;\n",
              "      fill: #1967D2;\n",
              "      height: 32px;\n",
              "      padding: 0 0 0 0;\n",
              "      width: 32px;\n",
              "    }\n",
              "\n",
              "    .colab-df-convert:hover {\n",
              "      background-color: #E2EBFA;\n",
              "      box-shadow: 0px 1px 2px rgba(60, 64, 67, 0.3), 0px 1px 3px 1px rgba(60, 64, 67, 0.15);\n",
              "      fill: #174EA6;\n",
              "    }\n",
              "\n",
              "    [theme=dark] .colab-df-convert {\n",
              "      background-color: #3B4455;\n",
              "      fill: #D2E3FC;\n",
              "    }\n",
              "\n",
              "    [theme=dark] .colab-df-convert:hover {\n",
              "      background-color: #434B5C;\n",
              "      box-shadow: 0px 1px 3px 1px rgba(0, 0, 0, 0.15);\n",
              "      filter: drop-shadow(0px 1px 2px rgba(0, 0, 0, 0.3));\n",
              "      fill: #FFFFFF;\n",
              "    }\n",
              "  </style>\n",
              "\n",
              "      <script>\n",
              "        const buttonEl =\n",
              "          document.querySelector('#df-8cba9f96-936f-42e5-af12-4a110d0ae9ca button.colab-df-convert');\n",
              "        buttonEl.style.display =\n",
              "          google.colab.kernel.accessAllowed ? 'block' : 'none';\n",
              "\n",
              "        async function convertToInteractive(key) {\n",
              "          const element = document.querySelector('#df-8cba9f96-936f-42e5-af12-4a110d0ae9ca');\n",
              "          const dataTable =\n",
              "            await google.colab.kernel.invokeFunction('convertToInteractive',\n",
              "                                                     [key], {});\n",
              "          if (!dataTable) return;\n",
              "\n",
              "          const docLinkHtml = 'Like what you see? Visit the ' +\n",
              "            '<a target=\"_blank\" href=https://colab.research.google.com/notebooks/data_table.ipynb>data table notebook</a>'\n",
              "            + ' to learn more about interactive tables.';\n",
              "          element.innerHTML = '';\n",
              "          dataTable['output_type'] = 'display_data';\n",
              "          await google.colab.output.renderOutput(dataTable, element);\n",
              "          const docLink = document.createElement('div');\n",
              "          docLink.innerHTML = docLinkHtml;\n",
              "          element.appendChild(docLink);\n",
              "        }\n",
              "      </script>\n",
              "    </div>\n",
              "  </div>\n",
              "  "
            ],
            "text/plain": [
              "            id vendor_id  ... pickup_neighborhood dropoff_neighborhood\n",
              "171143  178815         1  ...                  AR                    G\n",
              "248346  259490         1  ...                   I                   AV\n",
              "525084  548884         1  ...                   G                   AN\n",
              "530340  554389         1  ...                   X                   AA\n",
              "828650  867217         1  ...                  AH                    J\n",
              "\n",
              "[5 rows x 14 columns]"
            ]
          },
          "metadata": {},
          "execution_count": 13
        }
      ],
      "source": [
        "trips[trips['trip_distance']>100]"
      ]
    },
    {
      "cell_type": "markdown",
      "metadata": {
        "id": "KBG-zMO8HjtZ"
      },
      "source": [
        "- We can observe that, there are 2 observation>500, and there is a huge gap in the trip duration for them.\n",
        "- Covering 501.4 distance in 141 sec, is not possible, it is better we can clip these values to 50. "
      ]
    },
    {
      "cell_type": "markdown",
      "metadata": {
        "id": "wdI5tsHFHjtZ"
      },
      "source": [
        "#### Clipping the outliers of trip distance to 50"
      ]
    },
    {
      "cell_type": "code",
      "execution_count": 14,
      "metadata": {
        "id": "CIYNvPOGHjta"
      },
      "outputs": [],
      "source": [
        "trips['trip_distance']=trips['trip_distance'].clip(trips['trip_distance'].min(),50)"
      ]
    },
    {
      "cell_type": "code",
      "execution_count": 15,
      "metadata": {
        "colab": {
          "base_uri": "https://localhost:8080/",
          "height": 335
        },
        "id": "gFpHrHNZHjta",
        "outputId": "be731877-433c-4bf0-de68-c3f97c164ec6"
      },
      "outputs": [
        {
          "output_type": "stream",
          "name": "stderr",
          "text": [
            "/usr/local/lib/python3.7/dist-packages/seaborn/_decorators.py:43: FutureWarning: Pass the following variable as a keyword arg: x. From version 0.12, the only valid positional argument will be `data`, and passing other arguments without an explicit keyword will result in an error or misinterpretation.\n",
            "  FutureWarning\n"
          ]
        },
        {
          "output_type": "display_data",
          "data": {
            "image/png": "[encoded data removed]",
            "text/plain": [
              "<Figure size 432x288 with 1 Axes>"
            ]
          },
          "metadata": {
            "needs_background": "light"
          }
        }
      ],
      "source": [
        "sns.boxplot(trips['trip_distance'])\n",
        "plt.show()"
      ]
    },
    {
      "cell_type": "markdown",
      "metadata": {
        "id": "c8TTKShDHjta"
      },
      "source": [
        "### Question 2.2 Plotting countplot for Passenger_count (1 Marks)"
      ]
    },
    {
      "cell_type": "code",
      "execution_count": 16,
      "metadata": {
        "colab": {
          "base_uri": "https://localhost:8080/",
          "height": 389
        },
        "id": "VkFX65VeHjtb",
        "outputId": "4531b20a-6061-4b71-9e67-e93e428c6317"
      },
      "outputs": [
        {
          "output_type": "stream",
          "name": "stderr",
          "text": [
            "/usr/local/lib/python3.7/dist-packages/seaborn/_decorators.py:43: FutureWarning: Pass the following variable as a keyword arg: x. From version 0.12, the only valid positional argument will be `data`, and passing other arguments without an explicit keyword will result in an error or misinterpretation.\n",
            "  FutureWarning\n"
          ]
        },
        {
          "output_type": "display_data",
          "data": {
            "image/png": "[encoded data removed]",
            "text/plain": [
              "<Figure size 1440x360 with 1 Axes>"
            ]
          },
          "metadata": {
            "needs_background": "light"
          }
        }
      ],
      "source": [
        "#Remove _________ and complete the code\n",
        "\n",
        "import seaborn as sns\n",
        "plt.figure(figsize=(20,5))\n",
        "sns.countplot(trips.passenger_count)\n",
        "plt.show()"
      ]
    },
    {
      "cell_type": "code",
      "execution_count": 17,
      "metadata": {
        "colab": {
          "base_uri": "https://localhost:8080/"
        },
        "id": "H3KDdKZ-Hjtb",
        "outputId": "08382b28-8347-45ba-90a0-183e794507b0"
      },
      "outputs": [
        {
          "output_type": "execute_result",
          "data": {
            "text/plain": [
              "1    0.709334\n",
              "2    0.143419\n",
              "5    0.053409\n",
              "3    0.041140\n",
              "6    0.033334\n",
              "4    0.019338\n",
              "0    0.000025\n",
              "9    0.000002\n",
              "Name: passenger_count, dtype: float64"
            ]
          },
          "metadata": {},
          "execution_count": 17
        }
      ],
      "source": [
        "trips.passenger_count.value_counts(normalize=True)"
      ]
    },
    {
      "cell_type": "markdown",
      "metadata": {
        "id": "Et-jvNSoHjtb"
      },
      "source": [
        "**Write your answers here:_____**\n",
        "\n",
        "- The distribution of the passenger count is right skewed.\n",
        "- 70% of the passengers ride alone.\n",
        "- 14% of the passengers have a company.\n",
        "- Percentage of passengers that are 3 or more is very less.\n"
      ]
    },
    {
      "cell_type": "markdown",
      "metadata": {
        "id": "yJH18tDcHjtb"
      },
      "source": [
        "### Question 2.3 Plotting countplot for pickup_neighborhood and dropoff_neighborhood (2 Marks)"
      ]
    },
    {
      "cell_type": "code",
      "execution_count": 18,
      "metadata": {
        "colab": {
          "base_uri": "https://localhost:8080/",
          "height": 506
        },
        "id": "G6kCuva4Hjtb",
        "outputId": "fba1198e-eb4f-4e87-c8de-64edfe851081"
      },
      "outputs": [
        {
          "output_type": "execute_result",
          "data": {
            "text/plain": [
              "<matplotlib.axes._subplots.AxesSubplot at 0x7ff3f3242050>"
            ]
          },
          "metadata": {},
          "execution_count": 18
        },
        {
          "output_type": "display_data",
          "data": {
            "image/png": "[encoded data removed]",
            "text/plain": [
              "<Figure size 1440x576 with 1 Axes>"
            ]
          },
          "metadata": {
            "needs_background": "light"
          }
        }
      ],
      "source": [
        "#Remove _________ and complete the code\n",
        "trips.pickup_neighborhood.value_counts().sort_values(ascending=False).plot(kind='bar' ,figsize=(20,8))"
      ]
    },
    {
      "cell_type": "code",
      "execution_count": 38,
      "metadata": {
        "colab": {
          "base_uri": "https://localhost:8080/",
          "height": 506
        },
        "id": "SCidlhqQHjtc",
        "outputId": "e29dc017-e39f-4eea-b393-6c56b91dc8c8"
      },
      "outputs": [
        {
          "output_type": "execute_result",
          "data": {
            "text/plain": [
              "<matplotlib.axes._subplots.AxesSubplot at 0x7ff5381eb1d0>"
            ]
          },
          "metadata": {},
          "execution_count": 38
        },
        {
          "output_type": "display_data",
          "data": {
            "image/png": "[encoded data removed]",
            "text/plain": [
              "<Figure size 1440x576 with 1 Axes>"
            ]
          },
          "metadata": {
            "needs_background": "light"
          }
        }
      ],
      "source": [
        "#Remove _________ and complete the code\n",
        "\n",
        "trips.dropoff_neighborhood.value_counts().sort_values(ascending=False).plot(kind='bar' ,figsize=(20,8))"
      ]
    },
    {
      "cell_type": "markdown",
      "metadata": {
        "id": "vXD6ViGyHjtc"
      },
      "source": [
        "**Write your answers here:_____**\n",
        "\n",
        "- Most of the pickup and dropoff are from area AD and AA. Which implies these are are the most busy areas in the city. \n",
        "- Areas like AI and AQ are some areas from where very less number of pickups and dropoff are happening. "
      ]
    },
    {
      "cell_type": "code",
      "execution_count": 39,
      "metadata": {
        "colab": {
          "base_uri": "https://localhost:8080/",
          "height": 206
        },
        "id": "fxMcdAbZHjtc",
        "outputId": "19574d2e-d33f-40bf-9a86-9bc79b98ba0b"
      },
      "outputs": [
        {
          "output_type": "execute_result",
          "data": {
            "text/html": [
              "\n",
              "  <div id=\"df-07b2de22-9d94-44eb-9da3-8f537467e646\">\n",
              "    <div class=\"colab-df-container\">\n",
              "      <div>\n",
              "<style scoped>\n",
              "    .dataframe tbody tr th:only-of-type {\n",
              "        vertical-align: middle;\n",
              "    }\n",
              "\n",
              "    .dataframe tbody tr th {\n",
              "        vertical-align: top;\n",
              "    }\n",
              "\n",
              "    .dataframe thead th {\n",
              "        text-align: right;\n",
              "    }\n",
              "</style>\n",
              "<table border=\"1\" class=\"dataframe\">\n",
              "  <thead>\n",
              "    <tr style=\"text-align: right;\">\n",
              "      <th></th>\n",
              "      <th>neighborhood_id</th>\n",
              "      <th>latitude</th>\n",
              "      <th>longitude</th>\n",
              "    </tr>\n",
              "  </thead>\n",
              "  <tbody>\n",
              "    <tr>\n",
              "      <th>0</th>\n",
              "      <td>AH</td>\n",
              "      <td>40.804349</td>\n",
              "      <td>-73.961716</td>\n",
              "    </tr>\n",
              "    <tr>\n",
              "      <th>1</th>\n",
              "      <td>Z</td>\n",
              "      <td>40.715828</td>\n",
              "      <td>-73.954298</td>\n",
              "    </tr>\n",
              "    <tr>\n",
              "      <th>2</th>\n",
              "      <td>D</td>\n",
              "      <td>40.750179</td>\n",
              "      <td>-73.992557</td>\n",
              "    </tr>\n",
              "    <tr>\n",
              "      <th>3</th>\n",
              "      <td>AT</td>\n",
              "      <td>40.729670</td>\n",
              "      <td>-73.981693</td>\n",
              "    </tr>\n",
              "    <tr>\n",
              "      <th>4</th>\n",
              "      <td>AG</td>\n",
              "      <td>40.749843</td>\n",
              "      <td>-74.003458</td>\n",
              "    </tr>\n",
              "  </tbody>\n",
              "</table>\n",
              "</div>\n",
              "      <button class=\"colab-df-convert\" onclick=\"convertToInteractive('df-07b2de22-9d94-44eb-9da3-8f537467e646')\"\n",
              "              title=\"Convert this dataframe to an interactive table.\"\n",
              "              style=\"display:none;\">\n",
              "        \n",
              "  <svg xmlns=\"http://www.w3.org/2000/svg\" height=\"24px\"viewBox=\"0 0 24 24\"\n",
              "       width=\"24px\">\n",
              "    <path d=\"M0 0h24v24H0V0z\" fill=\"none\"/>\n",
              "    <path d=\"M18.56 5.44l.94 2.06.94-2.06 2.06-.94-2.06-.94-.94-2.06-.94 2.06-2.06.94zm-11 1L8.5 8.5l.94-2.06 2.06-.94-2.06-.94L8.5 2.5l-.94 2.06-2.06.94zm10 10l.94 2.06.94-2.06 2.06-.94-2.06-.94-.94-2.06-.94 2.06-2.06.94z\"/><path d=\"M17.41 7.96l-1.37-1.37c-.4-.4-.92-.59-1.43-.59-.52 0-1.04.2-1.43.59L10.3 9.45l-7.72 7.72c-.78.78-.78 2.05 0 2.83L4 21.41c.39.39.9.59 1.41.59.51 0 1.02-.2 1.41-.59l7.78-7.78 2.81-2.81c.8-.78.8-2.07 0-2.86zM5.41 20L4 18.59l7.72-7.72 1.47 1.35L5.41 20z\"/>\n",
              "  </svg>\n",
              "      </button>\n",
              "      \n",
              "  <style>\n",
              "    .colab-df-container {\n",
              "      display:flex;\n",
              "      flex-wrap:wrap;\n",
              "      gap: 12px;\n",
              "    }\n",
              "\n",
              "    .colab-df-convert {\n",
              "      background-color: #E8F0FE;\n",
              "      border: none;\n",
              "      border-radius: 50%;\n",
              "      cursor: pointer;\n",
              "      display: none;\n",
              "      fill: #1967D2;\n",
              "      height: 32px;\n",
              "      padding: 0 0 0 0;\n",
              "      width: 32px;\n",
              "    }\n",
              "\n",
              "    .colab-df-convert:hover {\n",
              "      background-color: #E2EBFA;\n",
              "      box-shadow: 0px 1px 2px rgba(60, 64, 67, 0.3), 0px 1px 3px 1px rgba(60, 64, 67, 0.15);\n",
              "      fill: #174EA6;\n",
              "    }\n",
              "\n",
              "    [theme=dark] .colab-df-convert {\n",
              "      background-color: #3B4455;\n",
              "      fill: #D2E3FC;\n",
              "    }\n",
              "\n",
              "    [theme=dark] .colab-df-convert:hover {\n",
              "      background-color: #434B5C;\n",
              "      box-shadow: 0px 1px 3px 1px rgba(0, 0, 0, 0.15);\n",
              "      filter: drop-shadow(0px 1px 2px rgba(0, 0, 0, 0.3));\n",
              "      fill: #FFFFFF;\n",
              "    }\n",
              "  </style>\n",
              "\n",
              "      <script>\n",
              "        const buttonEl =\n",
              "          document.querySelector('#df-07b2de22-9d94-44eb-9da3-8f537467e646 button.colab-df-convert');\n",
              "        buttonEl.style.display =\n",
              "          google.colab.kernel.accessAllowed ? 'block' : 'none';\n",
              "\n",
              "        async function convertToInteractive(key) {\n",
              "          const element = document.querySelector('#df-07b2de22-9d94-44eb-9da3-8f537467e646');\n",
              "          const dataTable =\n",
              "            await google.colab.kernel.invokeFunction('convertToInteractive',\n",
              "                                                     [key], {});\n",
              "          if (!dataTable) return;\n",
              "\n",
              "          const docLinkHtml = 'Like what you see? Visit the ' +\n",
              "            '<a target=\"_blank\" href=https://colab.research.google.com/notebooks/data_table.ipynb>data table notebook</a>'\n",
              "            + ' to learn more about interactive tables.';\n",
              "          element.innerHTML = '';\n",
              "          dataTable['output_type'] = 'display_data';\n",
              "          await google.colab.output.renderOutput(dataTable, element);\n",
              "          const docLink = document.createElement('div');\n",
              "          docLink.innerHTML = docLinkHtml;\n",
              "          element.appendChild(docLink);\n",
              "        }\n",
              "      </script>\n",
              "    </div>\n",
              "  </div>\n",
              "  "
            ],
            "text/plain": [
              "  neighborhood_id   latitude  longitude\n",
              "0              AH  40.804349 -73.961716\n",
              "1               Z  40.715828 -73.954298\n",
              "2               D  40.750179 -73.992557\n",
              "3              AT  40.729670 -73.981693\n",
              "4              AG  40.749843 -74.003458"
            ]
          },
          "metadata": {},
          "execution_count": 39
        }
      ],
      "source": [
        "pickup_neighborhoods.head()"
      ]
    },
    {
      "cell_type": "markdown",
      "metadata": {
        "id": "aqSgeyUKHjtc"
      },
      "source": [
        "### Bivariate analysis"
      ]
    },
    {
      "cell_type": "markdown",
      "metadata": {
        "id": "hR1Ajm27Hjtd"
      },
      "source": [
        "#### Plot a scatter plot for trip distance and trip duration"
      ]
    },
    {
      "cell_type": "code",
      "execution_count": 19,
      "metadata": {
        "colab": {
          "base_uri": "https://localhost:8080/",
          "height": 352
        },
        "id": "6ymWgXgdHjtd",
        "outputId": "b5411876-a13f-4db7-ec37-0227d01d3382"
      },
      "outputs": [
        {
          "output_type": "stream",
          "name": "stderr",
          "text": [
            "/usr/local/lib/python3.7/dist-packages/seaborn/_decorators.py:43: FutureWarning: Pass the following variables as keyword args: x, y. From version 0.12, the only valid positional argument will be `data`, and passing other arguments without an explicit keyword will result in an error or misinterpretation.\n",
            "  FutureWarning\n"
          ]
        },
        {
          "output_type": "execute_result",
          "data": {
            "text/plain": [
              "<matplotlib.axes._subplots.AxesSubplot at 0x7ff3f3123c50>"
            ]
          },
          "metadata": {},
          "execution_count": 19
        },
        {
          "output_type": "display_data",
          "data": {
            "image/png": "[encoded data removed]",
            "text/plain": [
              "<Figure size 432x288 with 1 Axes>"
            ]
          },
          "metadata": {
            "needs_background": "light"
          }
        }
      ],
      "source": [
        "sns.scatterplot(trips['trip_distance'],trips['trip_duration'])"
      ]
    },
    {
      "cell_type": "markdown",
      "metadata": {
        "id": "T8Dqcz8vHjtd"
      },
      "source": [
        "- There is some positive correlation between trip_distance and trip_duration."
      ]
    },
    {
      "cell_type": "code",
      "execution_count": 41,
      "metadata": {
        "colab": {
          "base_uri": "https://localhost:8080/",
          "height": 352
        },
        "id": "fcpeRKK_Hjtd",
        "outputId": "0d557897-129d-445b-a348-459f5128809a"
      },
      "outputs": [
        {
          "output_type": "stream",
          "name": "stderr",
          "text": [
            "/usr/local/lib/python3.7/dist-packages/seaborn/_decorators.py:43: FutureWarning: Pass the following variable as a keyword arg: x. From version 0.12, the only valid positional argument will be `data`, and passing other arguments without an explicit keyword will result in an error or misinterpretation.\n",
            "  FutureWarning\n"
          ]
        },
        {
          "output_type": "execute_result",
          "data": {
            "text/plain": [
              "<matplotlib.axes._subplots.AxesSubplot at 0x7ff538298390>"
            ]
          },
          "metadata": {},
          "execution_count": 41
        },
        {
          "output_type": "display_data",
          "data": {
            "image/png": "[encoded data removed]",
            "text/plain": [
              "<Figure size 432x288 with 1 Axes>"
            ]
          },
          "metadata": {
            "needs_background": "light"
          }
        }
      ],
      "source": [
        "sns.countplot(trips['passenger_count'],hue=trips['payment_type'])"
      ]
    },
    {
      "cell_type": "markdown",
      "metadata": {
        "id": "a5-AwAgdHjte"
      },
      "source": [
        "- There is no such specific pattern can be observed."
      ]
    },
    {
      "cell_type": "markdown",
      "metadata": {
        "id": "GS4cWqcAHjte"
      },
      "source": [
        "### Step 2: Prepare the Data\n",
        "\n",
        "Lets create entities and relationships. The three entities in this data are \n",
        "* trips \n",
        "* pickup_neighborhoods\n",
        "* dropoff_neighborhoods\n",
        "\n",
        "This data has the following relationships\n",
        "* pickup_neighborhoods --> trips (one neighborhood can have multiple trips that start in it. This means pickup_neighborhoods is the ``parent_entity`` and trips is the child entity)\n",
        "* dropoff_neighborhoods --> trips (one neighborhood can have multiple trips that end in it. This means dropoff_neighborhoods is the ``parent_entity`` and trips is the child entity)\n",
        "\n",
        "In <a <href=\"https://www.featuretools.com/\"><featuretools (automated feature engineering software package)/></a>, we specify the list of entities and relationships as follows: \n"
      ]
    },
    {
      "cell_type": "markdown",
      "metadata": {
        "id": "zoI3FZxJHjte"
      },
      "source": [
        "### Question 3: Define entities and relationships for the Deep Feature Synthesis (2 Marks)"
      ]
    },
    {
      "cell_type": "code",
      "source": [
        "trips.head()"
      ],
      "metadata": {
        "colab": {
          "base_uri": "https://localhost:8080/",
          "height": 357
        },
        "id": "Ls2AqYCmjpT9",
        "outputId": "c86a65fb-f696-4552-d9a1-e75f7d4fbd71"
      },
      "execution_count": 46,
      "outputs": [
        {
          "output_type": "execute_result",
          "data": {
            "text/html": [
              "\n",
              "  <div id=\"df-3be52734-870c-4094-9dfb-63c0db733872\">\n",
              "    <div class=\"colab-df-container\">\n",
              "      <div>\n",
              "<style scoped>\n",
              "    .dataframe tbody tr th:only-of-type {\n",
              "        vertical-align: middle;\n",
              "    }\n",
              "\n",
              "    .dataframe tbody tr th {\n",
              "        vertical-align: top;\n",
              "    }\n",
              "\n",
              "    .dataframe thead th {\n",
              "        text-align: right;\n",
              "    }\n",
              "</style>\n",
              "<table border=\"1\" class=\"dataframe\">\n",
              "  <thead>\n",
              "    <tr style=\"text-align: right;\">\n",
              "      <th></th>\n",
              "      <th>id</th>\n",
              "      <th>vendor_id</th>\n",
              "      <th>pickup_datetime</th>\n",
              "      <th>dropoff_datetime</th>\n",
              "      <th>passenger_count</th>\n",
              "      <th>trip_distance</th>\n",
              "      <th>pickup_longitude</th>\n",
              "      <th>pickup_latitude</th>\n",
              "      <th>dropoff_longitude</th>\n",
              "      <th>dropoff_latitude</th>\n",
              "      <th>payment_type</th>\n",
              "      <th>trip_duration</th>\n",
              "      <th>pickup_neighborhood</th>\n",
              "      <th>dropoff_neighborhood</th>\n",
              "    </tr>\n",
              "  </thead>\n",
              "  <tbody>\n",
              "    <tr>\n",
              "      <th>0</th>\n",
              "      <td>0</td>\n",
              "      <td>2</td>\n",
              "      <td>2016-01-01 00:00:00</td>\n",
              "      <td>2016-01-01 00:06:00</td>\n",
              "      <td>3</td>\n",
              "      <td>1.32</td>\n",
              "      <td>-73.961258</td>\n",
              "      <td>40.796200</td>\n",
              "      <td>-73.950050</td>\n",
              "      <td>40.787312</td>\n",
              "      <td>2</td>\n",
              "      <td>372</td>\n",
              "      <td>AH</td>\n",
              "      <td>C</td>\n",
              "    </tr>\n",
              "    <tr>\n",
              "      <th>1</th>\n",
              "      <td>1</td>\n",
              "      <td>2</td>\n",
              "      <td>2016-01-01 00:01:00</td>\n",
              "      <td>2016-01-01 00:27:00</td>\n",
              "      <td>1</td>\n",
              "      <td>13.70</td>\n",
              "      <td>-73.956169</td>\n",
              "      <td>40.707756</td>\n",
              "      <td>-73.939949</td>\n",
              "      <td>40.839558</td>\n",
              "      <td>1</td>\n",
              "      <td>1553</td>\n",
              "      <td>Z</td>\n",
              "      <td>S</td>\n",
              "    </tr>\n",
              "    <tr>\n",
              "      <th>2</th>\n",
              "      <td>2</td>\n",
              "      <td>1</td>\n",
              "      <td>2016-01-01 00:01:00</td>\n",
              "      <td>2016-01-01 00:21:00</td>\n",
              "      <td>2</td>\n",
              "      <td>5.30</td>\n",
              "      <td>-73.993103</td>\n",
              "      <td>40.752632</td>\n",
              "      <td>-73.953903</td>\n",
              "      <td>40.816540</td>\n",
              "      <td>2</td>\n",
              "      <td>1204</td>\n",
              "      <td>D</td>\n",
              "      <td>AL</td>\n",
              "    </tr>\n",
              "    <tr>\n",
              "      <th>3</th>\n",
              "      <td>3</td>\n",
              "      <td>2</td>\n",
              "      <td>2016-01-01 00:01:00</td>\n",
              "      <td>2016-01-01 00:16:00</td>\n",
              "      <td>1</td>\n",
              "      <td>7.19</td>\n",
              "      <td>-73.983009</td>\n",
              "      <td>40.731419</td>\n",
              "      <td>-73.930969</td>\n",
              "      <td>40.808460</td>\n",
              "      <td>2</td>\n",
              "      <td>858</td>\n",
              "      <td>AT</td>\n",
              "      <td>J</td>\n",
              "    </tr>\n",
              "    <tr>\n",
              "      <th>4</th>\n",
              "      <td>4</td>\n",
              "      <td>1</td>\n",
              "      <td>2016-01-01 00:02:00</td>\n",
              "      <td>2016-01-01 00:20:00</td>\n",
              "      <td>2</td>\n",
              "      <td>2.90</td>\n",
              "      <td>-74.004631</td>\n",
              "      <td>40.747234</td>\n",
              "      <td>-73.976395</td>\n",
              "      <td>40.777237</td>\n",
              "      <td>1</td>\n",
              "      <td>1076</td>\n",
              "      <td>AG</td>\n",
              "      <td>AV</td>\n",
              "    </tr>\n",
              "  </tbody>\n",
              "</table>\n",
              "</div>\n",
              "      <button class=\"colab-df-convert\" onclick=\"convertToInteractive('df-3be52734-870c-4094-9dfb-63c0db733872')\"\n",
              "              title=\"Convert this dataframe to an interactive table.\"\n",
              "              style=\"display:none;\">\n",
              "        \n",
              "  <svg xmlns=\"http://www.w3.org/2000/svg\" height=\"24px\"viewBox=\"0 0 24 24\"\n",
              "       width=\"24px\">\n",
              "    <path d=\"M0 0h24v24H0V0z\" fill=\"none\"/>\n",
              "    <path d=\"M18.56 5.44l.94 2.06.94-2.06 2.06-.94-2.06-.94-.94-2.06-.94 2.06-2.06.94zm-11 1L8.5 8.5l.94-2.06 2.06-.94-2.06-.94L8.5 2.5l-.94 2.06-2.06.94zm10 10l.94 2.06.94-2.06 2.06-.94-2.06-.94-.94-2.06-.94 2.06-2.06.94z\"/><path d=\"M17.41 7.96l-1.37-1.37c-.4-.4-.92-.59-1.43-.59-.52 0-1.04.2-1.43.59L10.3 9.45l-7.72 7.72c-.78.78-.78 2.05 0 2.83L4 21.41c.39.39.9.59 1.41.59.51 0 1.02-.2 1.41-.59l7.78-7.78 2.81-2.81c.8-.78.8-2.07 0-2.86zM5.41 20L4 18.59l7.72-7.72 1.47 1.35L5.41 20z\"/>\n",
              "  </svg>\n",
              "      </button>\n",
              "      \n",
              "  <style>\n",
              "    .colab-df-container {\n",
              "      display:flex;\n",
              "      flex-wrap:wrap;\n",
              "      gap: 12px;\n",
              "    }\n",
              "\n",
              "    .colab-df-convert {\n",
              "      background-color: #E8F0FE;\n",
              "      border: none;\n",
              "      border-radius: 50%;\n",
              "      cursor: pointer;\n",
              "      display: none;\n",
              "      fill: #1967D2;\n",
              "      height: 32px;\n",
              "      padding: 0 0 0 0;\n",
              "      width: 32px;\n",
              "    }\n",
              "\n",
              "    .colab-df-convert:hover {\n",
              "      background-color: #E2EBFA;\n",
              "      box-shadow: 0px 1px 2px rgba(60, 64, 67, 0.3), 0px 1px 3px 1px rgba(60, 64, 67, 0.15);\n",
              "      fill: #174EA6;\n",
              "    }\n",
              "\n",
              "    [theme=dark] .colab-df-convert {\n",
              "      background-color: #3B4455;\n",
              "      fill: #D2E3FC;\n",
              "    }\n",
              "\n",
              "    [theme=dark] .colab-df-convert:hover {\n",
              "      background-color: #434B5C;\n",
              "      box-shadow: 0px 1px 3px 1px rgba(0, 0, 0, 0.15);\n",
              "      filter: drop-shadow(0px 1px 2px rgba(0, 0, 0, 0.3));\n",
              "      fill: #FFFFFF;\n",
              "    }\n",
              "  </style>\n",
              "\n",
              "      <script>\n",
              "        const buttonEl =\n",
              "          document.querySelector('#df-3be52734-870c-4094-9dfb-63c0db733872 button.colab-df-convert');\n",
              "        buttonEl.style.display =\n",
              "          google.colab.kernel.accessAllowed ? 'block' : 'none';\n",
              "\n",
              "        async function convertToInteractive(key) {\n",
              "          const element = document.querySelector('#df-3be52734-870c-4094-9dfb-63c0db733872');\n",
              "          const dataTable =\n",
              "            await google.colab.kernel.invokeFunction('convertToInteractive',\n",
              "                                                     [key], {});\n",
              "          if (!dataTable) return;\n",
              "\n",
              "          const docLinkHtml = 'Like what you see? Visit the ' +\n",
              "            '<a target=\"_blank\" href=https://colab.research.google.com/notebooks/data_table.ipynb>data table notebook</a>'\n",
              "            + ' to learn more about interactive tables.';\n",
              "          element.innerHTML = '';\n",
              "          dataTable['output_type'] = 'display_data';\n",
              "          await google.colab.output.renderOutput(dataTable, element);\n",
              "          const docLink = document.createElement('div');\n",
              "          docLink.innerHTML = docLinkHtml;\n",
              "          element.appendChild(docLink);\n",
              "        }\n",
              "      </script>\n",
              "    </div>\n",
              "  </div>\n",
              "  "
            ],
            "text/plain": [
              "   id vendor_id  ... pickup_neighborhood dropoff_neighborhood\n",
              "0   0         2  ...                  AH                    C\n",
              "1   1         2  ...                   Z                    S\n",
              "2   2         1  ...                   D                   AL\n",
              "3   3         2  ...                  AT                    J\n",
              "4   4         1  ...                  AG                   AV\n",
              "\n",
              "[5 rows x 14 columns]"
            ]
          },
          "metadata": {},
          "execution_count": 46
        }
      ]
    },
    {
      "cell_type": "code",
      "execution_count": 20,
      "metadata": {
        "ExecuteTime": {
          "end_time": "2021-07-15T12:41:08.351728Z",
          "start_time": "2021-07-15T12:41:08.253155Z"
        },
        "id": "6c4c3ivZHjte"
      },
      "outputs": [],
      "source": [
        "#Remove _________ and complete the codeV\n",
        "\n",
        "entities = { \"trips\": (trips, \"id\", 'pickup_datetime' ),\n",
        "        \"pickup_neighborhoods\": (pickup_neighborhoods, \"neighborhood_id\"),\n",
        "        \"dropoff_neighborhoods\": (dropoff_neighborhoods, \"neighborhood_id\")  }\n",
        "\n",
        "#Remove _________ and complete the code\n",
        "relationships = [(\"pickup_neighborhoods\", \"neighborhood_id\", \"trips\", \"pickup_neighborhood\"),\n",
        "                 (\"dropoff_neighborhoods\", \"neighborhood_id\", \"trips\", \"dropoff_neighborhood\")]"
      ]
    },
    {
      "cell_type": "markdown",
      "metadata": {
        "id": "VBgRxkUwHjtf"
      },
      "source": [
        "Next, we specify the cutoff time for each instance of the target_entity, in this case ``trips``.This timestamp represents the last time data can be used for calculating features by DFS. In this scenario, that would be the pickup time because we would like to make the duration prediction using data before the trip starts. \n",
        "\n",
        "For the purposes of the case study, we choose to only select trips that started after January 12th, 2016. "
      ]
    },
    {
      "cell_type": "code",
      "execution_count": 21,
      "metadata": {
        "ExecuteTime": {
          "end_time": "2021-07-15T12:41:53.295477Z",
          "start_time": "2021-07-15T12:41:53.056658Z"
        },
        "colab": {
          "base_uri": "https://localhost:8080/",
          "height": 363
        },
        "id": "KW0mDJA6Hjtf",
        "outputId": "aa873aea-a625-4b46-ef1a-4860c194aff9"
      },
      "outputs": [
        {
          "output_type": "execute_result",
          "data": {
            "text/html": [
              "\n",
              "  <div id=\"df-875a8dc9-0e28-41d0-b49b-4e2e851486d0\">\n",
              "    <div class=\"colab-df-container\">\n",
              "      <div>\n",
              "<style scoped>\n",
              "    .dataframe tbody tr th:only-of-type {\n",
              "        vertical-align: middle;\n",
              "    }\n",
              "\n",
              "    .dataframe tbody tr th {\n",
              "        vertical-align: top;\n",
              "    }\n",
              "\n",
              "    .dataframe thead th {\n",
              "        text-align: right;\n",
              "    }\n",
              "</style>\n",
              "<table border=\"1\" class=\"dataframe\">\n",
              "  <thead>\n",
              "    <tr style=\"text-align: right;\">\n",
              "      <th></th>\n",
              "      <th>id</th>\n",
              "      <th>pickup_datetime</th>\n",
              "    </tr>\n",
              "  </thead>\n",
              "  <tbody>\n",
              "    <tr>\n",
              "      <th>4737</th>\n",
              "      <td>4906</td>\n",
              "      <td>2016-02-01 00:00:00</td>\n",
              "    </tr>\n",
              "    <tr>\n",
              "      <th>649368</th>\n",
              "      <td>679397</td>\n",
              "      <td>2016-04-30 10:56:00</td>\n",
              "    </tr>\n",
              "    <tr>\n",
              "      <th>649369</th>\n",
              "      <td>679398</td>\n",
              "      <td>2016-04-30 10:57:00</td>\n",
              "    </tr>\n",
              "    <tr>\n",
              "      <th>649370</th>\n",
              "      <td>679399</td>\n",
              "      <td>2016-04-30 10:57:00</td>\n",
              "    </tr>\n",
              "    <tr>\n",
              "      <th>649371</th>\n",
              "      <td>679400</td>\n",
              "      <td>2016-04-30 10:57:00</td>\n",
              "    </tr>\n",
              "    <tr>\n",
              "      <th>649372</th>\n",
              "      <td>679401</td>\n",
              "      <td>2016-04-30 10:57:00</td>\n",
              "    </tr>\n",
              "    <tr>\n",
              "      <th>649373</th>\n",
              "      <td>679402</td>\n",
              "      <td>2016-04-30 10:58:00</td>\n",
              "    </tr>\n",
              "    <tr>\n",
              "      <th>649374</th>\n",
              "      <td>679403</td>\n",
              "      <td>2016-04-30 10:58:00</td>\n",
              "    </tr>\n",
              "    <tr>\n",
              "      <th>649375</th>\n",
              "      <td>679404</td>\n",
              "      <td>2016-04-30 10:58:00</td>\n",
              "    </tr>\n",
              "    <tr>\n",
              "      <th>649376</th>\n",
              "      <td>679405</td>\n",
              "      <td>2016-04-30 10:58:00</td>\n",
              "    </tr>\n",
              "  </tbody>\n",
              "</table>\n",
              "</div>\n",
              "      <button class=\"colab-df-convert\" onclick=\"convertToInteractive('df-875a8dc9-0e28-41d0-b49b-4e2e851486d0')\"\n",
              "              title=\"Convert this dataframe to an interactive table.\"\n",
              "              style=\"display:none;\">\n",
              "        \n",
              "  <svg xmlns=\"http://www.w3.org/2000/svg\" height=\"24px\"viewBox=\"0 0 24 24\"\n",
              "       width=\"24px\">\n",
              "    <path d=\"M0 0h24v24H0V0z\" fill=\"none\"/>\n",
              "    <path d=\"M18.56 5.44l.94 2.06.94-2.06 2.06-.94-2.06-.94-.94-2.06-.94 2.06-2.06.94zm-11 1L8.5 8.5l.94-2.06 2.06-.94-2.06-.94L8.5 2.5l-.94 2.06-2.06.94zm10 10l.94 2.06.94-2.06 2.06-.94-2.06-.94-.94-2.06-.94 2.06-2.06.94z\"/><path d=\"M17.41 7.96l-1.37-1.37c-.4-.4-.92-.59-1.43-.59-.52 0-1.04.2-1.43.59L10.3 9.45l-7.72 7.72c-.78.78-.78 2.05 0 2.83L4 21.41c.39.39.9.59 1.41.59.51 0 1.02-.2 1.41-.59l7.78-7.78 2.81-2.81c.8-.78.8-2.07 0-2.86zM5.41 20L4 18.59l7.72-7.72 1.47 1.35L5.41 20z\"/>\n",
              "  </svg>\n",
              "      </button>\n",
              "      \n",
              "  <style>\n",
              "    .colab-df-container {\n",
              "      display:flex;\n",
              "      flex-wrap:wrap;\n",
              "      gap: 12px;\n",
              "    }\n",
              "\n",
              "    .colab-df-convert {\n",
              "      background-color: #E8F0FE;\n",
              "      border: none;\n",
              "      border-radius: 50%;\n",
              "      cursor: pointer;\n",
              "      display: none;\n",
              "      fill: #1967D2;\n",
              "      height: 32px;\n",
              "      padding: 0 0 0 0;\n",
              "      width: 32px;\n",
              "    }\n",
              "\n",
              "    .colab-df-convert:hover {\n",
              "      background-color: #E2EBFA;\n",
              "      box-shadow: 0px 1px 2px rgba(60, 64, 67, 0.3), 0px 1px 3px 1px rgba(60, 64, 67, 0.15);\n",
              "      fill: #174EA6;\n",
              "    }\n",
              "\n",
              "    [theme=dark] .colab-df-convert {\n",
              "      background-color: #3B4455;\n",
              "      fill: #D2E3FC;\n",
              "    }\n",
              "\n",
              "    [theme=dark] .colab-df-convert:hover {\n",
              "      background-color: #434B5C;\n",
              "      box-shadow: 0px 1px 3px 1px rgba(0, 0, 0, 0.15);\n",
              "      filter: drop-shadow(0px 1px 2px rgba(0, 0, 0, 0.3));\n",
              "      fill: #FFFFFF;\n",
              "    }\n",
              "  </style>\n",
              "\n",
              "      <script>\n",
              "        const buttonEl =\n",
              "          document.querySelector('#df-875a8dc9-0e28-41d0-b49b-4e2e851486d0 button.colab-df-convert');\n",
              "        buttonEl.style.display =\n",
              "          google.colab.kernel.accessAllowed ? 'block' : 'none';\n",
              "\n",
              "        async function convertToInteractive(key) {\n",
              "          const element = document.querySelector('#df-875a8dc9-0e28-41d0-b49b-4e2e851486d0');\n",
              "          const dataTable =\n",
              "            await google.colab.kernel.invokeFunction('convertToInteractive',\n",
              "                                                     [key], {});\n",
              "          if (!dataTable) return;\n",
              "\n",
              "          const docLinkHtml = 'Like what you see? Visit the ' +\n",
              "            '<a target=\"_blank\" href=https://colab.research.google.com/notebooks/data_table.ipynb>data table notebook</a>'\n",
              "            + ' to learn more about interactive tables.';\n",
              "          element.innerHTML = '';\n",
              "          dataTable['output_type'] = 'display_data';\n",
              "          await google.colab.output.renderOutput(dataTable, element);\n",
              "          const docLink = document.createElement('div');\n",
              "          docLink.innerHTML = docLinkHtml;\n",
              "          element.appendChild(docLink);\n",
              "        }\n",
              "      </script>\n",
              "    </div>\n",
              "  </div>\n",
              "  "
            ],
            "text/plain": [
              "            id     pickup_datetime\n",
              "4737      4906 2016-02-01 00:00:00\n",
              "649368  679397 2016-04-30 10:56:00\n",
              "649369  679398 2016-04-30 10:57:00\n",
              "649370  679399 2016-04-30 10:57:00\n",
              "649371  679400 2016-04-30 10:57:00\n",
              "649372  679401 2016-04-30 10:57:00\n",
              "649373  679402 2016-04-30 10:58:00\n",
              "649374  679403 2016-04-30 10:58:00\n",
              "649375  679404 2016-04-30 10:58:00\n",
              "649376  679405 2016-04-30 10:58:00"
            ]
          },
          "metadata": {},
          "execution_count": 21
        }
      ],
      "source": [
        "cutoff_time = trips[['id', 'pickup_datetime']]\n",
        "cutoff_time = cutoff_time[cutoff_time['pickup_datetime'] > \"2016-01-12\"]\n",
        "preview(cutoff_time, 10)"
      ]
    },
    {
      "cell_type": "markdown",
      "metadata": {
        "id": "Py4JVMYmHjtf"
      },
      "source": [
        "### Step 3: Create baseline features using Deep Feature Synthesis\n",
        "\n",
        "Instead of manually creating features, such as \"month of pickup datetime\", we can let DFS come up with them automatically. It does this by \n",
        "* interpreting the variable types of the columns e.g categorical, numeric and others \n",
        "* matching the columns to the primitives that can be applied to their variable types\n",
        "* creating features based on these matches"
      ]
    },
    {
      "cell_type": "markdown",
      "metadata": {
        "id": "VlONUIWzHjtf"
      },
      "source": [
        "**Create transform features using transform primitives**\n",
        "\n",
        "As we described in the video, features fall into two major categories, ``transform`` and ``aggregate``. In featureools, we can create transform features by specifying ``transform`` primitives. Below we specify a ``transform`` primitive called ``weekend`` and here is what it does:\n",
        "\n",
        "* It can be applied to any ``datetime`` column in the data. \n",
        "* For each entry in the column, it assess if it is a ``weekend`` and returns a boolean. \n",
        "\n",
        "In this specific data, there are two ``datetime`` columns ``pickup_datetime`` and ``dropoff_datetime``. The tool automatically creates features using the primitive and these two columns as shown below. "
      ]
    },
    {
      "cell_type": "markdown",
      "metadata": {
        "id": "NKsBFDADHjtf"
      },
      "source": [
        "### Question 4: Creating a baseline model with only 1 transform primitive (10 Marks)\n",
        "\n",
        "**Question: 4.1 Define transform primitive for weekend and define features using dfs?** "
      ]
    },
    {
      "cell_type": "code",
      "execution_count": 22,
      "metadata": {
        "ExecuteTime": {
          "end_time": "2021-07-15T12:46:18.552030Z",
          "start_time": "2021-07-15T12:46:16.349739Z"
        },
        "id": "ImVQCxlHHjtg"
      },
      "outputs": [],
      "source": [
        "#Remove _________ and complete the code\n",
        "trans_primitives = [IsWeekend]\n",
        "\n",
        "#Remove _________ and complete the code\n",
        "features = ft.dfs(entities=entities,\n",
        "                  relationships=relationships,\n",
        "                  target_entity=\"trips\",\n",
        "                  trans_primitives=trans_primitives,\n",
        "                  agg_primitives=[],\n",
        "                  ignore_variables={\"trips\": [\"pickup_latitude\", \"pickup_longitude\",\n",
        "                                              \"dropoff_latitude\", \"dropoff_longitude\"]},\n",
        "                  features_only=True)"
      ]
    },
    {
      "cell_type": "markdown",
      "metadata": {
        "id": "NLkpcuR5Hjtg"
      },
      "source": [
        "*If you're interested about parameters to DFS such as `ignore_variables`, you can learn more about these parameters [here](https://docs.featuretools.com/generated/featuretools.dfs.html#featuretools.dfs)*\n",
        "<p>Here are the features created.</p>"
      ]
    },
    {
      "cell_type": "code",
      "execution_count": 23,
      "metadata": {
        "ExecuteTime": {
          "end_time": "2021-07-15T12:46:24.799450Z",
          "start_time": "2021-07-15T12:46:24.699552Z"
        },
        "colab": {
          "base_uri": "https://localhost:8080/"
        },
        "id": "QHS1Lx8-Hjth",
        "outputId": "5f38b31d-960d-4c2d-a47f-150be75e8f15"
      },
      "outputs": [
        {
          "output_type": "stream",
          "name": "stdout",
          "text": [
            "Number of features: 13\n"
          ]
        },
        {
          "output_type": "execute_result",
          "data": {
            "text/plain": [
              "[<Feature: vendor_id>,\n",
              " <Feature: passenger_count>,\n",
              " <Feature: trip_distance>,\n",
              " <Feature: payment_type>,\n",
              " <Feature: trip_duration>,\n",
              " <Feature: pickup_neighborhood>,\n",
              " <Feature: dropoff_neighborhood>,\n",
              " <Feature: IS_WEEKEND(dropoff_datetime)>,\n",
              " <Feature: IS_WEEKEND(pickup_datetime)>,\n",
              " <Feature: pickup_neighborhoods.latitude>,\n",
              " <Feature: pickup_neighborhoods.longitude>,\n",
              " <Feature: dropoff_neighborhoods.latitude>,\n",
              " <Feature: dropoff_neighborhoods.longitude>]"
            ]
          },
          "metadata": {},
          "execution_count": 23
        }
      ],
      "source": [
        "print (\"Number of features: %d\" % len(features))\n",
        "features"
      ]
    },
    {
      "cell_type": "markdown",
      "metadata": {
        "id": "9nZDr1d4Hjth"
      },
      "source": [
        "\n",
        "Now let's compute the features. "
      ]
    },
    {
      "cell_type": "markdown",
      "metadata": {
        "id": "pbKKdqrmHjth"
      },
      "source": [
        "**Question: 4.2 Compute features and define feature matrix**"
      ]
    },
    {
      "cell_type": "code",
      "execution_count": 24,
      "metadata": {
        "ExecuteTime": {
          "end_time": "2021-07-15T12:46:56.132642Z",
          "start_time": "2021-07-15T12:46:56.030342Z"
        },
        "id": "6GOwc0XFHjth"
      },
      "outputs": [],
      "source": [
        "def compute_features(features, cutoff_time):\n",
        "    # shuffle so we don't see encoded features in the front or backs\n",
        "\n",
        "    np.random.shuffle(features)\n",
        "    feature_matrix = ft.calculate_feature_matrix(features,\n",
        "                                                 cutoff_time=cutoff_time,\n",
        "                                                 approximate='36d',\n",
        "                                                 verbose=True,entities=entities, relationships=relationships)\n",
        "    print(\"Finishing computing...\")\n",
        "    feature_matrix, features = ft.encode_features(feature_matrix, features,\n",
        "                                                  to_encode=[\"pickup_neighborhood\", \"dropoff_neighborhood\"],\n",
        "                                                  include_unknown=False)\n",
        "    return feature_matrix"
      ]
    },
    {
      "cell_type": "code",
      "execution_count": 25,
      "metadata": {
        "colab": {
          "base_uri": "https://localhost:8080/"
        },
        "id": "1oh0POWxHjth",
        "outputId": "07e7a5fd-a375-441e-89e4-4d0309f176c2"
      },
      "outputs": [
        {
          "output_type": "stream",
          "name": "stdout",
          "text": [
            "Elapsed: 00:24 | Progress: 100%|██████████\n",
            "Finishing computing...\n"
          ]
        }
      ],
      "source": [
        "#Remove _________ and complete the code\n",
        "feature_matrix1 = compute_features(features, cutoff_time)"
      ]
    },
    {
      "cell_type": "code",
      "execution_count": 26,
      "metadata": {
        "ExecuteTime": {
          "end_time": "2021-07-15T12:47:21.290315Z",
          "start_time": "2021-07-15T12:47:20.995105Z"
        },
        "colab": {
          "base_uri": "https://localhost:8080/",
          "height": 319
        },
        "id": "GjcIOoxYHjti",
        "outputId": "7bc49403-aefd-4b9c-cddb-2393e8482a17"
      },
      "outputs": [
        {
          "output_type": "execute_result",
          "data": {
            "text/html": [
              "\n",
              "  <div id=\"df-d2b5de0b-bdbe-471d-9ae0-d8e73101b254\">\n",
              "    <div class=\"colab-df-container\">\n",
              "      <div>\n",
              "<style scoped>\n",
              "    .dataframe tbody tr th:only-of-type {\n",
              "        vertical-align: middle;\n",
              "    }\n",
              "\n",
              "    .dataframe tbody tr th {\n",
              "        vertical-align: top;\n",
              "    }\n",
              "\n",
              "    .dataframe thead th {\n",
              "        text-align: right;\n",
              "    }\n",
              "</style>\n",
              "<table border=\"1\" class=\"dataframe\">\n",
              "  <thead>\n",
              "    <tr style=\"text-align: right;\">\n",
              "      <th></th>\n",
              "      <th>dropoff_neighborhood = AD</th>\n",
              "      <th>dropoff_neighborhood = A</th>\n",
              "      <th>dropoff_neighborhood = AA</th>\n",
              "      <th>dropoff_neighborhood = D</th>\n",
              "      <th>dropoff_neighborhood = AR</th>\n",
              "      <th>dropoff_neighborhood = C</th>\n",
              "      <th>dropoff_neighborhood = O</th>\n",
              "      <th>dropoff_neighborhood = AK</th>\n",
              "      <th>dropoff_neighborhood = N</th>\n",
              "      <th>dropoff_neighborhood = AO</th>\n",
              "      <th>IS_WEEKEND(dropoff_datetime)</th>\n",
              "      <th>payment_type</th>\n",
              "      <th>passenger_count</th>\n",
              "      <th>pickup_neighborhoods.latitude</th>\n",
              "      <th>trip_duration</th>\n",
              "      <th>trip_distance</th>\n",
              "      <th>pickup_neighborhoods.longitude</th>\n",
              "      <th>vendor_id</th>\n",
              "      <th>pickup_neighborhood = AD</th>\n",
              "      <th>pickup_neighborhood = AA</th>\n",
              "      <th>pickup_neighborhood = D</th>\n",
              "      <th>pickup_neighborhood = A</th>\n",
              "      <th>pickup_neighborhood = AR</th>\n",
              "      <th>pickup_neighborhood = AK</th>\n",
              "      <th>pickup_neighborhood = AO</th>\n",
              "      <th>pickup_neighborhood = N</th>\n",
              "      <th>pickup_neighborhood = O</th>\n",
              "      <th>pickup_neighborhood = R</th>\n",
              "      <th>dropoff_neighborhoods.latitude</th>\n",
              "      <th>dropoff_neighborhoods.longitude</th>\n",
              "      <th>IS_WEEKEND(pickup_datetime)</th>\n",
              "    </tr>\n",
              "    <tr>\n",
              "      <th>id</th>\n",
              "      <th></th>\n",
              "      <th></th>\n",
              "      <th></th>\n",
              "      <th></th>\n",
              "      <th></th>\n",
              "      <th></th>\n",
              "      <th></th>\n",
              "      <th></th>\n",
              "      <th></th>\n",
              "      <th></th>\n",
              "      <th></th>\n",
              "      <th></th>\n",
              "      <th></th>\n",
              "      <th></th>\n",
              "      <th></th>\n",
              "      <th></th>\n",
              "      <th></th>\n",
              "      <th></th>\n",
              "      <th></th>\n",
              "      <th></th>\n",
              "      <th></th>\n",
              "      <th></th>\n",
              "      <th></th>\n",
              "      <th></th>\n",
              "      <th></th>\n",
              "      <th></th>\n",
              "      <th></th>\n",
              "      <th></th>\n",
              "      <th></th>\n",
              "      <th></th>\n",
              "      <th></th>\n",
              "    </tr>\n",
              "  </thead>\n",
              "  <tbody>\n",
              "    <tr>\n",
              "      <th>4906</th>\n",
              "      <td>False</td>\n",
              "      <td>False</td>\n",
              "      <td>False</td>\n",
              "      <td>False</td>\n",
              "      <td>False</td>\n",
              "      <td>False</td>\n",
              "      <td>False</td>\n",
              "      <td>False</td>\n",
              "      <td>False</td>\n",
              "      <td>False</td>\n",
              "      <td>False</td>\n",
              "      <td>1</td>\n",
              "      <td>1</td>\n",
              "      <td>40.740949</td>\n",
              "      <td>569</td>\n",
              "      <td>1.60</td>\n",
              "      <td>-73.995394</td>\n",
              "      <td>1</td>\n",
              "      <td>False</td>\n",
              "      <td>False</td>\n",
              "      <td>False</td>\n",
              "      <td>False</td>\n",
              "      <td>False</td>\n",
              "      <td>False</td>\n",
              "      <td>False</td>\n",
              "      <td>False</td>\n",
              "      <td>False</td>\n",
              "      <td>False</td>\n",
              "      <td>40.729670</td>\n",
              "      <td>-73.981693</td>\n",
              "      <td>False</td>\n",
              "    </tr>\n",
              "    <tr>\n",
              "      <th>679397</th>\n",
              "      <td>False</td>\n",
              "      <td>False</td>\n",
              "      <td>False</td>\n",
              "      <td>False</td>\n",
              "      <td>False</td>\n",
              "      <td>False</td>\n",
              "      <td>False</td>\n",
              "      <td>False</td>\n",
              "      <td>False</td>\n",
              "      <td>False</td>\n",
              "      <td>True</td>\n",
              "      <td>2</td>\n",
              "      <td>2</td>\n",
              "      <td>40.771748</td>\n",
              "      <td>630</td>\n",
              "      <td>2.00</td>\n",
              "      <td>-73.868960</td>\n",
              "      <td>1</td>\n",
              "      <td>False</td>\n",
              "      <td>False</td>\n",
              "      <td>False</td>\n",
              "      <td>False</td>\n",
              "      <td>False</td>\n",
              "      <td>False</td>\n",
              "      <td>False</td>\n",
              "      <td>False</td>\n",
              "      <td>False</td>\n",
              "      <td>False</td>\n",
              "      <td>40.766575</td>\n",
              "      <td>-73.919853</td>\n",
              "      <td>True</td>\n",
              "    </tr>\n",
              "    <tr>\n",
              "      <th>679398</th>\n",
              "      <td>False</td>\n",
              "      <td>False</td>\n",
              "      <td>False</td>\n",
              "      <td>False</td>\n",
              "      <td>False</td>\n",
              "      <td>False</td>\n",
              "      <td>False</td>\n",
              "      <td>False</td>\n",
              "      <td>False</td>\n",
              "      <td>False</td>\n",
              "      <td>True</td>\n",
              "      <td>2</td>\n",
              "      <td>5</td>\n",
              "      <td>40.747126</td>\n",
              "      <td>1677</td>\n",
              "      <td>5.44</td>\n",
              "      <td>-73.985336</td>\n",
              "      <td>2</td>\n",
              "      <td>False</td>\n",
              "      <td>False</td>\n",
              "      <td>False</td>\n",
              "      <td>False</td>\n",
              "      <td>False</td>\n",
              "      <td>False</td>\n",
              "      <td>True</td>\n",
              "      <td>False</td>\n",
              "      <td>False</td>\n",
              "      <td>False</td>\n",
              "      <td>40.715828</td>\n",
              "      <td>-73.954298</td>\n",
              "      <td>True</td>\n",
              "    </tr>\n",
              "    <tr>\n",
              "      <th>679399</th>\n",
              "      <td>False</td>\n",
              "      <td>False</td>\n",
              "      <td>False</td>\n",
              "      <td>False</td>\n",
              "      <td>False</td>\n",
              "      <td>False</td>\n",
              "      <td>False</td>\n",
              "      <td>False</td>\n",
              "      <td>False</td>\n",
              "      <td>False</td>\n",
              "      <td>True</td>\n",
              "      <td>1</td>\n",
              "      <td>1</td>\n",
              "      <td>40.775299</td>\n",
              "      <td>1329</td>\n",
              "      <td>2.90</td>\n",
              "      <td>-73.960551</td>\n",
              "      <td>1</td>\n",
              "      <td>False</td>\n",
              "      <td>False</td>\n",
              "      <td>False</td>\n",
              "      <td>False</td>\n",
              "      <td>False</td>\n",
              "      <td>False</td>\n",
              "      <td>False</td>\n",
              "      <td>False</td>\n",
              "      <td>True</td>\n",
              "      <td>False</td>\n",
              "      <td>40.738211</td>\n",
              "      <td>-73.987544</td>\n",
              "      <td>True</td>\n",
              "    </tr>\n",
              "    <tr>\n",
              "      <th>679400</th>\n",
              "      <td>False</td>\n",
              "      <td>False</td>\n",
              "      <td>True</td>\n",
              "      <td>False</td>\n",
              "      <td>False</td>\n",
              "      <td>False</td>\n",
              "      <td>False</td>\n",
              "      <td>False</td>\n",
              "      <td>False</td>\n",
              "      <td>False</td>\n",
              "      <td>True</td>\n",
              "      <td>2</td>\n",
              "      <td>2</td>\n",
              "      <td>40.750179</td>\n",
              "      <td>133</td>\n",
              "      <td>0.70</td>\n",
              "      <td>-73.992557</td>\n",
              "      <td>1</td>\n",
              "      <td>False</td>\n",
              "      <td>False</td>\n",
              "      <td>True</td>\n",
              "      <td>False</td>\n",
              "      <td>False</td>\n",
              "      <td>False</td>\n",
              "      <td>False</td>\n",
              "      <td>False</td>\n",
              "      <td>False</td>\n",
              "      <td>False</td>\n",
              "      <td>40.757707</td>\n",
              "      <td>-73.986446</td>\n",
              "      <td>True</td>\n",
              "    </tr>\n",
              "  </tbody>\n",
              "</table>\n",
              "</div>\n",
              "      <button class=\"colab-df-convert\" onclick=\"convertToInteractive('df-d2b5de0b-bdbe-471d-9ae0-d8e73101b254')\"\n",
              "              title=\"Convert this dataframe to an interactive table.\"\n",
              "              style=\"display:none;\">\n",
              "        \n",
              "  <svg xmlns=\"http://www.w3.org/2000/svg\" height=\"24px\"viewBox=\"0 0 24 24\"\n",
              "       width=\"24px\">\n",
              "    <path d=\"M0 0h24v24H0V0z\" fill=\"none\"/>\n",
              "    <path d=\"M18.56 5.44l.94 2.06.94-2.06 2.06-.94-2.06-.94-.94-2.06-.94 2.06-2.06.94zm-11 1L8.5 8.5l.94-2.06 2.06-.94-2.06-.94L8.5 2.5l-.94 2.06-2.06.94zm10 10l.94 2.06.94-2.06 2.06-.94-2.06-.94-.94-2.06-.94 2.06-2.06.94z\"/><path d=\"M17.41 7.96l-1.37-1.37c-.4-.4-.92-.59-1.43-.59-.52 0-1.04.2-1.43.59L10.3 9.45l-7.72 7.72c-.78.78-.78 2.05 0 2.83L4 21.41c.39.39.9.59 1.41.59.51 0 1.02-.2 1.41-.59l7.78-7.78 2.81-2.81c.8-.78.8-2.07 0-2.86zM5.41 20L4 18.59l7.72-7.72 1.47 1.35L5.41 20z\"/>\n",
              "  </svg>\n",
              "      </button>\n",
              "      \n",
              "  <style>\n",
              "    .colab-df-container {\n",
              "      display:flex;\n",
              "      flex-wrap:wrap;\n",
              "      gap: 12px;\n",
              "    }\n",
              "\n",
              "    .colab-df-convert {\n",
              "      background-color: #E8F0FE;\n",
              "      border: none;\n",
              "      border-radius: 50%;\n",
              "      cursor: pointer;\n",
              "      display: none;\n",
              "      fill: #1967D2;\n",
              "      height: 32px;\n",
              "      padding: 0 0 0 0;\n",
              "      width: 32px;\n",
              "    }\n",
              "\n",
              "    .colab-df-convert:hover {\n",
              "      background-color: #E2EBFA;\n",
              "      box-shadow: 0px 1px 2px rgba(60, 64, 67, 0.3), 0px 1px 3px 1px rgba(60, 64, 67, 0.15);\n",
              "      fill: #174EA6;\n",
              "    }\n",
              "\n",
              "    [theme=dark] .colab-df-convert {\n",
              "      background-color: #3B4455;\n",
              "      fill: #D2E3FC;\n",
              "    }\n",
              "\n",
              "    [theme=dark] .colab-df-convert:hover {\n",
              "      background-color: #434B5C;\n",
              "      box-shadow: 0px 1px 3px 1px rgba(0, 0, 0, 0.15);\n",
              "      filter: drop-shadow(0px 1px 2px rgba(0, 0, 0, 0.3));\n",
              "      fill: #FFFFFF;\n",
              "    }\n",
              "  </style>\n",
              "\n",
              "      <script>\n",
              "        const buttonEl =\n",
              "          document.querySelector('#df-d2b5de0b-bdbe-471d-9ae0-d8e73101b254 button.colab-df-convert');\n",
              "        buttonEl.style.display =\n",
              "          google.colab.kernel.accessAllowed ? 'block' : 'none';\n",
              "\n",
              "        async function convertToInteractive(key) {\n",
              "          const element = document.querySelector('#df-d2b5de0b-bdbe-471d-9ae0-d8e73101b254');\n",
              "          const dataTable =\n",
              "            await google.colab.kernel.invokeFunction('convertToInteractive',\n",
              "                                                     [key], {});\n",
              "          if (!dataTable) return;\n",
              "\n",
              "          const docLinkHtml = 'Like what you see? Visit the ' +\n",
              "            '<a target=\"_blank\" href=https://colab.research.google.com/notebooks/data_table.ipynb>data table notebook</a>'\n",
              "            + ' to learn more about interactive tables.';\n",
              "          element.innerHTML = '';\n",
              "          dataTable['output_type'] = 'display_data';\n",
              "          await google.colab.output.renderOutput(dataTable, element);\n",
              "          const docLink = document.createElement('div');\n",
              "          docLink.innerHTML = docLinkHtml;\n",
              "          element.appendChild(docLink);\n",
              "        }\n",
              "      </script>\n",
              "    </div>\n",
              "  </div>\n",
              "  "
            ],
            "text/plain": [
              "        dropoff_neighborhood = AD  ...  IS_WEEKEND(pickup_datetime)\n",
              "id                                 ...                             \n",
              "4906                        False  ...                        False\n",
              "679397                      False  ...                         True\n",
              "679398                      False  ...                         True\n",
              "679399                      False  ...                         True\n",
              "679400                      False  ...                         True\n",
              "\n",
              "[5 rows x 31 columns]"
            ]
          },
          "metadata": {},
          "execution_count": 26
        }
      ],
      "source": [
        "preview(feature_matrix1, 5)"
      ]
    },
    {
      "cell_type": "code",
      "execution_count": 27,
      "metadata": {
        "colab": {
          "base_uri": "https://localhost:8080/"
        },
        "id": "DsNaGTIIHjti",
        "outputId": "add3046f-18a1-491a-bee5-7ae747920e7c"
      },
      "outputs": [
        {
          "output_type": "execute_result",
          "data": {
            "text/plain": [
              "(943492, 31)"
            ]
          },
          "metadata": {},
          "execution_count": 27
        }
      ],
      "source": [
        "feature_matrix1.shape"
      ]
    },
    {
      "cell_type": "markdown",
      "metadata": {
        "id": "Gkt1iQlBHjti"
      },
      "source": [
        "### Build the Model\n",
        "\n",
        "To build a model, we\n",
        "* Separate the data into a portion for ``training`` (75% in this case) and a portion for ``testing`` \n",
        "* Get the log of the trip duration so that a more linear relationship can be found.\n",
        "* Train a model using a ``Linear Regression, Decision Tree and Random Forest model``"
      ]
    },
    {
      "cell_type": "markdown",
      "metadata": {
        "id": "FrMXSdCnHjti"
      },
      "source": [
        "#### Transforming the duration variable on sqrt and log"
      ]
    },
    {
      "cell_type": "code",
      "execution_count": 28,
      "metadata": {
        "colab": {
          "base_uri": "https://localhost:8080/",
          "height": 0
        },
        "id": "Lu6YEQSBHjti",
        "outputId": "e740b45a-accc-41fa-c312-7149bed07b93"
      },
      "outputs": [
        {
          "output_type": "execute_result",
          "data": {
            "text/plain": [
              "(array([  4566.,  35831., 163872., 249551., 225381., 149544.,  80472.,\n",
              "         38481.,  18054.,   8657.]),\n",
              " array([ 1.        ,  6.90499792, 12.80999584, 18.71499376, 24.61999167,\n",
              "        30.52498959, 36.42998751, 42.33498543, 48.23998335, 54.14498127,\n",
              "        60.04997918]),\n",
              " <a list of 10 Patch objects>)"
            ]
          },
          "metadata": {},
          "execution_count": 28
        },
        {
          "output_type": "display_data",
          "data": {
            "image/png": "[encoded data removed]",
            "text/plain": [
              "<Figure size 432x288 with 1 Axes>"
            ]
          },
          "metadata": {
            "needs_background": "light"
          }
        }
      ],
      "source": [
        "plt.hist(np.sqrt(trips['trip_duration']))"
      ]
    },
    {
      "cell_type": "code",
      "execution_count": 29,
      "metadata": {
        "colab": {
          "base_uri": "https://localhost:8080/",
          "height": 0
        },
        "id": "r482cZcAHjtj",
        "outputId": "4fba7d50-ee8a-4403-e0f6-909afb1a496b"
      },
      "outputs": [
        {
          "output_type": "execute_result",
          "data": {
            "text/plain": [
              "(array([1.81000e+02, 5.97000e+02, 7.44000e+02, 1.43900e+03, 2.86700e+03,\n",
              "        2.00260e+04, 1.35785e+05, 3.69738e+05, 3.50815e+05, 9.22170e+04]),\n",
              " array([0.        , 0.81903544, 1.63807088, 2.45710632, 3.27614176,\n",
              "        4.0951772 , 4.91421264, 5.73324808, 6.55228352, 7.37131896,\n",
              "        8.1903544 ]),\n",
              " <a list of 10 Patch objects>)"
            ]
          },
          "metadata": {},
          "execution_count": 29
        },
        {
          "output_type": "display_data",
          "data": {
            "image/png": "[encoded data removed]",
            "text/plain": [
              "<Figure size 432x288 with 1 Axes>"
            ]
          },
          "metadata": {
            "needs_background": "light"
          }
        }
      ],
      "source": [
        "plt.hist(np.log(trips['trip_duration']))"
      ]
    },
    {
      "cell_type": "markdown",
      "metadata": {
        "id": "MESu0v1THjtj"
      },
      "source": [
        "- We can clearly see that the sqrt transformation is giving nearly normal distribution, there for we can choose the sqrt transformation on the dependent(trip_duration) variable."
      ]
    },
    {
      "cell_type": "markdown",
      "metadata": {
        "id": "xjYtpsmeHjtj"
      },
      "source": [
        "### Splitting the data into train and test"
      ]
    },
    {
      "cell_type": "code",
      "execution_count": 30,
      "metadata": {
        "ExecuteTime": {
          "end_time": "2021-07-15T12:47:30.919229Z",
          "start_time": "2021-07-15T12:47:24.754592Z"
        },
        "id": "J_zTmOJvHjtj"
      },
      "outputs": [],
      "source": [
        "# separates the whole feature matrix into train data feature matrix, \n",
        "# train data labels, and test data feature matrix \n",
        "X_train, y_train, X_test, y_test = get_train_test_fm(feature_matrix1,.75)\n",
        "y_train = np.sqrt(y_train)\n",
        "y_test = np.sqrt(y_test)"
      ]
    },
    {
      "cell_type": "markdown",
      "metadata": {
        "id": "C35qOIjNHjtj"
      },
      "source": [
        "### Defining function for to check the performance of the model. "
      ]
    },
    {
      "cell_type": "code",
      "execution_count": 31,
      "metadata": {
        "id": "Fjn6zZPAHjtk"
      },
      "outputs": [],
      "source": [
        "#RMSE\n",
        "def rmse(predictions, targets):\n",
        "    return np.sqrt(((targets - predictions) ** 2).mean())\n",
        "\n",
        "# MAE\n",
        "def mae(predictions, targets):\n",
        "    return np.mean(np.abs((targets - predictions)))\n",
        "\n",
        "\n",
        "# Model Performance on test and train data\n",
        "def model_pref(model, x_train, x_test, y_train,y_test):\n",
        "\n",
        "    # Insample Prediction\n",
        "    y_pred_train = model.predict(x_train)\n",
        "    y_observed_train = y_train\n",
        "\n",
        "    # Prediction on test data\n",
        "    y_pred_test = model.predict(x_test)\n",
        "    y_observed_test = y_test\n",
        "\n",
        "    print(\n",
        "        pd.DataFrame(\n",
        "            {\n",
        "                \"Data\": [\"Train\", \"Test\"],\n",
        "                'RSquared':\n",
        "                    [r2_score(y_observed_train,y_pred_train),\n",
        "                    r2_score(y_observed_test,y_pred_test )\n",
        "                    ],\n",
        "                \"RMSE\": [\n",
        "                    rmse(y_pred_train, y_observed_train),\n",
        "                    rmse(y_pred_test, y_observed_test),\n",
        "                ],\n",
        "                \"MAE\": [\n",
        "                    mae(y_pred_train, y_observed_train),\n",
        "                    mae(y_pred_test, y_observed_test),\n",
        "                ],\n",
        "            }\n",
        "        )\n",
        "    )"
      ]
    },
    {
      "cell_type": "markdown",
      "metadata": {
        "id": "UqM8KWcwHjtk"
      },
      "source": [
        "#### Question 4.3 Build Linear regression using only weekend transform primitive"
      ]
    },
    {
      "cell_type": "code",
      "execution_count": 33,
      "metadata": {
        "colab": {
          "base_uri": "https://localhost:8080/"
        },
        "id": "LmX81xjbHjtk",
        "outputId": "819e79f7-8f1c-40ac-c79a-2d6d67dc4013"
      },
      "outputs": [
        {
          "output_type": "execute_result",
          "data": {
            "text/plain": [
              "LinearRegression()"
            ]
          },
          "metadata": {},
          "execution_count": 33
        }
      ],
      "source": [
        "#Remove _________ and complete the code\n",
        "\n",
        "#defining the model\n",
        "\n",
        "lr1=LinearRegression()\n",
        "\n",
        "#fitting the model\n",
        "lr1.fit(X_train,y_train)\n"
      ]
    },
    {
      "cell_type": "markdown",
      "metadata": {
        "id": "RK1vUeJ3Hjtk"
      },
      "source": [
        "#### Check the performance of the model"
      ]
    },
    {
      "cell_type": "code",
      "execution_count": 35,
      "metadata": {
        "colab": {
          "base_uri": "https://localhost:8080/"
        },
        "id": "wAMRbvMtHjtl",
        "outputId": "3877575f-ae6a-4374-b4e8-dae3e0875354"
      },
      "outputs": [
        {
          "output_type": "stream",
          "name": "stdout",
          "text": [
            "    Data  RSquared      RMSE       MAE\n",
            "0  Train  0.573252  6.125474  4.729200\n",
            "1   Test  0.553937  6.576575  5.033498\n"
          ]
        }
      ],
      "source": [
        "#Remove _________ and complete the code\n",
        "model_pref(lr1, X_train, X_test,y_train,y_test)  "
      ]
    },
    {
      "cell_type": "markdown",
      "metadata": {
        "id": "1QLDNlzyHjtl"
      },
      "source": [
        "**Write your answers here:_____**\n",
        "\n",
        "- Model is giving only 0.55 Rsquared, with RSME of 6.57 and MAE of 5.\n",
        "- Model seems to have generalised well. There is not muc difference in the RMSE for training and testing data."
      ]
    },
    {
      "cell_type": "markdown",
      "metadata": {
        "id": "yRs0luVSHjtl"
      },
      "source": [
        "#### Question 4.4 Building decision tree using only weekend transform primitive"
      ]
    },
    {
      "cell_type": "code",
      "execution_count": 36,
      "metadata": {
        "colab": {
          "base_uri": "https://localhost:8080/"
        },
        "id": "D3eqTcs2Hjtm",
        "outputId": "5dd33d86-fcd4-4982-d6ad-e093baa997ee"
      },
      "outputs": [
        {
          "output_type": "execute_result",
          "data": {
            "text/plain": [
              "DecisionTreeRegressor()"
            ]
          },
          "metadata": {},
          "execution_count": 36
        }
      ],
      "source": [
        "#Remove _________ and complete the code\n",
        "\n",
        "#define the model\n",
        "dt=DecisionTreeRegressor()\n",
        "\n",
        "#fit the model\n",
        "\n",
        "dt.fit(X_train,y_train)"
      ]
    },
    {
      "cell_type": "markdown",
      "metadata": {
        "id": "B3YmzIkSHjtm"
      },
      "source": [
        "#### Check the performance of the model"
      ]
    },
    {
      "cell_type": "code",
      "execution_count": 38,
      "metadata": {
        "colab": {
          "base_uri": "https://localhost:8080/"
        },
        "id": "beDn4freHjtm",
        "outputId": "367cfd93-e9ad-4116-a987-8e2bbf2cff13"
      },
      "outputs": [
        {
          "output_type": "stream",
          "name": "stdout",
          "text": [
            "    Data  RSquared      RMSE       MAE\n",
            "0  Train  0.915210  2.730401  1.534051\n",
            "1   Test  0.587048  6.327784  4.715213\n"
          ]
        }
      ],
      "source": [
        "#Remove _________ and complete the code\n",
        "model_pref(dt, X_train, X_test,y_train,y_test)  "
      ]
    },
    {
      "cell_type": "markdown",
      "metadata": {
        "id": "j4CSh0nnHjtm"
      },
      "source": [
        "**Write your answers here:_____**\n",
        "\n",
        "- The model is overfitting, with train R2 as 0.92 while test R2 as 0.59\n",
        "- This generally happens in decision tree, one solution for this is to Prune the decision tree, let's try pruning and see if the performance improves. "
      ]
    },
    {
      "cell_type": "markdown",
      "metadata": {
        "id": "cEByTsOyHjtm"
      },
      "source": [
        "#### Question 4.5 Building Pruned decision tree using only weekend transform primitive"
      ]
    },
    {
      "cell_type": "code",
      "execution_count": 39,
      "metadata": {
        "colab": {
          "base_uri": "https://localhost:8080/"
        },
        "id": "_j0qBxOoHjtm",
        "outputId": "2b0143d0-5c30-4d25-92ee-f906f3ee89bb"
      },
      "outputs": [
        {
          "output_type": "execute_result",
          "data": {
            "text/plain": [
              "DecisionTreeRegressor(max_depth=3)"
            ]
          },
          "metadata": {},
          "execution_count": 39
        }
      ],
      "source": [
        "#Remove _________ and complete the code\n",
        "#define the model\n",
        "\n",
        "#use max_depth=7\n",
        "dt_pruned=DecisionTreeRegressor(max_depth=3)\n",
        "\n",
        "#fit the model\n",
        "dt_pruned.fit(X_train,y_train)"
      ]
    },
    {
      "cell_type": "markdown",
      "metadata": {
        "id": "-FOIzEH4Hjtn"
      },
      "source": [
        "#### Check the performance of the model"
      ]
    },
    {
      "cell_type": "code",
      "execution_count": 40,
      "metadata": {
        "colab": {
          "base_uri": "https://localhost:8080/"
        },
        "id": "DPpAjfZYHjtn",
        "outputId": "139c0685-c21d-4356-e30d-b73f2c509203"
      },
      "outputs": [
        {
          "output_type": "stream",
          "name": "stdout",
          "text": [
            "    Data  RSquared      RMSE       MAE\n",
            "0  Train  0.679058  5.312113  4.068075\n",
            "1   Test  0.649038  5.833534  4.424450\n"
          ]
        }
      ],
      "source": [
        "#Remove _________ and complete the code\n",
        "model_pref(dt_pruned, X_train, X_test,y_train,y_test)  "
      ]
    },
    {
      "cell_type": "markdown",
      "metadata": {
        "id": "IPAqjZDOHjtn"
      },
      "source": [
        "**Write your answers here:_____**\n",
        "\n",
        "- The pruned model is performing better with both training R2 and Test R2 as 0.68 and 0.65 respectively.\n"
      ]
    },
    {
      "cell_type": "markdown",
      "metadata": {
        "id": "p5-5JXE-Hjtn"
      },
      "source": [
        "#### Question 4.6 Building Random Forest using only weekend transform primitive"
      ]
    },
    {
      "cell_type": "code",
      "execution_count": 41,
      "metadata": {
        "id": "2VY-WmOcHjtn"
      },
      "outputs": [],
      "source": [
        "#Remove _________ and complete the code\n",
        "\n",
        "#define the model\n",
        "\n",
        "#using (n_estimators=60,max_depth=7)\n",
        "\n",
        "rf=RandomForestRegressor(n_estimators=60,max_depth=7)"
      ]
    },
    {
      "cell_type": "code",
      "execution_count": 43,
      "metadata": {
        "colab": {
          "base_uri": "https://localhost:8080/"
        },
        "id": "xuxQzyYrHjtn",
        "outputId": "4500376b-4b07-4631-9987-4d78e2fceff7"
      },
      "outputs": [
        {
          "output_type": "execute_result",
          "data": {
            "text/plain": [
              "RandomForestRegressor(max_depth=7, n_estimators=60)"
            ]
          },
          "metadata": {},
          "execution_count": 43
        }
      ],
      "source": [
        "#fit the model\n",
        "\n",
        "#Remove _________ and complete the code\n",
        "rf.fit(X_train,y_train)"
      ]
    },
    {
      "cell_type": "markdown",
      "metadata": {
        "id": "MMGPD955Hjto"
      },
      "source": [
        "#### Check the performance of the model"
      ]
    },
    {
      "cell_type": "code",
      "execution_count": 44,
      "metadata": {
        "scrolled": true,
        "colab": {
          "base_uri": "https://localhost:8080/"
        },
        "id": "AjfmDXNdHjto",
        "outputId": "c783be8e-e9f5-4c39-ac83-eff267227dce"
      },
      "outputs": [
        {
          "output_type": "stream",
          "name": "stdout",
          "text": [
            "    Data  RSquared      RMSE      MAE\n",
            "0  Train  0.734585  4.830769  3.69045\n",
            "1   Test  0.705707  5.341855  4.03984\n"
          ]
        }
      ],
      "source": [
        "#Remove _________ and complete the code\n",
        "\n",
        "model_pref(rf, X_train, X_test,y_train,y_test)"
      ]
    },
    {
      "cell_type": "markdown",
      "metadata": {
        "id": "LJwBczG3Hjto"
      },
      "source": [
        "**Write your answers here:_____**\n",
        "\n",
        "- The score for the model with only 1 transform primitive is ~70%. \n",
        "- This model is performing little better than pruned decision tree model.\n"
      ]
    },
    {
      "cell_type": "markdown",
      "metadata": {
        "id": "PqCQTeOhHjto"
      },
      "source": [
        "### Step 4: Adding more Transform Primitives and creating new model\n",
        "\n",
        "* Add ``Minute``, ``Hour``, ``Month``, ``Weekday`` , etc primitives\n",
        "* All these transform primitives apply to ``datetime`` columns\n",
        "\n",
        "### Question 5: Create models with more transform primitives (10 Marks)\n",
        "\n",
        "**Question 5.1 Define more transform primitives and define features using dfs?**"
      ]
    },
    {
      "cell_type": "code",
      "execution_count": 45,
      "metadata": {
        "ExecuteTime": {
          "end_time": "2021-07-15T12:51:54.063760Z",
          "start_time": "2021-07-15T12:51:51.694558Z"
        },
        "id": "JazWd5g6Hjto"
      },
      "outputs": [],
      "source": [
        "#Remove _________ and complete the code\n",
        "trans_primitives = [Minute, Hour, Day, Month, Weekday, IsWeekend]\n",
        "\n",
        "#Remove _________ and complete the code\n",
        "features = ft.dfs(entities=entities,\n",
        "                  relationships=relationships,\n",
        "                  target_entity=\"trips\",\n",
        "                  trans_primitives=trans_primitives,\n",
        "                  agg_primitives=[],\n",
        "                  ignore_variables={\"trips\": [\"pickup_latitude\", \"pickup_longitude\",\n",
        "                                              \"dropoff_latitude\", \"dropoff_longitude\"]},\n",
        "                  features_only=True)"
      ]
    },
    {
      "cell_type": "code",
      "execution_count": 46,
      "metadata": {
        "ExecuteTime": {
          "end_time": "2021-07-15T12:52:31.456696Z",
          "start_time": "2021-07-15T12:52:31.362945Z"
        },
        "colab": {
          "base_uri": "https://localhost:8080/"
        },
        "id": "qA_a3AQkHjtp",
        "outputId": "9aab79f2-9f6a-4c67-984b-0c80cae4a2b4"
      },
      "outputs": [
        {
          "output_type": "stream",
          "name": "stdout",
          "text": [
            "Number of features: 23\n"
          ]
        },
        {
          "output_type": "execute_result",
          "data": {
            "text/plain": [
              "[<Feature: vendor_id>,\n",
              " <Feature: passenger_count>,\n",
              " <Feature: trip_distance>,\n",
              " <Feature: payment_type>,\n",
              " <Feature: trip_duration>,\n",
              " <Feature: pickup_neighborhood>,\n",
              " <Feature: dropoff_neighborhood>,\n",
              " <Feature: DAY(dropoff_datetime)>,\n",
              " <Feature: DAY(pickup_datetime)>,\n",
              " <Feature: HOUR(dropoff_datetime)>,\n",
              " <Feature: HOUR(pickup_datetime)>,\n",
              " <Feature: IS_WEEKEND(dropoff_datetime)>,\n",
              " <Feature: IS_WEEKEND(pickup_datetime)>,\n",
              " <Feature: MINUTE(dropoff_datetime)>,\n",
              " <Feature: MINUTE(pickup_datetime)>,\n",
              " <Feature: MONTH(dropoff_datetime)>,\n",
              " <Feature: MONTH(pickup_datetime)>,\n",
              " <Feature: WEEKDAY(dropoff_datetime)>,\n",
              " <Feature: WEEKDAY(pickup_datetime)>,\n",
              " <Feature: pickup_neighborhoods.latitude>,\n",
              " <Feature: pickup_neighborhoods.longitude>,\n",
              " <Feature: dropoff_neighborhoods.latitude>,\n",
              " <Feature: dropoff_neighborhoods.longitude>]"
            ]
          },
          "metadata": {},
          "execution_count": 46
        }
      ],
      "source": [
        "print (\"Number of features: %d\" % len(features))\n",
        "features"
      ]
    },
    {
      "cell_type": "markdown",
      "metadata": {
        "id": "69TWQgfRHjtp"
      },
      "source": [
        "Now let's compute the features. "
      ]
    },
    {
      "cell_type": "markdown",
      "metadata": {
        "id": "R2ZinVmOHjtp"
      },
      "source": [
        "**Question: 5.2 Compute features and define feature matrix**"
      ]
    },
    {
      "cell_type": "code",
      "execution_count": 47,
      "metadata": {
        "ExecuteTime": {
          "end_time": "2021-07-15T12:52:48.471903Z",
          "start_time": "2021-07-15T12:52:34.218475Z"
        },
        "colab": {
          "base_uri": "https://localhost:8080/"
        },
        "id": "Lolx61O2Hjtp",
        "outputId": "1c5ad736-533d-45ca-c4a6-b5001edc7c4a"
      },
      "outputs": [
        {
          "output_type": "stream",
          "name": "stdout",
          "text": [
            "Elapsed: 00:24 | Progress: 100%|██████████\n",
            "Finishing computing...\n"
          ]
        }
      ],
      "source": [
        "#Remove _________ and complete the code\n",
        "feature_matrix2 = compute_features(features, cutoff_time)"
      ]
    },
    {
      "cell_type": "code",
      "execution_count": 48,
      "metadata": {
        "ExecuteTime": {
          "end_time": "2021-07-15T12:52:50.630760Z",
          "start_time": "2021-07-15T12:52:50.137051Z"
        },
        "colab": {
          "base_uri": "https://localhost:8080/"
        },
        "id": "viOxLtljHjtp",
        "outputId": "362aa37e-6beb-448f-cbac-29016d3c4b02"
      },
      "outputs": [
        {
          "output_type": "execute_result",
          "data": {
            "text/plain": [
              "(943492, 41)"
            ]
          },
          "metadata": {},
          "execution_count": 48
        }
      ],
      "source": [
        "feature_matrix2.shape"
      ]
    },
    {
      "cell_type": "code",
      "execution_count": 49,
      "metadata": {
        "colab": {
          "base_uri": "https://localhost:8080/",
          "height": 319
        },
        "id": "csHsl9h-Hjtp",
        "outputId": "a726dc16-b7cb-4760-c8f4-34cf14c348c3"
      },
      "outputs": [
        {
          "output_type": "execute_result",
          "data": {
            "text/html": [
              "\n",
              "  <div id=\"df-caea8b38-dcf4-4c66-8bf3-4b97c1f86cc2\">\n",
              "    <div class=\"colab-df-container\">\n",
              "      <div>\n",
              "<style scoped>\n",
              "    .dataframe tbody tr th:only-of-type {\n",
              "        vertical-align: middle;\n",
              "    }\n",
              "\n",
              "    .dataframe tbody tr th {\n",
              "        vertical-align: top;\n",
              "    }\n",
              "\n",
              "    .dataframe thead th {\n",
              "        text-align: right;\n",
              "    }\n",
              "</style>\n",
              "<table border=\"1\" class=\"dataframe\">\n",
              "  <thead>\n",
              "    <tr style=\"text-align: right;\">\n",
              "      <th></th>\n",
              "      <th>WEEKDAY(pickup_datetime)</th>\n",
              "      <th>trip_duration</th>\n",
              "      <th>MINUTE(pickup_datetime)</th>\n",
              "      <th>DAY(dropoff_datetime)</th>\n",
              "      <th>payment_type</th>\n",
              "      <th>IS_WEEKEND(dropoff_datetime)</th>\n",
              "      <th>pickup_neighborhoods.latitude</th>\n",
              "      <th>DAY(pickup_datetime)</th>\n",
              "      <th>dropoff_neighborhood = AD</th>\n",
              "      <th>dropoff_neighborhood = A</th>\n",
              "      <th>dropoff_neighborhood = AA</th>\n",
              "      <th>dropoff_neighborhood = D</th>\n",
              "      <th>dropoff_neighborhood = AR</th>\n",
              "      <th>dropoff_neighborhood = C</th>\n",
              "      <th>dropoff_neighborhood = O</th>\n",
              "      <th>dropoff_neighborhood = AK</th>\n",
              "      <th>dropoff_neighborhood = N</th>\n",
              "      <th>dropoff_neighborhood = AO</th>\n",
              "      <th>passenger_count</th>\n",
              "      <th>pickup_neighborhood = AD</th>\n",
              "      <th>pickup_neighborhood = AA</th>\n",
              "      <th>pickup_neighborhood = D</th>\n",
              "      <th>pickup_neighborhood = A</th>\n",
              "      <th>pickup_neighborhood = AR</th>\n",
              "      <th>pickup_neighborhood = AK</th>\n",
              "      <th>pickup_neighborhood = AO</th>\n",
              "      <th>pickup_neighborhood = N</th>\n",
              "      <th>pickup_neighborhood = O</th>\n",
              "      <th>pickup_neighborhood = R</th>\n",
              "      <th>IS_WEEKEND(pickup_datetime)</th>\n",
              "      <th>pickup_neighborhoods.longitude</th>\n",
              "      <th>HOUR(dropoff_datetime)</th>\n",
              "      <th>dropoff_neighborhoods.latitude</th>\n",
              "      <th>vendor_id</th>\n",
              "      <th>MINUTE(dropoff_datetime)</th>\n",
              "      <th>MONTH(dropoff_datetime)</th>\n",
              "      <th>dropoff_neighborhoods.longitude</th>\n",
              "      <th>trip_distance</th>\n",
              "      <th>MONTH(pickup_datetime)</th>\n",
              "      <th>WEEKDAY(dropoff_datetime)</th>\n",
              "      <th>HOUR(pickup_datetime)</th>\n",
              "    </tr>\n",
              "    <tr>\n",
              "      <th>id</th>\n",
              "      <th></th>\n",
              "      <th></th>\n",
              "      <th></th>\n",
              "      <th></th>\n",
              "      <th></th>\n",
              "      <th></th>\n",
              "      <th></th>\n",
              "      <th></th>\n",
              "      <th></th>\n",
              "      <th></th>\n",
              "      <th></th>\n",
              "      <th></th>\n",
              "      <th></th>\n",
              "      <th></th>\n",
              "      <th></th>\n",
              "      <th></th>\n",
              "      <th></th>\n",
              "      <th></th>\n",
              "      <th></th>\n",
              "      <th></th>\n",
              "      <th></th>\n",
              "      <th></th>\n",
              "      <th></th>\n",
              "      <th></th>\n",
              "      <th></th>\n",
              "      <th></th>\n",
              "      <th></th>\n",
              "      <th></th>\n",
              "      <th></th>\n",
              "      <th></th>\n",
              "      <th></th>\n",
              "      <th></th>\n",
              "      <th></th>\n",
              "      <th></th>\n",
              "      <th></th>\n",
              "      <th></th>\n",
              "      <th></th>\n",
              "      <th></th>\n",
              "      <th></th>\n",
              "      <th></th>\n",
              "      <th></th>\n",
              "    </tr>\n",
              "  </thead>\n",
              "  <tbody>\n",
              "    <tr>\n",
              "      <th>4906</th>\n",
              "      <td>0</td>\n",
              "      <td>569</td>\n",
              "      <td>0</td>\n",
              "      <td>1</td>\n",
              "      <td>1</td>\n",
              "      <td>False</td>\n",
              "      <td>40.740949</td>\n",
              "      <td>1</td>\n",
              "      <td>False</td>\n",
              "      <td>False</td>\n",
              "      <td>False</td>\n",
              "      <td>False</td>\n",
              "      <td>False</td>\n",
              "      <td>False</td>\n",
              "      <td>False</td>\n",
              "      <td>False</td>\n",
              "      <td>False</td>\n",
              "      <td>False</td>\n",
              "      <td>1</td>\n",
              "      <td>False</td>\n",
              "      <td>False</td>\n",
              "      <td>False</td>\n",
              "      <td>False</td>\n",
              "      <td>False</td>\n",
              "      <td>False</td>\n",
              "      <td>False</td>\n",
              "      <td>False</td>\n",
              "      <td>False</td>\n",
              "      <td>False</td>\n",
              "      <td>False</td>\n",
              "      <td>-73.995394</td>\n",
              "      <td>0</td>\n",
              "      <td>40.729670</td>\n",
              "      <td>1</td>\n",
              "      <td>10</td>\n",
              "      <td>2</td>\n",
              "      <td>-73.981693</td>\n",
              "      <td>1.60</td>\n",
              "      <td>2</td>\n",
              "      <td>0</td>\n",
              "      <td>0</td>\n",
              "    </tr>\n",
              "    <tr>\n",
              "      <th>4907</th>\n",
              "      <td>0</td>\n",
              "      <td>590</td>\n",
              "      <td>0</td>\n",
              "      <td>1</td>\n",
              "      <td>1</td>\n",
              "      <td>False</td>\n",
              "      <td>40.775299</td>\n",
              "      <td>1</td>\n",
              "      <td>False</td>\n",
              "      <td>False</td>\n",
              "      <td>False</td>\n",
              "      <td>False</td>\n",
              "      <td>False</td>\n",
              "      <td>False</td>\n",
              "      <td>False</td>\n",
              "      <td>False</td>\n",
              "      <td>False</td>\n",
              "      <td>False</td>\n",
              "      <td>1</td>\n",
              "      <td>False</td>\n",
              "      <td>False</td>\n",
              "      <td>False</td>\n",
              "      <td>False</td>\n",
              "      <td>False</td>\n",
              "      <td>False</td>\n",
              "      <td>False</td>\n",
              "      <td>False</td>\n",
              "      <td>True</td>\n",
              "      <td>False</td>\n",
              "      <td>False</td>\n",
              "      <td>-73.960551</td>\n",
              "      <td>0</td>\n",
              "      <td>40.761087</td>\n",
              "      <td>2</td>\n",
              "      <td>10</td>\n",
              "      <td>2</td>\n",
              "      <td>-73.995736</td>\n",
              "      <td>2.54</td>\n",
              "      <td>2</td>\n",
              "      <td>0</td>\n",
              "      <td>0</td>\n",
              "    </tr>\n",
              "    <tr>\n",
              "      <th>4908</th>\n",
              "      <td>0</td>\n",
              "      <td>486</td>\n",
              "      <td>0</td>\n",
              "      <td>1</td>\n",
              "      <td>2</td>\n",
              "      <td>False</td>\n",
              "      <td>40.747126</td>\n",
              "      <td>1</td>\n",
              "      <td>False</td>\n",
              "      <td>False</td>\n",
              "      <td>False</td>\n",
              "      <td>False</td>\n",
              "      <td>True</td>\n",
              "      <td>False</td>\n",
              "      <td>False</td>\n",
              "      <td>False</td>\n",
              "      <td>False</td>\n",
              "      <td>False</td>\n",
              "      <td>1</td>\n",
              "      <td>False</td>\n",
              "      <td>False</td>\n",
              "      <td>False</td>\n",
              "      <td>False</td>\n",
              "      <td>False</td>\n",
              "      <td>False</td>\n",
              "      <td>True</td>\n",
              "      <td>False</td>\n",
              "      <td>False</td>\n",
              "      <td>False</td>\n",
              "      <td>False</td>\n",
              "      <td>-73.985336</td>\n",
              "      <td>0</td>\n",
              "      <td>40.766488</td>\n",
              "      <td>1</td>\n",
              "      <td>9</td>\n",
              "      <td>2</td>\n",
              "      <td>-73.983998</td>\n",
              "      <td>1.70</td>\n",
              "      <td>2</td>\n",
              "      <td>0</td>\n",
              "      <td>0</td>\n",
              "    </tr>\n",
              "    <tr>\n",
              "      <th>4909</th>\n",
              "      <td>0</td>\n",
              "      <td>374</td>\n",
              "      <td>1</td>\n",
              "      <td>1</td>\n",
              "      <td>2</td>\n",
              "      <td>False</td>\n",
              "      <td>40.750179</td>\n",
              "      <td>1</td>\n",
              "      <td>False</td>\n",
              "      <td>False</td>\n",
              "      <td>False</td>\n",
              "      <td>False</td>\n",
              "      <td>False</td>\n",
              "      <td>False</td>\n",
              "      <td>False</td>\n",
              "      <td>False</td>\n",
              "      <td>False</td>\n",
              "      <td>False</td>\n",
              "      <td>1</td>\n",
              "      <td>False</td>\n",
              "      <td>False</td>\n",
              "      <td>True</td>\n",
              "      <td>False</td>\n",
              "      <td>False</td>\n",
              "      <td>False</td>\n",
              "      <td>False</td>\n",
              "      <td>False</td>\n",
              "      <td>False</td>\n",
              "      <td>False</td>\n",
              "      <td>False</td>\n",
              "      <td>-73.992557</td>\n",
              "      <td>0</td>\n",
              "      <td>40.740333</td>\n",
              "      <td>1</td>\n",
              "      <td>7</td>\n",
              "      <td>2</td>\n",
              "      <td>-74.005107</td>\n",
              "      <td>1.50</td>\n",
              "      <td>2</td>\n",
              "      <td>0</td>\n",
              "      <td>0</td>\n",
              "    </tr>\n",
              "    <tr>\n",
              "      <th>4910</th>\n",
              "      <td>0</td>\n",
              "      <td>540</td>\n",
              "      <td>1</td>\n",
              "      <td>1</td>\n",
              "      <td>1</td>\n",
              "      <td>False</td>\n",
              "      <td>40.742531</td>\n",
              "      <td>1</td>\n",
              "      <td>False</td>\n",
              "      <td>False</td>\n",
              "      <td>True</td>\n",
              "      <td>False</td>\n",
              "      <td>False</td>\n",
              "      <td>False</td>\n",
              "      <td>False</td>\n",
              "      <td>False</td>\n",
              "      <td>False</td>\n",
              "      <td>False</td>\n",
              "      <td>1</td>\n",
              "      <td>False</td>\n",
              "      <td>False</td>\n",
              "      <td>False</td>\n",
              "      <td>False</td>\n",
              "      <td>False</td>\n",
              "      <td>False</td>\n",
              "      <td>False</td>\n",
              "      <td>False</td>\n",
              "      <td>False</td>\n",
              "      <td>False</td>\n",
              "      <td>False</td>\n",
              "      <td>-73.977943</td>\n",
              "      <td>0</td>\n",
              "      <td>40.757707</td>\n",
              "      <td>2</td>\n",
              "      <td>10</td>\n",
              "      <td>2</td>\n",
              "      <td>-73.986446</td>\n",
              "      <td>1.38</td>\n",
              "      <td>2</td>\n",
              "      <td>0</td>\n",
              "      <td>0</td>\n",
              "    </tr>\n",
              "  </tbody>\n",
              "</table>\n",
              "</div>\n",
              "      <button class=\"colab-df-convert\" onclick=\"convertToInteractive('df-caea8b38-dcf4-4c66-8bf3-4b97c1f86cc2')\"\n",
              "              title=\"Convert this dataframe to an interactive table.\"\n",
              "              style=\"display:none;\">\n",
              "        \n",
              "  <svg xmlns=\"http://www.w3.org/2000/svg\" height=\"24px\"viewBox=\"0 0 24 24\"\n",
              "       width=\"24px\">\n",
              "    <path d=\"M0 0h24v24H0V0z\" fill=\"none\"/>\n",
              "    <path d=\"M18.56 5.44l.94 2.06.94-2.06 2.06-.94-2.06-.94-.94-2.06-.94 2.06-2.06.94zm-11 1L8.5 8.5l.94-2.06 2.06-.94-2.06-.94L8.5 2.5l-.94 2.06-2.06.94zm10 10l.94 2.06.94-2.06 2.06-.94-2.06-.94-.94-2.06-.94 2.06-2.06.94z\"/><path d=\"M17.41 7.96l-1.37-1.37c-.4-.4-.92-.59-1.43-.59-.52 0-1.04.2-1.43.59L10.3 9.45l-7.72 7.72c-.78.78-.78 2.05 0 2.83L4 21.41c.39.39.9.59 1.41.59.51 0 1.02-.2 1.41-.59l7.78-7.78 2.81-2.81c.8-.78.8-2.07 0-2.86zM5.41 20L4 18.59l7.72-7.72 1.47 1.35L5.41 20z\"/>\n",
              "  </svg>\n",
              "      </button>\n",
              "      \n",
              "  <style>\n",
              "    .colab-df-container {\n",
              "      display:flex;\n",
              "      flex-wrap:wrap;\n",
              "      gap: 12px;\n",
              "    }\n",
              "\n",
              "    .colab-df-convert {\n",
              "      background-color: #E8F0FE;\n",
              "      border: none;\n",
              "      border-radius: 50%;\n",
              "      cursor: pointer;\n",
              "      display: none;\n",
              "      fill: #1967D2;\n",
              "      height: 32px;\n",
              "      padding: 0 0 0 0;\n",
              "      width: 32px;\n",
              "    }\n",
              "\n",
              "    .colab-df-convert:hover {\n",
              "      background-color: #E2EBFA;\n",
              "      box-shadow: 0px 1px 2px rgba(60, 64, 67, 0.3), 0px 1px 3px 1px rgba(60, 64, 67, 0.15);\n",
              "      fill: #174EA6;\n",
              "    }\n",
              "\n",
              "    [theme=dark] .colab-df-convert {\n",
              "      background-color: #3B4455;\n",
              "      fill: #D2E3FC;\n",
              "    }\n",
              "\n",
              "    [theme=dark] .colab-df-convert:hover {\n",
              "      background-color: #434B5C;\n",
              "      box-shadow: 0px 1px 3px 1px rgba(0, 0, 0, 0.15);\n",
              "      filter: drop-shadow(0px 1px 2px rgba(0, 0, 0, 0.3));\n",
              "      fill: #FFFFFF;\n",
              "    }\n",
              "  </style>\n",
              "\n",
              "      <script>\n",
              "        const buttonEl =\n",
              "          document.querySelector('#df-caea8b38-dcf4-4c66-8bf3-4b97c1f86cc2 button.colab-df-convert');\n",
              "        buttonEl.style.display =\n",
              "          google.colab.kernel.accessAllowed ? 'block' : 'none';\n",
              "\n",
              "        async function convertToInteractive(key) {\n",
              "          const element = document.querySelector('#df-caea8b38-dcf4-4c66-8bf3-4b97c1f86cc2');\n",
              "          const dataTable =\n",
              "            await google.colab.kernel.invokeFunction('convertToInteractive',\n",
              "                                                     [key], {});\n",
              "          if (!dataTable) return;\n",
              "\n",
              "          const docLinkHtml = 'Like what you see? Visit the ' +\n",
              "            '<a target=\"_blank\" href=https://colab.research.google.com/notebooks/data_table.ipynb>data table notebook</a>'\n",
              "            + ' to learn more about interactive tables.';\n",
              "          element.innerHTML = '';\n",
              "          dataTable['output_type'] = 'display_data';\n",
              "          await google.colab.output.renderOutput(dataTable, element);\n",
              "          const docLink = document.createElement('div');\n",
              "          docLink.innerHTML = docLinkHtml;\n",
              "          element.appendChild(docLink);\n",
              "        }\n",
              "      </script>\n",
              "    </div>\n",
              "  </div>\n",
              "  "
            ],
            "text/plain": [
              "      WEEKDAY(pickup_datetime)  ...  HOUR(pickup_datetime)\n",
              "id                              ...                       \n",
              "4906                         0  ...                      0\n",
              "4907                         0  ...                      0\n",
              "4908                         0  ...                      0\n",
              "4909                         0  ...                      0\n",
              "4910                         0  ...                      0\n",
              "\n",
              "[5 rows x 41 columns]"
            ]
          },
          "metadata": {},
          "execution_count": 49
        }
      ],
      "source": [
        "feature_matrix2.head()"
      ]
    },
    {
      "cell_type": "markdown",
      "metadata": {
        "id": "Nuzf8TjRHjtq"
      },
      "source": [
        "### Build the new models more transform features"
      ]
    },
    {
      "cell_type": "code",
      "execution_count": 54,
      "metadata": {
        "ExecuteTime": {
          "end_time": "2021-07-15T12:55:38.459145Z",
          "start_time": "2021-07-15T12:55:32.592515Z"
        },
        "id": "jl1bDEcOHjtq"
      },
      "outputs": [],
      "source": [
        "# separates the whole feature matrix into train data feature matrix,\n",
        "# train data labels, and test data feature matrix \n",
        "X_train2, y_train2, X_test2, y_test2 = get_train_test_fm(feature_matrix2,.75)\n",
        "y_train2 = np.sqrt(y_train2)\n",
        "y_test2 = np.sqrt(y_test2)"
      ]
    },
    {
      "cell_type": "markdown",
      "metadata": {
        "id": "5UNS5RxyHjtz"
      },
      "source": [
        "#### Question 5.3 Building Linear regression using more transform primitive"
      ]
    },
    {
      "cell_type": "code",
      "execution_count": 55,
      "metadata": {
        "colab": {
          "base_uri": "https://localhost:8080/"
        },
        "id": "fLHLop6oHjtz",
        "outputId": "744d4115-c9bb-4d2f-843c-09d722af3db3"
      },
      "outputs": [
        {
          "output_type": "execute_result",
          "data": {
            "text/plain": [
              "LinearRegression()"
            ]
          },
          "metadata": {},
          "execution_count": 55
        }
      ],
      "source": [
        "#Remove _________ and complete the code\n",
        "\n",
        "#defining the model\n",
        "\n",
        "lr2=LinearRegression()\n",
        "\n",
        "#fitting the model\n",
        "lr2.fit(X_train2,y_train2)\n"
      ]
    },
    {
      "cell_type": "markdown",
      "metadata": {
        "id": "MXBDG121Hjtz"
      },
      "source": [
        "#### Check the performance of the model"
      ]
    },
    {
      "cell_type": "code",
      "execution_count": 56,
      "metadata": {
        "colab": {
          "base_uri": "https://localhost:8080/"
        },
        "id": "A_iIvVtKHjtz",
        "outputId": "5df980de-5153-4152-a916-41810d32d103"
      },
      "outputs": [
        {
          "output_type": "stream",
          "name": "stdout",
          "text": [
            "    Data  RSquared      RMSE       MAE\n",
            "0  Train  0.577063  6.098060  4.703053\n",
            "1   Test  0.558259  6.544635  5.020509\n"
          ]
        }
      ],
      "source": [
        "#Remove _________ and complete the code\n",
        "model_pref(lr2, X_train2, X_test2,y_train2,y_test2)  "
      ]
    },
    {
      "cell_type": "markdown",
      "metadata": {
        "id": "i8DYrAhvHjtz"
      },
      "source": [
        "**Write your answers here:_____**\n",
        "\n",
        "- Model is giving 0.55 Rsquared, with RSME of 6.54 and MAE of 5.02.\n",
        "- Model performance should improve but in this case for some reason it has not improved much from the last model by adding more transform primitives\n",
        "- Model is not overfitting, and giving generalized results."
      ]
    },
    {
      "cell_type": "markdown",
      "metadata": {
        "id": "pG6-_OcoHjt0"
      },
      "source": [
        "#### Question 5.4 Building Decision tree using more transform primitive"
      ]
    },
    {
      "cell_type": "code",
      "execution_count": 57,
      "metadata": {
        "colab": {
          "base_uri": "https://localhost:8080/"
        },
        "id": "BpkYRekiHjt0",
        "outputId": "3a415d9e-1750-4900-c271-b31f22b1f39c"
      },
      "outputs": [
        {
          "output_type": "execute_result",
          "data": {
            "text/plain": [
              "DecisionTreeRegressor()"
            ]
          },
          "metadata": {},
          "execution_count": 57
        }
      ],
      "source": [
        "#Remove _________ and complete the code\n",
        "\n",
        "#define the model\n",
        "dt2=DecisionTreeRegressor()\n",
        "\n",
        "\n",
        "\n",
        "#fit the model\n",
        "\n",
        "dt2.fit(X_train2,y_train2)"
      ]
    },
    {
      "cell_type": "markdown",
      "metadata": {
        "id": "s7kYIl3WHjt0"
      },
      "source": [
        "#### Check the performance of the model"
      ]
    },
    {
      "cell_type": "code",
      "execution_count": 58,
      "metadata": {
        "colab": {
          "base_uri": "https://localhost:8080/"
        },
        "id": "UHV7h4ECHjt0",
        "outputId": "7853fb9f-d08e-48cc-ee27-a52c37b359e9"
      },
      "outputs": [
        {
          "output_type": "stream",
          "name": "stdout",
          "text": [
            "    Data  RSquared      RMSE       MAE\n",
            "0  Train  1.000000  0.001108  0.000002\n",
            "1   Test  0.700278  5.390896  3.867892\n"
          ]
        }
      ],
      "source": [
        "#Remove _________ and complete the code\n",
        "model_pref(dt2, X_train2, X_test2,y_train2,y_test2)  "
      ]
    },
    {
      "cell_type": "markdown",
      "metadata": {
        "id": "_eZriIyMHjt0"
      },
      "source": [
        "**Write your answers here:_____**\n",
        "\n",
        "- The model is overfitting, with train R2 as 1 while test R2 as 0.70.\n",
        "- This generally happens in decision tree, one solution for this is to Prune the decision tree, let's try pruning and see if the performance improves. "
      ]
    },
    {
      "cell_type": "markdown",
      "metadata": {
        "id": "JbgWTmmMHjt0"
      },
      "source": [
        "#### Question 5.5 Building Pruned Decision tree using more transform primitive"
      ]
    },
    {
      "cell_type": "code",
      "execution_count": 59,
      "metadata": {
        "colab": {
          "base_uri": "https://localhost:8080/"
        },
        "id": "YLX0rE0RHjt1",
        "outputId": "f2171056-237e-4a0b-92fe-1ae154c20170"
      },
      "outputs": [
        {
          "output_type": "execute_result",
          "data": {
            "text/plain": [
              "DecisionTreeRegressor(max_depth=4)"
            ]
          },
          "metadata": {},
          "execution_count": 59
        }
      ],
      "source": [
        "#Remove _________ and complete the code\n",
        "#define the model\n",
        "\n",
        "#use max_depth=7\n",
        "dt_pruned2=DecisionTreeRegressor(max_depth=4)\n",
        "\n",
        "#fit the model\n",
        "dt_pruned2.fit(X_train2,y_train2)"
      ]
    },
    {
      "cell_type": "markdown",
      "metadata": {
        "id": "KnAumlvyHjt1"
      },
      "source": [
        "#### Check the performance of the model"
      ]
    },
    {
      "cell_type": "code",
      "execution_count": 60,
      "metadata": {
        "colab": {
          "base_uri": "https://localhost:8080/"
        },
        "id": "ihk_igopHjt1",
        "outputId": "48f85e2d-8663-4edd-e7fb-6ff8d394da8b"
      },
      "outputs": [
        {
          "output_type": "stream",
          "name": "stdout",
          "text": [
            "    Data  RSquared      RMSE       MAE\n",
            "0  Train  0.706970  5.075858  3.893229\n",
            "1   Test  0.681187  5.559932  4.214939\n"
          ]
        }
      ],
      "source": [
        "#Remove _________ and complete the code\n",
        "model_pref(dt_pruned2, X_train2, X_test2,y_train2,y_test2)  "
      ]
    },
    {
      "cell_type": "markdown",
      "metadata": {
        "id": "2NV1XfK7Hjt1"
      },
      "source": [
        "**Write your answers here:_____**\n",
        "\n",
        "- Model is giving 0.68 Rsquared, with RSME of 5.55 and MAE of 4.21\n",
        "- Random Forest model performance has slightly improved by adding more transform features."
      ]
    },
    {
      "cell_type": "markdown",
      "metadata": {
        "id": "ff_9YRjJHjt1"
      },
      "source": [
        "#### Question 5.6 Building Random Forest using more transform primitive"
      ]
    },
    {
      "cell_type": "code",
      "execution_count": 62,
      "metadata": {
        "colab": {
          "base_uri": "https://localhost:8080/"
        },
        "id": "EG_r_27uHjt1",
        "outputId": "44ad4e8a-0a17-4403-9a26-54f636135559"
      },
      "outputs": [
        {
          "output_type": "execute_result",
          "data": {
            "text/plain": [
              "RandomForestRegressor(max_depth=4, n_estimators=60)"
            ]
          },
          "metadata": {},
          "execution_count": 62
        }
      ],
      "source": [
        "#fit the model\n",
        "\n",
        "#Remove _________ and complete the code\n",
        "#using (n_estimators=60,max_depth=7)\n",
        "\n",
        "rf2=RandomForestRegressor(n_estimators=60,max_depth=4)\n",
        "\n",
        "#fit the model\n",
        "\n",
        "#Remove _________ and complete the code\n",
        "rf2.fit(X_train2,y_train2)"
      ]
    },
    {
      "cell_type": "markdown",
      "metadata": {
        "id": "P2JD6QyBHjt2"
      },
      "source": [
        "#### Check the performance of the model"
      ]
    },
    {
      "cell_type": "code",
      "execution_count": 63,
      "metadata": {
        "colab": {
          "base_uri": "https://localhost:8080/"
        },
        "id": "kn2VXoTNHjt2",
        "outputId": "d2bb7e71-25e6-4008-8a67-7b8568e52e84"
      },
      "outputs": [
        {
          "output_type": "stream",
          "name": "stdout",
          "text": [
            "    Data  RSquared      RMSE       MAE\n",
            "0  Train  0.711646  5.035198  3.856724\n",
            "1   Test  0.685725  5.520222  4.178880\n"
          ]
        }
      ],
      "source": [
        "#Remove _________ and complete the code\n",
        "model_pref(rf2, X_train2, X_test2,y_train2,y_test2)  "
      ]
    },
    {
      "cell_type": "markdown",
      "metadata": {
        "id": "CDEZZ9EdHjt2"
      },
      "source": [
        "**Write your answers here:_____**\n",
        "\n",
        "- The score for the model with more transform primitive is ~69%. \n",
        "- Ideally the score should improve, but as compared to the previous model with one primitive feature, the score did not improve much.\n"
      ]
    },
    {
      "cell_type": "markdown",
      "metadata": {
        "id": "tHT4mek0Hjt2"
      },
      "source": [
        "**Question: 5.7 Comment on how the modeling accuracy differs when including more transform features.**"
      ]
    },
    {
      "cell_type": "markdown",
      "metadata": {
        "id": "-tCok6uFHjt3"
      },
      "source": [
        "**Write your answers here:_____**\n",
        "\n",
        "Adding more transform features should improve the Rsquared score and reduce the RMSE and MAE. "
      ]
    },
    {
      "cell_type": "markdown",
      "metadata": {
        "id": "dkX6DV_uHjt3"
      },
      "source": [
        "### Step 5: Add Aggregation Primitives\n",
        "\n",
        "Now let's add aggregation primitives. These primitives will generate features for the parent entities ``pickup_neighborhoods``, and ``dropoff_neighborhood`` and then add them to the trips entity, which is the entity for which we are trying to make prediction."
      ]
    },
    {
      "cell_type": "markdown",
      "metadata": {
        "id": "dLkiE4auHjt3"
      },
      "source": [
        "### Question 6: Create a Models with transform and aggregate primitive. (10 Marks)\n",
        "**6.1 Define more transform and aggregate primitive and define features using dfs?**"
      ]
    },
    {
      "cell_type": "code",
      "execution_count": 64,
      "metadata": {
        "ExecuteTime": {
          "end_time": "2021-07-15T12:59:43.977607Z",
          "start_time": "2021-07-15T12:59:41.353328Z"
        },
        "id": "hY3f-RlyHjt3"
      },
      "outputs": [],
      "source": [
        "#Remove _________ and complete the code\n",
        "\n",
        "trans_primitives = [Minute, Hour, Day, Month, Weekday, IsWeekend]\n",
        "aggregation_primitives = [Count, Sum, Mean, Median, Std, Max, Min]\n",
        "\n",
        "features = ft.dfs(entities=entities,\n",
        "                  relationships=relationships,\n",
        "                  target_entity=\"trips\",\n",
        "                  trans_primitives=trans_primitives,\n",
        "                  agg_primitives=aggregation_primitives,\n",
        "                  ignore_variables={\"trips\": [\"pickup_latitude\", \"pickup_longitude\",\n",
        "                                              \"dropoff_latitude\", \"dropoff_longitude\"]},\n",
        "                  features_only=True)"
      ]
    },
    {
      "cell_type": "code",
      "execution_count": 65,
      "metadata": {
        "ExecuteTime": {
          "end_time": "2021-07-15T12:59:45.888070Z",
          "start_time": "2021-07-15T12:59:45.782499Z"
        },
        "scrolled": false,
        "colab": {
          "base_uri": "https://localhost:8080/"
        },
        "id": "HbJ_Yma5Hjt4",
        "outputId": "a435d225-2f4b-40ae-81d0-d5f87d6a9412"
      },
      "outputs": [
        {
          "output_type": "stream",
          "name": "stdout",
          "text": [
            "Number of features: 61\n"
          ]
        },
        {
          "output_type": "execute_result",
          "data": {
            "text/plain": [
              "[<Feature: vendor_id>,\n",
              " <Feature: passenger_count>,\n",
              " <Feature: trip_distance>,\n",
              " <Feature: payment_type>,\n",
              " <Feature: trip_duration>,\n",
              " <Feature: pickup_neighborhood>,\n",
              " <Feature: dropoff_neighborhood>,\n",
              " <Feature: DAY(dropoff_datetime)>,\n",
              " <Feature: DAY(pickup_datetime)>,\n",
              " <Feature: HOUR(dropoff_datetime)>,\n",
              " <Feature: HOUR(pickup_datetime)>,\n",
              " <Feature: IS_WEEKEND(dropoff_datetime)>,\n",
              " <Feature: IS_WEEKEND(pickup_datetime)>,\n",
              " <Feature: MINUTE(dropoff_datetime)>,\n",
              " <Feature: MINUTE(pickup_datetime)>,\n",
              " <Feature: MONTH(dropoff_datetime)>,\n",
              " <Feature: MONTH(pickup_datetime)>,\n",
              " <Feature: WEEKDAY(dropoff_datetime)>,\n",
              " <Feature: WEEKDAY(pickup_datetime)>,\n",
              " <Feature: pickup_neighborhoods.latitude>,\n",
              " <Feature: pickup_neighborhoods.longitude>,\n",
              " <Feature: dropoff_neighborhoods.latitude>,\n",
              " <Feature: dropoff_neighborhoods.longitude>,\n",
              " <Feature: pickup_neighborhoods.COUNT(trips)>,\n",
              " <Feature: pickup_neighborhoods.MAX(trips.passenger_count)>,\n",
              " <Feature: pickup_neighborhoods.MAX(trips.trip_distance)>,\n",
              " <Feature: pickup_neighborhoods.MAX(trips.trip_duration)>,\n",
              " <Feature: pickup_neighborhoods.MEAN(trips.passenger_count)>,\n",
              " <Feature: pickup_neighborhoods.MEAN(trips.trip_distance)>,\n",
              " <Feature: pickup_neighborhoods.MEAN(trips.trip_duration)>,\n",
              " <Feature: pickup_neighborhoods.MEDIAN(trips.passenger_count)>,\n",
              " <Feature: pickup_neighborhoods.MEDIAN(trips.trip_distance)>,\n",
              " <Feature: pickup_neighborhoods.MEDIAN(trips.trip_duration)>,\n",
              " <Feature: pickup_neighborhoods.MIN(trips.passenger_count)>,\n",
              " <Feature: pickup_neighborhoods.MIN(trips.trip_distance)>,\n",
              " <Feature: pickup_neighborhoods.MIN(trips.trip_duration)>,\n",
              " <Feature: pickup_neighborhoods.STD(trips.passenger_count)>,\n",
              " <Feature: pickup_neighborhoods.STD(trips.trip_distance)>,\n",
              " <Feature: pickup_neighborhoods.STD(trips.trip_duration)>,\n",
              " <Feature: pickup_neighborhoods.SUM(trips.passenger_count)>,\n",
              " <Feature: pickup_neighborhoods.SUM(trips.trip_distance)>,\n",
              " <Feature: pickup_neighborhoods.SUM(trips.trip_duration)>,\n",
              " <Feature: dropoff_neighborhoods.COUNT(trips)>,\n",
              " <Feature: dropoff_neighborhoods.MAX(trips.passenger_count)>,\n",
              " <Feature: dropoff_neighborhoods.MAX(trips.trip_distance)>,\n",
              " <Feature: dropoff_neighborhoods.MAX(trips.trip_duration)>,\n",
              " <Feature: dropoff_neighborhoods.MEAN(trips.passenger_count)>,\n",
              " <Feature: dropoff_neighborhoods.MEAN(trips.trip_distance)>,\n",
              " <Feature: dropoff_neighborhoods.MEAN(trips.trip_duration)>,\n",
              " <Feature: dropoff_neighborhoods.MEDIAN(trips.passenger_count)>,\n",
              " <Feature: dropoff_neighborhoods.MEDIAN(trips.trip_distance)>,\n",
              " <Feature: dropoff_neighborhoods.MEDIAN(trips.trip_duration)>,\n",
              " <Feature: dropoff_neighborhoods.MIN(trips.passenger_count)>,\n",
              " <Feature: dropoff_neighborhoods.MIN(trips.trip_distance)>,\n",
              " <Feature: dropoff_neighborhoods.MIN(trips.trip_duration)>,\n",
              " <Feature: dropoff_neighborhoods.STD(trips.passenger_count)>,\n",
              " <Feature: dropoff_neighborhoods.STD(trips.trip_distance)>,\n",
              " <Feature: dropoff_neighborhoods.STD(trips.trip_duration)>,\n",
              " <Feature: dropoff_neighborhoods.SUM(trips.passenger_count)>,\n",
              " <Feature: dropoff_neighborhoods.SUM(trips.trip_distance)>,\n",
              " <Feature: dropoff_neighborhoods.SUM(trips.trip_duration)>]"
            ]
          },
          "metadata": {},
          "execution_count": 65
        }
      ],
      "source": [
        "print (\"Number of features: %d\" % len(features))\n",
        "features"
      ]
    },
    {
      "cell_type": "markdown",
      "metadata": {
        "id": "qxx-8zHjHjt4"
      },
      "source": [
        "**Question: 6.2 Compute features and define feature matrix**"
      ]
    },
    {
      "cell_type": "code",
      "execution_count": 66,
      "metadata": {
        "ExecuteTime": {
          "end_time": "2021-07-09T11:13:54.617340Z",
          "start_time": "2021-07-09T11:13:28.226824Z"
        },
        "colab": {
          "base_uri": "https://localhost:8080/"
        },
        "id": "5J-uOd1eHjt4",
        "outputId": "d2bc4ee2-b504-4fd1-bc6b-41dc006595d5"
      },
      "outputs": [
        {
          "output_type": "stream",
          "name": "stdout",
          "text": [
            "Elapsed: 00:46 | Progress: 100%|██████████\n",
            "Finishing computing...\n"
          ]
        }
      ],
      "source": [
        "#Remove _________ and complete the code\n",
        "feature_matrix3 = compute_features(features, cutoff_time)"
      ]
    },
    {
      "cell_type": "code",
      "execution_count": 67,
      "metadata": {
        "ExecuteTime": {
          "end_time": "2021-07-09T11:14:02.858716Z",
          "start_time": "2021-07-09T11:14:02.439924Z"
        },
        "colab": {
          "base_uri": "https://localhost:8080/",
          "height": 319
        },
        "id": "mr31pGUbHjt4",
        "outputId": "198e4545-db4d-41ac-885b-69a620eee808"
      },
      "outputs": [
        {
          "output_type": "execute_result",
          "data": {
            "text/html": [
              "\n",
              "  <div id=\"df-40b646a0-2c40-43f5-9b8b-e11254a9e891\">\n",
              "    <div class=\"colab-df-container\">\n",
              "      <div>\n",
              "<style scoped>\n",
              "    .dataframe tbody tr th:only-of-type {\n",
              "        vertical-align: middle;\n",
              "    }\n",
              "\n",
              "    .dataframe tbody tr th {\n",
              "        vertical-align: top;\n",
              "    }\n",
              "\n",
              "    .dataframe thead th {\n",
              "        text-align: right;\n",
              "    }\n",
              "</style>\n",
              "<table border=\"1\" class=\"dataframe\">\n",
              "  <thead>\n",
              "    <tr style=\"text-align: right;\">\n",
              "      <th></th>\n",
              "      <th>MINUTE(dropoff_datetime)</th>\n",
              "      <th>dropoff_neighborhoods.MEDIAN(trips.passenger_count)</th>\n",
              "      <th>dropoff_neighborhood = AD</th>\n",
              "      <th>dropoff_neighborhood = A</th>\n",
              "      <th>dropoff_neighborhood = AA</th>\n",
              "      <th>dropoff_neighborhood = D</th>\n",
              "      <th>dropoff_neighborhood = AR</th>\n",
              "      <th>dropoff_neighborhood = C</th>\n",
              "      <th>dropoff_neighborhood = O</th>\n",
              "      <th>dropoff_neighborhood = AK</th>\n",
              "      <th>dropoff_neighborhood = N</th>\n",
              "      <th>dropoff_neighborhood = AO</th>\n",
              "      <th>dropoff_neighborhoods.MEAN(trips.trip_distance)</th>\n",
              "      <th>trip_duration</th>\n",
              "      <th>pickup_neighborhoods.STD(trips.trip_duration)</th>\n",
              "      <th>pickup_neighborhoods.MEDIAN(trips.trip_duration)</th>\n",
              "      <th>HOUR(dropoff_datetime)</th>\n",
              "      <th>pickup_neighborhoods.MEDIAN(trips.passenger_count)</th>\n",
              "      <th>dropoff_neighborhoods.MAX(trips.passenger_count)</th>\n",
              "      <th>pickup_neighborhoods.longitude</th>\n",
              "      <th>MONTH(pickup_datetime)</th>\n",
              "      <th>WEEKDAY(dropoff_datetime)</th>\n",
              "      <th>pickup_neighborhoods.MEAN(trips.trip_duration)</th>\n",
              "      <th>dropoff_neighborhoods.SUM(trips.trip_distance)</th>\n",
              "      <th>dropoff_neighborhoods.MEDIAN(trips.trip_duration)</th>\n",
              "      <th>dropoff_neighborhoods.STD(trips.trip_distance)</th>\n",
              "      <th>dropoff_neighborhoods.STD(trips.trip_duration)</th>\n",
              "      <th>pickup_neighborhoods.MIN(trips.trip_duration)</th>\n",
              "      <th>pickup_neighborhoods.STD(trips.trip_distance)</th>\n",
              "      <th>dropoff_neighborhoods.COUNT(trips)</th>\n",
              "      <th>WEEKDAY(pickup_datetime)</th>\n",
              "      <th>dropoff_neighborhoods.MAX(trips.trip_duration)</th>\n",
              "      <th>dropoff_neighborhoods.MIN(trips.trip_distance)</th>\n",
              "      <th>pickup_neighborhoods.MAX(trips.trip_distance)</th>\n",
              "      <th>DAY(dropoff_datetime)</th>\n",
              "      <th>IS_WEEKEND(dropoff_datetime)</th>\n",
              "      <th>dropoff_neighborhoods.MIN(trips.trip_duration)</th>\n",
              "      <th>trip_distance</th>\n",
              "      <th>payment_type</th>\n",
              "      <th>passenger_count</th>\n",
              "      <th>dropoff_neighborhoods.MEAN(trips.trip_duration)</th>\n",
              "      <th>dropoff_neighborhoods.SUM(trips.trip_duration)</th>\n",
              "      <th>pickup_neighborhoods.MEDIAN(trips.trip_distance)</th>\n",
              "      <th>IS_WEEKEND(pickup_datetime)</th>\n",
              "      <th>dropoff_neighborhoods.MAX(trips.trip_distance)</th>\n",
              "      <th>pickup_neighborhoods.latitude</th>\n",
              "      <th>MINUTE(pickup_datetime)</th>\n",
              "      <th>pickup_neighborhoods.COUNT(trips)</th>\n",
              "      <th>vendor_id</th>\n",
              "      <th>dropoff_neighborhoods.SUM(trips.passenger_count)</th>\n",
              "      <th>pickup_neighborhoods.MIN(trips.passenger_count)</th>\n",
              "      <th>MONTH(dropoff_datetime)</th>\n",
              "      <th>pickup_neighborhoods.SUM(trips.trip_duration)</th>\n",
              "      <th>pickup_neighborhoods.MIN(trips.trip_distance)</th>\n",
              "      <th>dropoff_neighborhoods.latitude</th>\n",
              "      <th>pickup_neighborhoods.SUM(trips.passenger_count)</th>\n",
              "      <th>dropoff_neighborhoods.MIN(trips.passenger_count)</th>\n",
              "      <th>dropoff_neighborhoods.longitude</th>\n",
              "      <th>pickup_neighborhoods.STD(trips.passenger_count)</th>\n",
              "      <th>DAY(pickup_datetime)</th>\n",
              "      <th>dropoff_neighborhoods.MEDIAN(trips.trip_distance)</th>\n",
              "      <th>dropoff_neighborhoods.MEAN(trips.passenger_count)</th>\n",
              "      <th>HOUR(pickup_datetime)</th>\n",
              "      <th>pickup_neighborhoods.MEAN(trips.passenger_count)</th>\n",
              "      <th>pickup_neighborhoods.MAX(trips.trip_duration)</th>\n",
              "      <th>dropoff_neighborhoods.STD(trips.passenger_count)</th>\n",
              "      <th>pickup_neighborhoods.MAX(trips.passenger_count)</th>\n",
              "      <th>pickup_neighborhood = AD</th>\n",
              "      <th>pickup_neighborhood = AA</th>\n",
              "      <th>pickup_neighborhood = D</th>\n",
              "      <th>pickup_neighborhood = A</th>\n",
              "      <th>pickup_neighborhood = AR</th>\n",
              "      <th>pickup_neighborhood = AK</th>\n",
              "      <th>pickup_neighborhood = AO</th>\n",
              "      <th>pickup_neighborhood = N</th>\n",
              "      <th>pickup_neighborhood = O</th>\n",
              "      <th>pickup_neighborhood = R</th>\n",
              "      <th>pickup_neighborhoods.SUM(trips.trip_distance)</th>\n",
              "      <th>pickup_neighborhoods.MEAN(trips.trip_distance)</th>\n",
              "    </tr>\n",
              "    <tr>\n",
              "      <th>id</th>\n",
              "      <th></th>\n",
              "      <th></th>\n",
              "      <th></th>\n",
              "      <th></th>\n",
              "      <th></th>\n",
              "      <th></th>\n",
              "      <th></th>\n",
              "      <th></th>\n",
              "      <th></th>\n",
              "      <th></th>\n",
              "      <th></th>\n",
              "      <th></th>\n",
              "      <th></th>\n",
              "      <th></th>\n",
              "      <th></th>\n",
              "      <th></th>\n",
              "      <th></th>\n",
              "      <th></th>\n",
              "      <th></th>\n",
              "      <th></th>\n",
              "      <th></th>\n",
              "      <th></th>\n",
              "      <th></th>\n",
              "      <th></th>\n",
              "      <th></th>\n",
              "      <th></th>\n",
              "      <th></th>\n",
              "      <th></th>\n",
              "      <th></th>\n",
              "      <th></th>\n",
              "      <th></th>\n",
              "      <th></th>\n",
              "      <th></th>\n",
              "      <th></th>\n",
              "      <th></th>\n",
              "      <th></th>\n",
              "      <th></th>\n",
              "      <th></th>\n",
              "      <th></th>\n",
              "      <th></th>\n",
              "      <th></th>\n",
              "      <th></th>\n",
              "      <th></th>\n",
              "      <th></th>\n",
              "      <th></th>\n",
              "      <th></th>\n",
              "      <th></th>\n",
              "      <th></th>\n",
              "      <th></th>\n",
              "      <th></th>\n",
              "      <th></th>\n",
              "      <th></th>\n",
              "      <th></th>\n",
              "      <th></th>\n",
              "      <th></th>\n",
              "      <th></th>\n",
              "      <th></th>\n",
              "      <th></th>\n",
              "      <th></th>\n",
              "      <th></th>\n",
              "      <th></th>\n",
              "      <th></th>\n",
              "      <th></th>\n",
              "      <th></th>\n",
              "      <th></th>\n",
              "      <th></th>\n",
              "      <th></th>\n",
              "      <th></th>\n",
              "      <th></th>\n",
              "      <th></th>\n",
              "      <th></th>\n",
              "      <th></th>\n",
              "      <th></th>\n",
              "      <th></th>\n",
              "      <th></th>\n",
              "      <th></th>\n",
              "      <th></th>\n",
              "      <th></th>\n",
              "      <th></th>\n",
              "    </tr>\n",
              "  </thead>\n",
              "  <tbody>\n",
              "    <tr>\n",
              "      <th>4906</th>\n",
              "      <td>10</td>\n",
              "      <td>1.0</td>\n",
              "      <td>False</td>\n",
              "      <td>False</td>\n",
              "      <td>False</td>\n",
              "      <td>False</td>\n",
              "      <td>False</td>\n",
              "      <td>False</td>\n",
              "      <td>False</td>\n",
              "      <td>False</td>\n",
              "      <td>False</td>\n",
              "      <td>False</td>\n",
              "      <td>2.142403</td>\n",
              "      <td>569</td>\n",
              "      <td>477.613659</td>\n",
              "      <td>568.0</td>\n",
              "      <td>0</td>\n",
              "      <td>1.0</td>\n",
              "      <td>6</td>\n",
              "      <td>-73.995394</td>\n",
              "      <td>2</td>\n",
              "      <td>0</td>\n",
              "      <td>691.871069</td>\n",
              "      <td>1497.54</td>\n",
              "      <td>570.0</td>\n",
              "      <td>2.231288</td>\n",
              "      <td>431.022633</td>\n",
              "      <td>19</td>\n",
              "      <td>1.789127</td>\n",
              "      <td>699</td>\n",
              "      <td>0</td>\n",
              "      <td>2910</td>\n",
              "      <td>0.08</td>\n",
              "      <td>17.64</td>\n",
              "      <td>1</td>\n",
              "      <td>False</td>\n",
              "      <td>5</td>\n",
              "      <td>1.60</td>\n",
              "      <td>1</td>\n",
              "      <td>1</td>\n",
              "      <td>657.918455</td>\n",
              "      <td>459885</td>\n",
              "      <td>1.31</td>\n",
              "      <td>False</td>\n",
              "      <td>18.89</td>\n",
              "      <td>40.740949</td>\n",
              "      <td>0</td>\n",
              "      <td>954</td>\n",
              "      <td>1</td>\n",
              "      <td>1217</td>\n",
              "      <td>1</td>\n",
              "      <td>2</td>\n",
              "      <td>660045</td>\n",
              "      <td>0.03</td>\n",
              "      <td>40.729670</td>\n",
              "      <td>1621</td>\n",
              "      <td>1</td>\n",
              "      <td>-73.981693</td>\n",
              "      <td>1.379150</td>\n",
              "      <td>1</td>\n",
              "      <td>1.60</td>\n",
              "      <td>1.741059</td>\n",
              "      <td>0</td>\n",
              "      <td>1.699161</td>\n",
              "      <td>2849</td>\n",
              "      <td>1.358477</td>\n",
              "      <td>6</td>\n",
              "      <td>False</td>\n",
              "      <td>False</td>\n",
              "      <td>False</td>\n",
              "      <td>False</td>\n",
              "      <td>False</td>\n",
              "      <td>False</td>\n",
              "      <td>False</td>\n",
              "      <td>False</td>\n",
              "      <td>False</td>\n",
              "      <td>False</td>\n",
              "      <td>1773.57</td>\n",
              "      <td>1.859088</td>\n",
              "    </tr>\n",
              "    <tr>\n",
              "      <th>4907</th>\n",
              "      <td>10</td>\n",
              "      <td>1.0</td>\n",
              "      <td>False</td>\n",
              "      <td>False</td>\n",
              "      <td>False</td>\n",
              "      <td>False</td>\n",
              "      <td>False</td>\n",
              "      <td>False</td>\n",
              "      <td>False</td>\n",
              "      <td>False</td>\n",
              "      <td>False</td>\n",
              "      <td>False</td>\n",
              "      <td>2.120106</td>\n",
              "      <td>590</td>\n",
              "      <td>475.967162</td>\n",
              "      <td>539.0</td>\n",
              "      <td>0</td>\n",
              "      <td>1.0</td>\n",
              "      <td>6</td>\n",
              "      <td>-73.960551</td>\n",
              "      <td>2</td>\n",
              "      <td>0</td>\n",
              "      <td>669.097670</td>\n",
              "      <td>1604.92</td>\n",
              "      <td>674.0</td>\n",
              "      <td>2.425060</td>\n",
              "      <td>552.540335</td>\n",
              "      <td>6</td>\n",
              "      <td>1.795961</td>\n",
              "      <td>757</td>\n",
              "      <td>0</td>\n",
              "      <td>3421</td>\n",
              "      <td>0.06</td>\n",
              "      <td>19.69</td>\n",
              "      <td>1</td>\n",
              "      <td>False</td>\n",
              "      <td>30</td>\n",
              "      <td>2.54</td>\n",
              "      <td>1</td>\n",
              "      <td>1</td>\n",
              "      <td>783.158520</td>\n",
              "      <td>592851</td>\n",
              "      <td>1.40</td>\n",
              "      <td>False</td>\n",
              "      <td>19.00</td>\n",
              "      <td>40.775299</td>\n",
              "      <td>0</td>\n",
              "      <td>1116</td>\n",
              "      <td>2</td>\n",
              "      <td>1297</td>\n",
              "      <td>1</td>\n",
              "      <td>2</td>\n",
              "      <td>746713</td>\n",
              "      <td>0.13</td>\n",
              "      <td>40.761087</td>\n",
              "      <td>1905</td>\n",
              "      <td>1</td>\n",
              "      <td>-73.995736</td>\n",
              "      <td>1.384470</td>\n",
              "      <td>1</td>\n",
              "      <td>1.58</td>\n",
              "      <td>1.713342</td>\n",
              "      <td>0</td>\n",
              "      <td>1.706989</td>\n",
              "      <td>3010</td>\n",
              "      <td>1.346559</td>\n",
              "      <td>6</td>\n",
              "      <td>False</td>\n",
              "      <td>False</td>\n",
              "      <td>False</td>\n",
              "      <td>False</td>\n",
              "      <td>False</td>\n",
              "      <td>False</td>\n",
              "      <td>False</td>\n",
              "      <td>False</td>\n",
              "      <td>True</td>\n",
              "      <td>False</td>\n",
              "      <td>2079.78</td>\n",
              "      <td>1.863602</td>\n",
              "    </tr>\n",
              "    <tr>\n",
              "      <th>4908</th>\n",
              "      <td>9</td>\n",
              "      <td>1.0</td>\n",
              "      <td>False</td>\n",
              "      <td>False</td>\n",
              "      <td>False</td>\n",
              "      <td>False</td>\n",
              "      <td>True</td>\n",
              "      <td>False</td>\n",
              "      <td>False</td>\n",
              "      <td>False</td>\n",
              "      <td>False</td>\n",
              "      <td>False</td>\n",
              "      <td>2.262977</td>\n",
              "      <td>486</td>\n",
              "      <td>470.679843</td>\n",
              "      <td>619.0</td>\n",
              "      <td>0</td>\n",
              "      <td>1.0</td>\n",
              "      <td>6</td>\n",
              "      <td>-73.985336</td>\n",
              "      <td>2</td>\n",
              "      <td>0</td>\n",
              "      <td>721.616846</td>\n",
              "      <td>2668.05</td>\n",
              "      <td>616.0</td>\n",
              "      <td>2.957825</td>\n",
              "      <td>573.671716</td>\n",
              "      <td>20</td>\n",
              "      <td>2.244606</td>\n",
              "      <td>1179</td>\n",
              "      <td>0</td>\n",
              "      <td>3587</td>\n",
              "      <td>0.03</td>\n",
              "      <td>17.03</td>\n",
              "      <td>1</td>\n",
              "      <td>False</td>\n",
              "      <td>7</td>\n",
              "      <td>1.70</td>\n",
              "      <td>2</td>\n",
              "      <td>1</td>\n",
              "      <td>752.486853</td>\n",
              "      <td>887182</td>\n",
              "      <td>1.42</td>\n",
              "      <td>False</td>\n",
              "      <td>22.72</td>\n",
              "      <td>40.747126</td>\n",
              "      <td>0</td>\n",
              "      <td>1211</td>\n",
              "      <td>1</td>\n",
              "      <td>1963</td>\n",
              "      <td>1</td>\n",
              "      <td>2</td>\n",
              "      <td>873878</td>\n",
              "      <td>0.01</td>\n",
              "      <td>40.766488</td>\n",
              "      <td>2088</td>\n",
              "      <td>1</td>\n",
              "      <td>-73.983998</td>\n",
              "      <td>1.369044</td>\n",
              "      <td>1</td>\n",
              "      <td>1.50</td>\n",
              "      <td>1.664970</td>\n",
              "      <td>0</td>\n",
              "      <td>1.724195</td>\n",
              "      <td>3095</td>\n",
              "      <td>1.293402</td>\n",
              "      <td>6</td>\n",
              "      <td>False</td>\n",
              "      <td>False</td>\n",
              "      <td>False</td>\n",
              "      <td>False</td>\n",
              "      <td>False</td>\n",
              "      <td>False</td>\n",
              "      <td>True</td>\n",
              "      <td>False</td>\n",
              "      <td>False</td>\n",
              "      <td>False</td>\n",
              "      <td>2646.72</td>\n",
              "      <td>2.185566</td>\n",
              "    </tr>\n",
              "    <tr>\n",
              "      <th>4909</th>\n",
              "      <td>7</td>\n",
              "      <td>1.0</td>\n",
              "      <td>False</td>\n",
              "      <td>False</td>\n",
              "      <td>False</td>\n",
              "      <td>False</td>\n",
              "      <td>False</td>\n",
              "      <td>False</td>\n",
              "      <td>False</td>\n",
              "      <td>False</td>\n",
              "      <td>False</td>\n",
              "      <td>False</td>\n",
              "      <td>2.205335</td>\n",
              "      <td>374</td>\n",
              "      <td>533.276162</td>\n",
              "      <td>644.0</td>\n",
              "      <td>0</td>\n",
              "      <td>1.0</td>\n",
              "      <td>6</td>\n",
              "      <td>-73.992557</td>\n",
              "      <td>2</td>\n",
              "      <td>0</td>\n",
              "      <td>780.696970</td>\n",
              "      <td>1479.78</td>\n",
              "      <td>594.0</td>\n",
              "      <td>2.454607</td>\n",
              "      <td>479.435612</td>\n",
              "      <td>22</td>\n",
              "      <td>2.280387</td>\n",
              "      <td>671</td>\n",
              "      <td>0</td>\n",
              "      <td>2979</td>\n",
              "      <td>0.10</td>\n",
              "      <td>19.25</td>\n",
              "      <td>1</td>\n",
              "      <td>False</td>\n",
              "      <td>6</td>\n",
              "      <td>1.50</td>\n",
              "      <td>2</td>\n",
              "      <td>1</td>\n",
              "      <td>709.436662</td>\n",
              "      <td>476032</td>\n",
              "      <td>1.50</td>\n",
              "      <td>False</td>\n",
              "      <td>20.53</td>\n",
              "      <td>40.750179</td>\n",
              "      <td>1</td>\n",
              "      <td>1485</td>\n",
              "      <td>1</td>\n",
              "      <td>1202</td>\n",
              "      <td>0</td>\n",
              "      <td>2</td>\n",
              "      <td>1159335</td>\n",
              "      <td>0.04</td>\n",
              "      <td>40.740333</td>\n",
              "      <td>2445</td>\n",
              "      <td>1</td>\n",
              "      <td>-74.005107</td>\n",
              "      <td>1.316850</td>\n",
              "      <td>1</td>\n",
              "      <td>1.64</td>\n",
              "      <td>1.791356</td>\n",
              "      <td>0</td>\n",
              "      <td>1.646465</td>\n",
              "      <td>3427</td>\n",
              "      <td>1.433496</td>\n",
              "      <td>6</td>\n",
              "      <td>False</td>\n",
              "      <td>False</td>\n",
              "      <td>True</td>\n",
              "      <td>False</td>\n",
              "      <td>False</td>\n",
              "      <td>False</td>\n",
              "      <td>False</td>\n",
              "      <td>False</td>\n",
              "      <td>False</td>\n",
              "      <td>False</td>\n",
              "      <td>3348.13</td>\n",
              "      <td>2.254633</td>\n",
              "    </tr>\n",
              "    <tr>\n",
              "      <th>4910</th>\n",
              "      <td>10</td>\n",
              "      <td>1.0</td>\n",
              "      <td>False</td>\n",
              "      <td>False</td>\n",
              "      <td>True</td>\n",
              "      <td>False</td>\n",
              "      <td>False</td>\n",
              "      <td>False</td>\n",
              "      <td>False</td>\n",
              "      <td>False</td>\n",
              "      <td>False</td>\n",
              "      <td>False</td>\n",
              "      <td>2.434229</td>\n",
              "      <td>540</td>\n",
              "      <td>462.754725</td>\n",
              "      <td>564.0</td>\n",
              "      <td>0</td>\n",
              "      <td>1.0</td>\n",
              "      <td>6</td>\n",
              "      <td>-73.977943</td>\n",
              "      <td>2</td>\n",
              "      <td>0</td>\n",
              "      <td>676.117078</td>\n",
              "      <td>3269.17</td>\n",
              "      <td>678.0</td>\n",
              "      <td>3.242282</td>\n",
              "      <td>607.205501</td>\n",
              "      <td>4</td>\n",
              "      <td>2.160676</td>\n",
              "      <td>1343</td>\n",
              "      <td>0</td>\n",
              "      <td>3572</td>\n",
              "      <td>0.10</td>\n",
              "      <td>16.98</td>\n",
              "      <td>1</td>\n",
              "      <td>False</td>\n",
              "      <td>12</td>\n",
              "      <td>1.38</td>\n",
              "      <td>1</td>\n",
              "      <td>1</td>\n",
              "      <td>851.079672</td>\n",
              "      <td>1143000</td>\n",
              "      <td>1.48</td>\n",
              "      <td>False</td>\n",
              "      <td>23.65</td>\n",
              "      <td>40.742531</td>\n",
              "      <td>1</td>\n",
              "      <td>931</td>\n",
              "      <td>2</td>\n",
              "      <td>2209</td>\n",
              "      <td>1</td>\n",
              "      <td>2</td>\n",
              "      <td>629465</td>\n",
              "      <td>0.03</td>\n",
              "      <td>40.757707</td>\n",
              "      <td>1610</td>\n",
              "      <td>1</td>\n",
              "      <td>-73.986446</td>\n",
              "      <td>1.379492</td>\n",
              "      <td>1</td>\n",
              "      <td>1.40</td>\n",
              "      <td>1.644825</td>\n",
              "      <td>0</td>\n",
              "      <td>1.729323</td>\n",
              "      <td>3361</td>\n",
              "      <td>1.256750</td>\n",
              "      <td>6</td>\n",
              "      <td>False</td>\n",
              "      <td>False</td>\n",
              "      <td>False</td>\n",
              "      <td>False</td>\n",
              "      <td>False</td>\n",
              "      <td>False</td>\n",
              "      <td>False</td>\n",
              "      <td>False</td>\n",
              "      <td>False</td>\n",
              "      <td>False</td>\n",
              "      <td>1927.80</td>\n",
              "      <td>2.070677</td>\n",
              "    </tr>\n",
              "  </tbody>\n",
              "</table>\n",
              "</div>\n",
              "      <button class=\"colab-df-convert\" onclick=\"convertToInteractive('df-40b646a0-2c40-43f5-9b8b-e11254a9e891')\"\n",
              "              title=\"Convert this dataframe to an interactive table.\"\n",
              "              style=\"display:none;\">\n",
              "        \n",
              "  <svg xmlns=\"http://www.w3.org/2000/svg\" height=\"24px\"viewBox=\"0 0 24 24\"\n",
              "       width=\"24px\">\n",
              "    <path d=\"M0 0h24v24H0V0z\" fill=\"none\"/>\n",
              "    <path d=\"M18.56 5.44l.94 2.06.94-2.06 2.06-.94-2.06-.94-.94-2.06-.94 2.06-2.06.94zm-11 1L8.5 8.5l.94-2.06 2.06-.94-2.06-.94L8.5 2.5l-.94 2.06-2.06.94zm10 10l.94 2.06.94-2.06 2.06-.94-2.06-.94-.94-2.06-.94 2.06-2.06.94z\"/><path d=\"M17.41 7.96l-1.37-1.37c-.4-.4-.92-.59-1.43-.59-.52 0-1.04.2-1.43.59L10.3 9.45l-7.72 7.72c-.78.78-.78 2.05 0 2.83L4 21.41c.39.39.9.59 1.41.59.51 0 1.02-.2 1.41-.59l7.78-7.78 2.81-2.81c.8-.78.8-2.07 0-2.86zM5.41 20L4 18.59l7.72-7.72 1.47 1.35L5.41 20z\"/>\n",
              "  </svg>\n",
              "      </button>\n",
              "      \n",
              "  <style>\n",
              "    .colab-df-container {\n",
              "      display:flex;\n",
              "      flex-wrap:wrap;\n",
              "      gap: 12px;\n",
              "    }\n",
              "\n",
              "    .colab-df-convert {\n",
              "      background-color: #E8F0FE;\n",
              "      border: none;\n",
              "      border-radius: 50%;\n",
              "      cursor: pointer;\n",
              "      display: none;\n",
              "      fill: #1967D2;\n",
              "      height: 32px;\n",
              "      padding: 0 0 0 0;\n",
              "      width: 32px;\n",
              "    }\n",
              "\n",
              "    .colab-df-convert:hover {\n",
              "      background-color: #E2EBFA;\n",
              "      box-shadow: 0px 1px 2px rgba(60, 64, 67, 0.3), 0px 1px 3px 1px rgba(60, 64, 67, 0.15);\n",
              "      fill: #174EA6;\n",
              "    }\n",
              "\n",
              "    [theme=dark] .colab-df-convert {\n",
              "      background-color: #3B4455;\n",
              "      fill: #D2E3FC;\n",
              "    }\n",
              "\n",
              "    [theme=dark] .colab-df-convert:hover {\n",
              "      background-color: #434B5C;\n",
              "      box-shadow: 0px 1px 3px 1px rgba(0, 0, 0, 0.15);\n",
              "      filter: drop-shadow(0px 1px 2px rgba(0, 0, 0, 0.3));\n",
              "      fill: #FFFFFF;\n",
              "    }\n",
              "  </style>\n",
              "\n",
              "      <script>\n",
              "        const buttonEl =\n",
              "          document.querySelector('#df-40b646a0-2c40-43f5-9b8b-e11254a9e891 button.colab-df-convert');\n",
              "        buttonEl.style.display =\n",
              "          google.colab.kernel.accessAllowed ? 'block' : 'none';\n",
              "\n",
              "        async function convertToInteractive(key) {\n",
              "          const element = document.querySelector('#df-40b646a0-2c40-43f5-9b8b-e11254a9e891');\n",
              "          const dataTable =\n",
              "            await google.colab.kernel.invokeFunction('convertToInteractive',\n",
              "                                                     [key], {});\n",
              "          if (!dataTable) return;\n",
              "\n",
              "          const docLinkHtml = 'Like what you see? Visit the ' +\n",
              "            '<a target=\"_blank\" href=https://colab.research.google.com/notebooks/data_table.ipynb>data table notebook</a>'\n",
              "            + ' to learn more about interactive tables.';\n",
              "          element.innerHTML = '';\n",
              "          dataTable['output_type'] = 'display_data';\n",
              "          await google.colab.output.renderOutput(dataTable, element);\n",
              "          const docLink = document.createElement('div');\n",
              "          docLink.innerHTML = docLinkHtml;\n",
              "          element.appendChild(docLink);\n",
              "        }\n",
              "      </script>\n",
              "    </div>\n",
              "  </div>\n",
              "  "
            ],
            "text/plain": [
              "      MINUTE(dropoff_datetime)  ...  pickup_neighborhoods.MEAN(trips.trip_distance)\n",
              "id                              ...                                                \n",
              "4906                        10  ...                                        1.859088\n",
              "4907                        10  ...                                        1.863602\n",
              "4908                         9  ...                                        2.185566\n",
              "4909                         7  ...                                        2.254633\n",
              "4910                        10  ...                                        2.070677\n",
              "\n",
              "[5 rows x 79 columns]"
            ]
          },
          "metadata": {},
          "execution_count": 67
        }
      ],
      "source": [
        "feature_matrix3.head()"
      ]
    },
    {
      "cell_type": "markdown",
      "metadata": {
        "id": "-AfJIsFPHjt4"
      },
      "source": [
        "### Build the new models more transform and aggregate features"
      ]
    },
    {
      "cell_type": "code",
      "execution_count": 68,
      "metadata": {
        "ExecuteTime": {
          "end_time": "2021-07-09T11:14:41.627956Z",
          "start_time": "2021-07-09T11:14:07.052570Z"
        },
        "id": "lgAQvrVfHjt5"
      },
      "outputs": [],
      "source": [
        "# separates the whole feature matrix into train data feature matrix,\n",
        "# train data labels, and test data feature matrix \n",
        "X_train3, y_train3, X_test3, y_test3 = get_train_test_fm(feature_matrix3,.75)\n",
        "y_train3 = np.sqrt(y_train3)\n",
        "y_test3 = np.sqrt(y_test3)"
      ]
    },
    {
      "cell_type": "markdown",
      "metadata": {
        "id": "t0pPvxJCHjt5"
      },
      "source": [
        "#### Question 6.3 Building  Linear regression model with transform and aggregate primitive."
      ]
    },
    {
      "cell_type": "code",
      "execution_count": 69,
      "metadata": {
        "colab": {
          "base_uri": "https://localhost:8080/"
        },
        "id": "HyBUEz4rHjt5",
        "outputId": "c6121551-a4df-47be-847e-4fc060723d23"
      },
      "outputs": [
        {
          "output_type": "execute_result",
          "data": {
            "text/plain": [
              "LinearRegression()"
            ]
          },
          "metadata": {},
          "execution_count": 69
        }
      ],
      "source": [
        "#Remove _________ and complete the code\n",
        "\n",
        "#defining the model\n",
        "\n",
        "lr3=LinearRegression()\n",
        "\n",
        "#fitting the model\n",
        "lr3.fit(X_train3,y_train3)\n"
      ]
    },
    {
      "cell_type": "markdown",
      "metadata": {
        "id": "jm2rOdsFHjt5"
      },
      "source": [
        "#### Check the performance of the model"
      ]
    },
    {
      "cell_type": "code",
      "execution_count": 70,
      "metadata": {
        "colab": {
          "base_uri": "https://localhost:8080/"
        },
        "id": "qcxgVJ3cHjt5",
        "outputId": "fc58e927-a1db-4ec8-b5f6-436de4047d57"
      },
      "outputs": [
        {
          "output_type": "stream",
          "name": "stdout",
          "text": [
            "    Data  RSquared      RMSE       MAE\n",
            "0  Train  0.601147  5.921888  4.533783\n",
            "1   Test  0.580959  6.374266  4.855713\n"
          ]
        }
      ],
      "source": [
        "#Remove _________ and complete the code\n",
        "model_pref(lr3, X_train3, X_test3,y_train3,y_test3)  "
      ]
    },
    {
      "cell_type": "markdown",
      "metadata": {
        "id": "iPTT1MdUHjt6"
      },
      "source": [
        "**Write your answers here:_____**"
      ]
    },
    {
      "cell_type": "markdown",
      "metadata": {
        "id": "e4xjCBpsHjt6"
      },
      "source": [
        "#### Question 6.4 Building  Decision tree with transform and aggregate primitive."
      ]
    },
    {
      "cell_type": "code",
      "execution_count": 71,
      "metadata": {
        "colab": {
          "base_uri": "https://localhost:8080/"
        },
        "id": "e1ePTiQgHjt7",
        "outputId": "3c3e61dd-e3d5-4590-8953-45adf65bb9c4"
      },
      "outputs": [
        {
          "output_type": "execute_result",
          "data": {
            "text/plain": [
              "DecisionTreeRegressor()"
            ]
          },
          "metadata": {},
          "execution_count": 71
        }
      ],
      "source": [
        "#Remove _________ and complete the code\n",
        "\n",
        "#define the model\n",
        "dt3=DecisionTreeRegressor()\n",
        "\n",
        "#fit the model\n",
        "dt3.fit(X_train3,y_train3)"
      ]
    },
    {
      "cell_type": "markdown",
      "metadata": {
        "id": "1srt6e6xHjt7"
      },
      "source": [
        "#### Check the performance of the model"
      ]
    },
    {
      "cell_type": "code",
      "execution_count": 72,
      "metadata": {
        "colab": {
          "base_uri": "https://localhost:8080/"
        },
        "id": "k9aSov5JHjt7",
        "outputId": "8a14e846-d3f5-4453-af3d-f9215ccab2d7"
      },
      "outputs": [
        {
          "output_type": "stream",
          "name": "stdout",
          "text": [
            "    Data  RSquared      RMSE       MAE\n",
            "0  Train  1.000000  0.001108  0.000002\n",
            "1   Test  0.653553  5.795894  4.221118\n"
          ]
        }
      ],
      "source": [
        "#Remove _________ and complete the code\n",
        "model_pref(dt3, X_train3, X_test3,y_train3,y_test3)  "
      ]
    },
    {
      "cell_type": "markdown",
      "metadata": {
        "id": "nRmQMaYbHjt8"
      },
      "source": [
        "**Write your answers here:_____**\n",
        "\n",
        "- The model is overfitting a lot, with train R2 as 1 while test R2 as 0.65\n",
        "- This generally happens in decision tree, one solution for this is to Prune the decision tree, let's try pruning and see if the performance improves."
      ]
    },
    {
      "cell_type": "markdown",
      "metadata": {
        "id": "_X91kJdKHjt8"
      },
      "source": [
        "#### Question 6.5 Building  Pruned Decision tree with transform and aggregate primitive."
      ]
    },
    {
      "cell_type": "code",
      "execution_count": 73,
      "metadata": {
        "colab": {
          "base_uri": "https://localhost:8080/"
        },
        "id": "aVxRkorzHjt9",
        "outputId": "541d7f3b-e7b4-4154-94cd-5e1ab3c9dfac"
      },
      "outputs": [
        {
          "output_type": "execute_result",
          "data": {
            "text/plain": [
              "DecisionTreeRegressor(max_depth=4)"
            ]
          },
          "metadata": {},
          "execution_count": 73
        }
      ],
      "source": [
        "#Remove _________ and complete the code\n",
        "#define the model\n",
        "\n",
        "#use max_depth=7\n",
        "dt_pruned3=DecisionTreeRegressor(max_depth=4)\n",
        "\n",
        "#fit the model\n",
        "dt_pruned3.fit(X_train3,y_train3)"
      ]
    },
    {
      "cell_type": "markdown",
      "metadata": {
        "id": "D1-Ldez-Hjt9"
      },
      "source": [
        "#### Check the performance of the model"
      ]
    },
    {
      "cell_type": "code",
      "execution_count": 74,
      "metadata": {
        "colab": {
          "base_uri": "https://localhost:8080/"
        },
        "id": "IxD5Ip4ZHjt9",
        "outputId": "39c61335-a94d-4b34-b484-8fa692a7cb2b"
      },
      "outputs": [
        {
          "output_type": "stream",
          "name": "stdout",
          "text": [
            "    Data  RSquared      RMSE       MAE\n",
            "0  Train  0.706970  5.075858  3.893229\n",
            "1   Test  0.681187  5.559932  4.214939\n"
          ]
        }
      ],
      "source": [
        "#Remove _________ and complete the code\n",
        "model_pref(dt_pruned3, X_train3, X_test3,y_train3,y_test3)  "
      ]
    },
    {
      "cell_type": "markdown",
      "metadata": {
        "id": "x4j_CcQRHjt9"
      },
      "source": [
        "**Write your answers here:_____**\n",
        "\n",
        "- Model is giving 0.68 Rsquared, with RSME of 5.55 and MAE of 4.21\n",
        "- The model performance has not improved much by adding aggregate primitives.\n"
      ]
    },
    {
      "cell_type": "markdown",
      "metadata": {
        "id": "0DDBRRUHHjt9"
      },
      "source": [
        "#### Question 6.6 Building  Random Forest with transform and aggregate primitive."
      ]
    },
    {
      "cell_type": "code",
      "execution_count": 75,
      "metadata": {
        "colab": {
          "base_uri": "https://localhost:8080/"
        },
        "id": "7ncWqy9sHjt-",
        "outputId": "d80909ac-7c74-49af-ad20-7dec93a44aa3"
      },
      "outputs": [
        {
          "output_type": "execute_result",
          "data": {
            "text/plain": [
              "RandomForestRegressor(max_depth=4, n_estimators=60)"
            ]
          },
          "metadata": {},
          "execution_count": 75
        }
      ],
      "source": [
        "#fit the model\n",
        "\n",
        "#Remove _________ and complete the code\n",
        "#using (n_estimators=60,max_depth=7)\n",
        "\n",
        "rf3=RandomForestRegressor(n_estimators=60,max_depth=4)\n",
        "\n",
        "#fit the model\n",
        "\n",
        "#Remove _________ and complete the code\n",
        "rf3.fit(X_train3,y_train3)"
      ]
    },
    {
      "cell_type": "markdown",
      "metadata": {
        "id": "5G6BJnTPHjt-"
      },
      "source": [
        "#### Check the performance of the model"
      ]
    },
    {
      "cell_type": "code",
      "execution_count": 76,
      "metadata": {
        "scrolled": true,
        "colab": {
          "base_uri": "https://localhost:8080/"
        },
        "id": "yk_kXtE0Hjt-",
        "outputId": "73eaeae9-2cde-4809-fca2-44d008d2b828"
      },
      "outputs": [
        {
          "output_type": "stream",
          "name": "stdout",
          "text": [
            "    Data  RSquared      RMSE       MAE\n",
            "0  Train  0.711673  5.034968  3.856758\n",
            "1   Test  0.685813  5.519447  4.178558\n"
          ]
        }
      ],
      "source": [
        "model_pref(rf3, X_train3, X_test3,y_train3,y_test3)  "
      ]
    },
    {
      "cell_type": "markdown",
      "metadata": {
        "id": "AsAh4HS9Hjt-"
      },
      "source": [
        "**Write your answers here:_____**\n",
        "\n",
        "- The model Performance has slightly improved from by the addition of transform and aggregation features.\n",
        "\n"
      ]
    },
    {
      "cell_type": "markdown",
      "metadata": {
        "id": "bim4AF4yHjt-"
      },
      "source": [
        "**Question 6.7 How do these aggregate transforms impact performance? How do they impact training time?**"
      ]
    },
    {
      "cell_type": "markdown",
      "metadata": {
        "id": "LPYEIjvbHjt_"
      },
      "source": [
        "**Write your answers here:_____**\n",
        "\n",
        "\n",
        "- The modeling score has not improved much after adding aggregate transforms, and also the training time was also increased by a significant amount, implies that adding more features is always not very effective.\n"
      ]
    },
    {
      "cell_type": "markdown",
      "metadata": {
        "id": "J1IK7v8GHjt_"
      },
      "source": [
        "#### Based on the above 3 models, we can make predictions using our model2, as it is giving almost same accuracy as model3 and also the training time is not that large as compared to model3"
      ]
    },
    {
      "cell_type": "code",
      "execution_count": 77,
      "metadata": {
        "ExecuteTime": {
          "end_time": "2021-07-09T11:23:07.091360Z",
          "start_time": "2021-07-09T11:23:06.179570Z"
        },
        "scrolled": true,
        "colab": {
          "base_uri": "https://localhost:8080/"
        },
        "id": "XRxRqXX6Hjt_",
        "outputId": "adcdcfda-b8e3-40dd-e7c1-a2fa49c6afdc"
      },
      "outputs": [
        {
          "output_type": "execute_result",
          "data": {
            "text/plain": [
              "array([ 514.90786514,  944.31505582, 2276.57944299, ...,  155.73602634,\n",
              "        950.33846541, 1352.60637687])"
            ]
          },
          "metadata": {},
          "execution_count": 77
        }
      ],
      "source": [
        "y_pred = rf2.predict(X_test2)\n",
        "y_pred = y_pred**2 # undo the sqrt we took earlier\n",
        "y_pred[5:]"
      ]
    },
    {
      "cell_type": "markdown",
      "metadata": {
        "id": "bVo8jRCIHjt_"
      },
      "source": [
        "### Question 7: What are some important features based on model2 and how can they affect the duration of the rides? (3 Marks)"
      ]
    },
    {
      "cell_type": "code",
      "execution_count": 78,
      "metadata": {
        "ExecuteTime": {
          "end_time": "2021-07-09T11:23:15.953274Z",
          "start_time": "2021-07-09T11:23:15.813531Z"
        },
        "scrolled": true,
        "colab": {
          "base_uri": "https://localhost:8080/"
        },
        "id": "yll49vYtHjt_",
        "outputId": "5bbec2ce-f81c-48b3-8a51-bdab134845bf"
      },
      "outputs": [
        {
          "output_type": "stream",
          "name": "stdout",
          "text": [
            "1: Feature: trip_distance, 0.974\n",
            "2: Feature: HOUR(dropoff_datetime), 0.025\n",
            "3: Feature: dropoff_neighborhoods.latitude, 0.001\n",
            "4: Feature: HOUR(pickup_datetime), 0.000\n",
            "5: Feature: WEEKDAY(pickup_datetime), 0.000\n",
            "6: Feature: MINUTE(pickup_datetime), 0.000\n",
            "7: Feature: DAY(dropoff_datetime), 0.000\n",
            "8: Feature: payment_type, 0.000\n",
            "9: Feature: IS_WEEKEND(dropoff_datetime), 0.000\n",
            "10: Feature: pickup_neighborhoods.latitude, 0.000\n"
          ]
        }
      ],
      "source": [
        "feature_importances(rf2, feature_matrix2.drop(['trip_duration'],axis=1).columns, n=10)"
      ]
    },
    {
      "cell_type": "markdown",
      "metadata": {
        "id": "jIClKCgdHjuA"
      },
      "source": [
        "**Write your answers here:_____**\n",
        "\n",
        "- Trip_Distance is the most important feature, which implies that the longer the trip is the longer duration of the trip is.\n",
        "- The second important feature is the dropff_datetime, which implies the time of the day and the day of the week also matters.\n",
        "- Features like dropoff_neighborhoods.latitude signifies that trip duration is impacted by pickup and dropoff locations."
      ]
    },
    {
      "cell_type": "code",
      "source": [
        ""
      ],
      "metadata": {
        "id": "WtNTOjTS45_h"
      },
      "execution_count": null,
      "outputs": []
    }
  ],
  "metadata": {
    "kernelspec": {
      "display_name": "Python 3",
      "language": "python",
      "name": "python3"
    },
    "language_info": {
      "codemirror_mode": {
        "name": "ipython",
        "version": 3
      },
      "file_extension": ".py",
      "mimetype": "text/x-python",
      "name": "python",
      "nbconvert_exporter": "python",
      "pygments_lexer": "ipython3",
      "version": "3.7.6"
    },
    "toc": {
      "base_numbering": 1,
      "nav_menu": {},
      "number_sections": true,
      "sideBar": true,
      "skip_h1_title": false,
      "title_cell": "Table of Contents",
      "title_sidebar": "Contents",
      "toc_cell": false,
      "toc_position": {},
      "toc_section_display": true,
      "toc_window_display": false
    },
    "varInspector": {
      "cols": {
        "lenName": 16,
        "lenType": 16,
        "lenVar": 40
      },
      "kernels_config": {
        "python": {
          "delete_cmd_postfix": "",
          "delete_cmd_prefix": "del ",
          "library": "var_list.py",
          "varRefreshCmd": "print(var_dic_list())"
        },
        "r": {
          "delete_cmd_postfix": ") ",
          "delete_cmd_prefix": "rm(",
          "library": "var_list.r",
          "varRefreshCmd": "cat(var_dic_list()) "
        }
      },
      "types_to_exclude": [
        "module",
        "function",
        "builtin_function_or_method",
        "instance",
        "_Feature"
      ],
      "window_display": false
    },
    "colab": {
      "name": "Project_NYC_Taxi_trip_duration_Learners_Notebook-2.ipynb",
      "provenance": [],
      "collapsed_sections": [
        "ILiigbxMHjtY",
        "GS4cWqcAHjte",
        "Gkt1iQlBHjti",
        "FrMXSdCnHjti",
        "xjYtpsmeHjtj",
        "dkX6DV_uHjt3"
      ]
    }
  },
  "nbformat": 4,
  "nbformat_minor": 0
}