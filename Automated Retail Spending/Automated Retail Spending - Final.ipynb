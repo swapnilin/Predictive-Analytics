{
 "cells": [
  {
   "cell_type": "markdown",
   "metadata": {},
   "source": [
    "![](../../images/featuretools.png)\n",
    "\n",
    "# Predicting Retail Spending with Automated Feature Engineering in Featuretools\n",
    "\n",
    "In this notebook, we will implement an automated feature engineering solution with [Featuretools](https://docs.featuretools.com/#minute-quick-start) for a set of online retail purchases. The dataset (available from the [UCI machine learning repository](https://archive.ics.uci.edu/ml/datasets/online+retail#)) is a series of time-stamped purchases and does not come with any labels, so we'll have to make our own prediction problem. After defining the problem, we can use automated feature engineering to build a set of features that are used for training a predictive model.\n",
    "\n",
    "This set of retail spending data is great practice both for defining our own prediction problem (known as [prediction engineering](http://ieeexplore.ieee.org/document/7796929/)), and for using some of the time-based capabilities of Featuretools, notably cutoff times. Whenever we have time-series data, we need to be extra careful to not \"leak labels\" or use information from the future to predict a past event. Usually, when we're doing manual feature engineering, this can be an issue and often, a system will work well in development but utterly fail when deployed because it was trained on invalid data. Fortunately, Featuretools will take care of the time issue for us, creating a rich set of features that obey the time restrictions.\n",
    "\n",
    "## Roadmap \n",
    "\n",
    "Following is an outline for this notebook:\n",
    "\n",
    "1. Read in data, inspect, and clean\n",
    "2. Develop a prediction problem\n",
    "    * Create a dataframe of labels - what we want to predict, and cutoff times - the point that all data must come before for predicting a label\n",
    "3. Create an entityset and add entities\n",
    "    * Normalize the original table to develop new tables \n",
    "    * These new tables can be used for making features\n",
    "4. Run deep feature sythesis on the entityset to make features\n",
    "    * Use the cutoff times to make features using valid data for each label\n",
    "5. Use the features to train a machine learning model\n",
    "    * Measure performance of the model relative to an informed baseline\n",
    "6. Tune deep feature synthesis \n",
    "    * Specify custom primitives\n",
    "    * Adjust maximum depth of features\n",
    "    * Re-evaluate model\n",
    "\n",
    "This problem is a great display of both the time and feature-creation capabilities of Featuretools. Also, we'll be able to use custom primitives to expand on our domain knowledge. Doing this problem by hand and ensuring we use only valid data for each label is a daunting task (as can be seen in the Manual Retail Spending notebook)! "
   ]
  },
  {
   "cell_type": "code",
   "execution_count": 1,
   "metadata": {
    "ExecuteTime": {
     "end_time": "2021-08-06T09:46:19.565526Z",
     "start_time": "2021-08-06T09:46:19.549533Z"
    }
   },
   "outputs": [],
   "source": [
    "# Data manipulation\n",
    "import pandas as pd \n",
    "import numpy as np\n",
    "\n",
    "# Visualization\n",
    "import matplotlib.pyplot as plt\n",
    "import seaborn as sns\n",
    "\n",
    "plt.style.use('fivethirtyeight')\n",
    "%matplotlib inline\n",
    "\n",
    "# Automated feature engineering\n",
    "import featuretools as ft\n",
    "\n",
    "# Machine learning\n",
    "from sklearn.impute import SimpleImputer\n",
    "from sklearn.preprocessing import MinMaxScaler\n",
    "from sklearn.metrics import precision_score, recall_score, f1_score, roc_auc_score, precision_recall_curve, roc_curve\n",
    "from sklearn.model_selection import train_test_split, cross_val_score\n",
    "from sklearn.ensemble import RandomForestClassifier\n",
    "\n",
    "#ignore warnings\n",
    "import warnings\n",
    "warnings.filterwarnings(\"ignore\")"
   ]
  },
  {
   "cell_type": "markdown",
   "metadata": {},
   "source": [
    "### Load in Raw Data\n",
    "\n",
    "The raw data is a collection of purchases from an online retailer collected in 2010-2011. Each row in the original data represents one product that was purchased with multiple purchases forming an order. There are a few issues with the data that will need to be addressed (as with most real-world datasets)!\n",
    "\n",
    "This code loads in the data, converts the price in Pounds to dollars (based on the exchange rate on May 31, 2011), subsets the data to 2011, and creates a column representing the total of the purchase. The original data description can be found on [the UCI Machine Learning Repository.](https://archive.ics.uci.edu/ml/datasets/online+retail#)"
   ]
  },
  {
   "cell_type": "code",
   "execution_count": 2,
   "metadata": {
    "ExecuteTime": {
     "end_time": "2021-08-06T09:47:59.694316Z",
     "start_time": "2021-08-06T09:46:21.884874Z"
    }
   },
   "outputs": [],
   "source": [
    "data = pd.read_excel(\"Online Retail.xlsx\")"
   ]
  },
  {
   "cell_type": "code",
   "execution_count": 3,
   "metadata": {
    "ExecuteTime": {
     "end_time": "2021-07-15T11:28:06.134727Z",
     "start_time": "2021-07-15T11:28:05.419553Z"
    }
   },
   "outputs": [
    {
     "data": {
      "text/html": [
       "<div>\n",
       "<style scoped>\n",
       "    .dataframe tbody tr th:only-of-type {\n",
       "        vertical-align: middle;\n",
       "    }\n",
       "\n",
       "    .dataframe tbody tr th {\n",
       "        vertical-align: top;\n",
       "    }\n",
       "\n",
       "    .dataframe thead th {\n",
       "        text-align: right;\n",
       "    }\n",
       "</style>\n",
       "<table border=\"1\" class=\"dataframe\">\n",
       "  <thead>\n",
       "    <tr style=\"text-align: right;\">\n",
       "      <th></th>\n",
       "      <th>InvoiceNo</th>\n",
       "      <th>StockCode</th>\n",
       "      <th>Description</th>\n",
       "      <th>Quantity</th>\n",
       "      <th>InvoiceDate</th>\n",
       "      <th>UnitPrice</th>\n",
       "      <th>CustomerID</th>\n",
       "      <th>Country</th>\n",
       "    </tr>\n",
       "  </thead>\n",
       "  <tbody>\n",
       "    <tr>\n",
       "      <th>0</th>\n",
       "      <td>536365</td>\n",
       "      <td>85123A</td>\n",
       "      <td>WHITE HANGING HEART T-LIGHT HOLDER</td>\n",
       "      <td>6</td>\n",
       "      <td>2010-12-01 08:26:00</td>\n",
       "      <td>2.55</td>\n",
       "      <td>17850.0</td>\n",
       "      <td>United Kingdom</td>\n",
       "    </tr>\n",
       "    <tr>\n",
       "      <th>1</th>\n",
       "      <td>536365</td>\n",
       "      <td>71053</td>\n",
       "      <td>WHITE METAL LANTERN</td>\n",
       "      <td>6</td>\n",
       "      <td>2010-12-01 08:26:00</td>\n",
       "      <td>3.39</td>\n",
       "      <td>17850.0</td>\n",
       "      <td>United Kingdom</td>\n",
       "    </tr>\n",
       "    <tr>\n",
       "      <th>2</th>\n",
       "      <td>536365</td>\n",
       "      <td>84406B</td>\n",
       "      <td>CREAM CUPID HEARTS COAT HANGER</td>\n",
       "      <td>8</td>\n",
       "      <td>2010-12-01 08:26:00</td>\n",
       "      <td>2.75</td>\n",
       "      <td>17850.0</td>\n",
       "      <td>United Kingdom</td>\n",
       "    </tr>\n",
       "    <tr>\n",
       "      <th>3</th>\n",
       "      <td>536365</td>\n",
       "      <td>84029G</td>\n",
       "      <td>KNITTED UNION FLAG HOT WATER BOTTLE</td>\n",
       "      <td>6</td>\n",
       "      <td>2010-12-01 08:26:00</td>\n",
       "      <td>3.39</td>\n",
       "      <td>17850.0</td>\n",
       "      <td>United Kingdom</td>\n",
       "    </tr>\n",
       "    <tr>\n",
       "      <th>4</th>\n",
       "      <td>536365</td>\n",
       "      <td>84029E</td>\n",
       "      <td>RED WOOLLY HOTTIE WHITE HEART.</td>\n",
       "      <td>6</td>\n",
       "      <td>2010-12-01 08:26:00</td>\n",
       "      <td>3.39</td>\n",
       "      <td>17850.0</td>\n",
       "      <td>United Kingdom</td>\n",
       "    </tr>\n",
       "  </tbody>\n",
       "</table>\n",
       "</div>"
      ],
      "text/plain": [
       "  InvoiceNo StockCode                          Description  Quantity  \\\n",
       "0    536365    85123A   WHITE HANGING HEART T-LIGHT HOLDER         6   \n",
       "1    536365     71053                  WHITE METAL LANTERN         6   \n",
       "2    536365    84406B       CREAM CUPID HEARTS COAT HANGER         8   \n",
       "3    536365    84029G  KNITTED UNION FLAG HOT WATER BOTTLE         6   \n",
       "4    536365    84029E       RED WOOLLY HOTTIE WHITE HEART.         6   \n",
       "\n",
       "          InvoiceDate  UnitPrice  CustomerID         Country  \n",
       "0 2010-12-01 08:26:00       2.55     17850.0  United Kingdom  \n",
       "1 2010-12-01 08:26:00       3.39     17850.0  United Kingdom  \n",
       "2 2010-12-01 08:26:00       2.75     17850.0  United Kingdom  \n",
       "3 2010-12-01 08:26:00       3.39     17850.0  United Kingdom  \n",
       "4 2010-12-01 08:26:00       3.39     17850.0  United Kingdom  "
      ]
     },
     "execution_count": 3,
     "metadata": {},
     "output_type": "execute_result"
    }
   ],
   "source": [
    "data.head()"
   ]
  },
  {
   "cell_type": "code",
   "execution_count": 4,
   "metadata": {
    "ExecuteTime": {
     "end_time": "2021-07-15T11:28:33.915509Z",
     "start_time": "2021-07-15T11:28:33.906492Z"
    }
   },
   "outputs": [
    {
     "data": {
      "text/plain": [
       "(541909, 8)"
      ]
     },
     "execution_count": 4,
     "metadata": {},
     "output_type": "execute_result"
    }
   ],
   "source": [
    "data.shape"
   ]
  },
  {
   "cell_type": "code",
   "execution_count": 5,
   "metadata": {
    "ExecuteTime": {
     "end_time": "2021-07-15T11:28:37.164742Z",
     "start_time": "2021-07-15T11:28:36.956389Z"
    }
   },
   "outputs": [],
   "source": [
    "# Convert to dollars\n",
    "data['UnitPrice'] = data['UnitPrice'] * 1.65\n",
    "data['total'] = data['UnitPrice'] * data['Quantity']\n"
   ]
  },
  {
   "cell_type": "code",
   "execution_count": 6,
   "metadata": {
    "ExecuteTime": {
     "end_time": "2021-07-15T11:28:41.702842Z",
     "start_time": "2021-07-15T11:28:41.474702Z"
    }
   },
   "outputs": [],
   "source": [
    "# Restrict data to 2011\n",
    "data_2011 = data[data['InvoiceDate'].dt.year == 2011]"
   ]
  },
  {
   "cell_type": "code",
   "execution_count": 7,
   "metadata": {
    "ExecuteTime": {
     "end_time": "2021-07-15T11:28:49.395402Z",
     "start_time": "2021-07-15T11:28:49.331530Z"
    }
   },
   "outputs": [
    {
     "data": {
      "text/html": [
       "<div>\n",
       "<style scoped>\n",
       "    .dataframe tbody tr th:only-of-type {\n",
       "        vertical-align: middle;\n",
       "    }\n",
       "\n",
       "    .dataframe tbody tr th {\n",
       "        vertical-align: top;\n",
       "    }\n",
       "\n",
       "    .dataframe thead th {\n",
       "        text-align: right;\n",
       "    }\n",
       "</style>\n",
       "<table border=\"1\" class=\"dataframe\">\n",
       "  <thead>\n",
       "    <tr style=\"text-align: right;\">\n",
       "      <th></th>\n",
       "      <th>InvoiceNo</th>\n",
       "      <th>StockCode</th>\n",
       "      <th>Description</th>\n",
       "      <th>Quantity</th>\n",
       "      <th>InvoiceDate</th>\n",
       "      <th>UnitPrice</th>\n",
       "      <th>CustomerID</th>\n",
       "      <th>Country</th>\n",
       "      <th>total</th>\n",
       "    </tr>\n",
       "  </thead>\n",
       "  <tbody>\n",
       "    <tr>\n",
       "      <th>42481</th>\n",
       "      <td>539993</td>\n",
       "      <td>22386</td>\n",
       "      <td>JUMBO BAG PINK POLKADOT</td>\n",
       "      <td>10</td>\n",
       "      <td>2011-01-04 10:00:00</td>\n",
       "      <td>3.2175</td>\n",
       "      <td>13313.0</td>\n",
       "      <td>United Kingdom</td>\n",
       "      <td>32.175</td>\n",
       "    </tr>\n",
       "    <tr>\n",
       "      <th>42482</th>\n",
       "      <td>539993</td>\n",
       "      <td>21499</td>\n",
       "      <td>BLUE POLKADOT WRAP</td>\n",
       "      <td>25</td>\n",
       "      <td>2011-01-04 10:00:00</td>\n",
       "      <td>0.6930</td>\n",
       "      <td>13313.0</td>\n",
       "      <td>United Kingdom</td>\n",
       "      <td>17.325</td>\n",
       "    </tr>\n",
       "    <tr>\n",
       "      <th>42483</th>\n",
       "      <td>539993</td>\n",
       "      <td>21498</td>\n",
       "      <td>RED RETROSPOT WRAP</td>\n",
       "      <td>25</td>\n",
       "      <td>2011-01-04 10:00:00</td>\n",
       "      <td>0.6930</td>\n",
       "      <td>13313.0</td>\n",
       "      <td>United Kingdom</td>\n",
       "      <td>17.325</td>\n",
       "    </tr>\n",
       "    <tr>\n",
       "      <th>42484</th>\n",
       "      <td>539993</td>\n",
       "      <td>22379</td>\n",
       "      <td>RECYCLING BAG RETROSPOT</td>\n",
       "      <td>5</td>\n",
       "      <td>2011-01-04 10:00:00</td>\n",
       "      <td>3.4650</td>\n",
       "      <td>13313.0</td>\n",
       "      <td>United Kingdom</td>\n",
       "      <td>17.325</td>\n",
       "    </tr>\n",
       "    <tr>\n",
       "      <th>42485</th>\n",
       "      <td>539993</td>\n",
       "      <td>20718</td>\n",
       "      <td>RED RETROSPOT SHOPPER BAG</td>\n",
       "      <td>10</td>\n",
       "      <td>2011-01-04 10:00:00</td>\n",
       "      <td>2.0625</td>\n",
       "      <td>13313.0</td>\n",
       "      <td>United Kingdom</td>\n",
       "      <td>20.625</td>\n",
       "    </tr>\n",
       "  </tbody>\n",
       "</table>\n",
       "</div>"
      ],
      "text/plain": [
       "      InvoiceNo StockCode                Description  Quantity  \\\n",
       "42481    539993     22386    JUMBO BAG PINK POLKADOT        10   \n",
       "42482    539993     21499         BLUE POLKADOT WRAP        25   \n",
       "42483    539993     21498        RED RETROSPOT WRAP         25   \n",
       "42484    539993     22379   RECYCLING BAG RETROSPOT          5   \n",
       "42485    539993     20718  RED RETROSPOT SHOPPER BAG        10   \n",
       "\n",
       "              InvoiceDate  UnitPrice  CustomerID         Country   total  \n",
       "42481 2011-01-04 10:00:00     3.2175     13313.0  United Kingdom  32.175  \n",
       "42482 2011-01-04 10:00:00     0.6930     13313.0  United Kingdom  17.325  \n",
       "42483 2011-01-04 10:00:00     0.6930     13313.0  United Kingdom  17.325  \n",
       "42484 2011-01-04 10:00:00     3.4650     13313.0  United Kingdom  17.325  \n",
       "42485 2011-01-04 10:00:00     2.0625     13313.0  United Kingdom  20.625  "
      ]
     },
     "execution_count": 7,
     "metadata": {},
     "output_type": "execute_result"
    }
   ],
   "source": [
    "data_2011.head()"
   ]
  },
  {
   "cell_type": "code",
   "execution_count": 8,
   "metadata": {
    "ExecuteTime": {
     "end_time": "2021-07-15T11:30:50.458584Z",
     "start_time": "2021-07-15T11:30:50.437637Z"
    },
    "scrolled": true
   },
   "outputs": [
    {
     "data": {
      "text/plain": [
       "(499428, 9)"
      ]
     },
     "execution_count": 8,
     "metadata": {},
     "output_type": "execute_result"
    }
   ],
   "source": [
    "data_2011.shape"
   ]
  },
  {
   "cell_type": "code",
   "execution_count": 9,
   "metadata": {},
   "outputs": [
    {
     "name": "stdout",
     "output_type": "stream",
     "text": [
      "<class 'pandas.core.frame.DataFrame'>\n",
      "Int64Index: 499428 entries, 42481 to 541908\n",
      "Data columns (total 9 columns):\n",
      " #   Column       Non-Null Count   Dtype         \n",
      "---  ------       --------------   -----         \n",
      " 0   InvoiceNo    499428 non-null  object        \n",
      " 1   StockCode    499428 non-null  object        \n",
      " 2   Description  498099 non-null  object        \n",
      " 3   Quantity     499428 non-null  int64         \n",
      " 4   InvoiceDate  499428 non-null  datetime64[ns]\n",
      " 5   UnitPrice    499428 non-null  float64       \n",
      " 6   CustomerID   379979 non-null  float64       \n",
      " 7   Country      499428 non-null  object        \n",
      " 8   total        499428 non-null  float64       \n",
      "dtypes: datetime64[ns](1), float64(3), int64(1), object(4)\n",
      "memory usage: 38.1+ MB\n"
     ]
    }
   ],
   "source": [
    "data_2011.info()"
   ]
  },
  {
   "cell_type": "markdown",
   "metadata": {},
   "source": [
    "## Data Cleaning\n",
    "\n",
    "There are a few issues we need to address with the data. First, we'll drop the duplicated rows, then we'll drop any rows that contain a `nan`. Finally, we can add a `Boolean` column indicating whether or not an order is a cancellation."
   ]
  },
  {
   "cell_type": "code",
   "execution_count": 10,
   "metadata": {},
   "outputs": [
    {
     "data": {
      "text/plain": [
       "4768"
      ]
     },
     "execution_count": 10,
     "metadata": {},
     "output_type": "execute_result"
    }
   ],
   "source": [
    "data_2011.duplicated().sum()"
   ]
  },
  {
   "cell_type": "markdown",
   "metadata": {},
   "source": [
    "- There are 4768 duplicate values which we will drop as they will add bias in the dataset"
   ]
  },
  {
   "cell_type": "code",
   "execution_count": 11,
   "metadata": {},
   "outputs": [
    {
     "data": {
      "text/plain": [
       "InvoiceNo           0\n",
       "StockCode           0\n",
       "Description      1329\n",
       "Quantity            0\n",
       "InvoiceDate         0\n",
       "UnitPrice           0\n",
       "CustomerID     119449\n",
       "Country             0\n",
       "total               0\n",
       "dtype: int64"
      ]
     },
     "execution_count": 11,
     "metadata": {},
     "output_type": "execute_result"
    }
   ],
   "source": [
    "data_2011.isnull().sum()"
   ]
  },
  {
   "cell_type": "markdown",
   "metadata": {},
   "source": [
    "- There are about 119449 missing values in the customerID and it is very difficult to fill in such column also as they are unique ID belonging to each customer. There we will be dropping those too. "
   ]
  },
  {
   "cell_type": "code",
   "execution_count": 12,
   "metadata": {
    "ExecuteTime": {
     "end_time": "2021-07-15T11:31:31.276017Z",
     "start_time": "2021-07-15T11:31:28.271069Z"
    }
   },
   "outputs": [],
   "source": [
    "# drop the duplicates\n",
    "data_2011 = data_2011.drop_duplicates()\n",
    "\n",
    "# drop rows with null customer id\n",
    "data_2011 = data_2011.dropna(axis=0)\n",
    "\n",
    "data_2011['cancelled'] = data_2011['InvoiceNo'].str.startswith('C', na = False)"
   ]
  },
  {
   "cell_type": "code",
   "execution_count": 13,
   "metadata": {},
   "outputs": [
    {
     "data": {
      "text/plain": [
       "(375250, 10)"
      ]
     },
     "execution_count": 13,
     "metadata": {},
     "output_type": "execute_result"
    }
   ],
   "source": [
    "# Size has changed as we have removed duplicats\n",
    "data_2011.shape"
   ]
  },
  {
   "cell_type": "code",
   "execution_count": 14,
   "metadata": {
    "scrolled": true
   },
   "outputs": [
    {
     "data": {
      "text/html": [
       "<div>\n",
       "<style scoped>\n",
       "    .dataframe tbody tr th:only-of-type {\n",
       "        vertical-align: middle;\n",
       "    }\n",
       "\n",
       "    .dataframe tbody tr th {\n",
       "        vertical-align: top;\n",
       "    }\n",
       "\n",
       "    .dataframe thead th {\n",
       "        text-align: right;\n",
       "    }\n",
       "</style>\n",
       "<table border=\"1\" class=\"dataframe\">\n",
       "  <thead>\n",
       "    <tr style=\"text-align: right;\">\n",
       "      <th></th>\n",
       "      <th>InvoiceNo</th>\n",
       "      <th>StockCode</th>\n",
       "      <th>Description</th>\n",
       "      <th>Quantity</th>\n",
       "      <th>InvoiceDate</th>\n",
       "      <th>UnitPrice</th>\n",
       "      <th>CustomerID</th>\n",
       "      <th>Country</th>\n",
       "      <th>total</th>\n",
       "      <th>cancelled</th>\n",
       "    </tr>\n",
       "  </thead>\n",
       "  <tbody>\n",
       "    <tr>\n",
       "      <th>42557</th>\n",
       "      <td>C540006</td>\n",
       "      <td>21306</td>\n",
       "      <td>SET/4 DAISY MIRROR MAGNETS</td>\n",
       "      <td>-1</td>\n",
       "      <td>2011-01-04 10:48:00</td>\n",
       "      <td>3.4650</td>\n",
       "      <td>14606.0</td>\n",
       "      <td>United Kingdom</td>\n",
       "      <td>-3.4650</td>\n",
       "      <td>True</td>\n",
       "    </tr>\n",
       "    <tr>\n",
       "      <th>42558</th>\n",
       "      <td>C540006</td>\n",
       "      <td>84352</td>\n",
       "      <td>SILVER CHRISTMAS TREE BAUBLE STAND</td>\n",
       "      <td>-1</td>\n",
       "      <td>2011-01-04 10:48:00</td>\n",
       "      <td>27.9675</td>\n",
       "      <td>14606.0</td>\n",
       "      <td>United Kingdom</td>\n",
       "      <td>-27.9675</td>\n",
       "      <td>True</td>\n",
       "    </tr>\n",
       "    <tr>\n",
       "      <th>42559</th>\n",
       "      <td>C540006</td>\n",
       "      <td>22423</td>\n",
       "      <td>REGENCY CAKESTAND 3 TIER</td>\n",
       "      <td>-1</td>\n",
       "      <td>2011-01-04 10:48:00</td>\n",
       "      <td>21.0375</td>\n",
       "      <td>14606.0</td>\n",
       "      <td>United Kingdom</td>\n",
       "      <td>-21.0375</td>\n",
       "      <td>True</td>\n",
       "    </tr>\n",
       "    <tr>\n",
       "      <th>42560</th>\n",
       "      <td>C540007</td>\n",
       "      <td>21055</td>\n",
       "      <td>TOOL BOX SOFT TOY</td>\n",
       "      <td>-6</td>\n",
       "      <td>2011-01-04 11:08:00</td>\n",
       "      <td>14.7675</td>\n",
       "      <td>15379.0</td>\n",
       "      <td>United Kingdom</td>\n",
       "      <td>-88.6050</td>\n",
       "      <td>True</td>\n",
       "    </tr>\n",
       "    <tr>\n",
       "      <th>42561</th>\n",
       "      <td>C540007</td>\n",
       "      <td>22274</td>\n",
       "      <td>FELTCRAFT DOLL EMILY</td>\n",
       "      <td>-6</td>\n",
       "      <td>2011-01-04 11:08:00</td>\n",
       "      <td>4.8675</td>\n",
       "      <td>15379.0</td>\n",
       "      <td>United Kingdom</td>\n",
       "      <td>-29.2050</td>\n",
       "      <td>True</td>\n",
       "    </tr>\n",
       "  </tbody>\n",
       "</table>\n",
       "</div>"
      ],
      "text/plain": [
       "      InvoiceNo StockCode                          Description  Quantity  \\\n",
       "42557   C540006     21306           SET/4 DAISY MIRROR MAGNETS        -1   \n",
       "42558   C540006     84352  SILVER CHRISTMAS TREE BAUBLE STAND         -1   \n",
       "42559   C540006     22423             REGENCY CAKESTAND 3 TIER        -1   \n",
       "42560   C540007     21055                   TOOL BOX SOFT TOY         -6   \n",
       "42561   C540007     22274                 FELTCRAFT DOLL EMILY        -6   \n",
       "\n",
       "              InvoiceDate  UnitPrice  CustomerID         Country    total  \\\n",
       "42557 2011-01-04 10:48:00     3.4650     14606.0  United Kingdom  -3.4650   \n",
       "42558 2011-01-04 10:48:00    27.9675     14606.0  United Kingdom -27.9675   \n",
       "42559 2011-01-04 10:48:00    21.0375     14606.0  United Kingdom -21.0375   \n",
       "42560 2011-01-04 11:08:00    14.7675     15379.0  United Kingdom -88.6050   \n",
       "42561 2011-01-04 11:08:00     4.8675     15379.0  United Kingdom -29.2050   \n",
       "\n",
       "       cancelled  \n",
       "42557       True  \n",
       "42558       True  \n",
       "42559       True  \n",
       "42560       True  \n",
       "42561       True  "
      ]
     },
     "execution_count": 14,
     "metadata": {},
     "output_type": "execute_result"
    }
   ],
   "source": [
    "data_2011[data_2011.cancelled==True].head()"
   ]
  },
  {
   "cell_type": "markdown",
   "metadata": {},
   "source": [
    "- All of the cancelled orders have negative quantities which mean that they cancel out with the corresponding purchase. We'll leave in the cancelled purchases, because if our goal (defined later in the prediction problem) is to predict the total amount purchased by a customer, we'll need to take into account their cancelled orders."
   ]
  },
  {
   "cell_type": "code",
   "execution_count": 15,
   "metadata": {
    "ExecuteTime": {
     "end_time": "2021-07-15T11:31:37.035841Z",
     "start_time": "2021-07-15T11:31:37.009879Z"
    }
   },
   "outputs": [
    {
     "data": {
      "text/plain": [
       "False    0.978172\n",
       "True     0.021828\n",
       "Name: cancelled, dtype: float64"
      ]
     },
     "execution_count": 15,
     "metadata": {},
     "output_type": "execute_result"
    }
   ],
   "source": [
    "data_2011['cancelled'].value_counts(normalize =True)"
   ]
  },
  {
   "cell_type": "markdown",
   "metadata": {},
   "source": [
    "- There are about 2% invoice that were cancelled. "
   ]
  },
  {
   "cell_type": "code",
   "execution_count": 16,
   "metadata": {
    "ExecuteTime": {
     "end_time": "2021-07-15T11:32:14.578010Z",
     "start_time": "2021-07-15T11:32:14.297973Z"
    }
   },
   "outputs": [
    {
     "data": {
      "text/html": [
       "<div>\n",
       "<style scoped>\n",
       "    .dataframe tbody tr th:only-of-type {\n",
       "        vertical-align: middle;\n",
       "    }\n",
       "\n",
       "    .dataframe tbody tr th {\n",
       "        vertical-align: top;\n",
       "    }\n",
       "\n",
       "    .dataframe thead th {\n",
       "        text-align: right;\n",
       "    }\n",
       "</style>\n",
       "<table border=\"1\" class=\"dataframe\">\n",
       "  <thead>\n",
       "    <tr style=\"text-align: right;\">\n",
       "      <th></th>\n",
       "      <th>Quantity</th>\n",
       "      <th>UnitPrice</th>\n",
       "      <th>CustomerID</th>\n",
       "      <th>total</th>\n",
       "    </tr>\n",
       "  </thead>\n",
       "  <tbody>\n",
       "    <tr>\n",
       "      <th>count</th>\n",
       "      <td>375250.000000</td>\n",
       "      <td>375250.000000</td>\n",
       "      <td>375250.000000</td>\n",
       "      <td>375250.000000</td>\n",
       "    </tr>\n",
       "    <tr>\n",
       "      <th>mean</th>\n",
       "      <td>12.252296</td>\n",
       "      <td>5.762031</td>\n",
       "      <td>15265.136168</td>\n",
       "      <td>33.972397</td>\n",
       "    </tr>\n",
       "    <tr>\n",
       "      <th>std</th>\n",
       "      <td>258.180877</td>\n",
       "      <td>119.054102</td>\n",
       "      <td>1710.927381</td>\n",
       "      <td>733.803756</td>\n",
       "    </tr>\n",
       "    <tr>\n",
       "      <th>min</th>\n",
       "      <td>-80995.000000</td>\n",
       "      <td>0.000000</td>\n",
       "      <td>12346.000000</td>\n",
       "      <td>-277974.840000</td>\n",
       "    </tr>\n",
       "    <tr>\n",
       "      <th>25%</th>\n",
       "      <td>2.000000</td>\n",
       "      <td>2.062500</td>\n",
       "      <td>13901.000000</td>\n",
       "      <td>7.012500</td>\n",
       "    </tr>\n",
       "    <tr>\n",
       "      <th>50%</th>\n",
       "      <td>5.000000</td>\n",
       "      <td>3.217500</td>\n",
       "      <td>15108.000000</td>\n",
       "      <td>19.305000</td>\n",
       "    </tr>\n",
       "    <tr>\n",
       "      <th>75%</th>\n",
       "      <td>12.000000</td>\n",
       "      <td>6.187500</td>\n",
       "      <td>16767.000000</td>\n",
       "      <td>32.670000</td>\n",
       "    </tr>\n",
       "    <tr>\n",
       "      <th>max</th>\n",
       "      <td>80995.000000</td>\n",
       "      <td>64300.500000</td>\n",
       "      <td>18287.000000</td>\n",
       "      <td>277974.840000</td>\n",
       "    </tr>\n",
       "  </tbody>\n",
       "</table>\n",
       "</div>"
      ],
      "text/plain": [
       "            Quantity      UnitPrice     CustomerID          total\n",
       "count  375250.000000  375250.000000  375250.000000  375250.000000\n",
       "mean       12.252296       5.762031   15265.136168      33.972397\n",
       "std       258.180877     119.054102    1710.927381     733.803756\n",
       "min    -80995.000000       0.000000   12346.000000 -277974.840000\n",
       "25%         2.000000       2.062500   13901.000000       7.012500\n",
       "50%         5.000000       3.217500   15108.000000      19.305000\n",
       "75%        12.000000       6.187500   16767.000000      32.670000\n",
       "max     80995.000000   64300.500000   18287.000000  277974.840000"
      ]
     },
     "execution_count": 16,
     "metadata": {},
     "output_type": "execute_result"
    }
   ],
   "source": [
    "#summary statitics for the new data\n",
    "data_2011.describe()"
   ]
  },
  {
   "cell_type": "markdown",
   "metadata": {},
   "source": [
    "- We can see that most total purchase prices are less than 50 (this is for a one item). \n",
    "- The negative numbers represent cancelled orders. We can plot the purchase total by country (limited to only positive amounts and less than \\$1000) to see if there are differences between countries."
   ]
  },
  {
   "cell_type": "code",
   "execution_count": 17,
   "metadata": {
    "ExecuteTime": {
     "end_time": "2021-07-15T11:32:37.380372Z",
     "start_time": "2021-07-15T11:32:34.471653Z"
    }
   },
   "outputs": [
    {
     "data": {
      "image/png": "[encoded data removed]",
      "text/plain": [
       "<Figure size 1440x432 with 1 Axes>"
      ]
     },
     "metadata": {
      "needs_background": "light"
     },
     "output_type": "display_data"
    }
   ],
   "source": [
    "plt.figure(figsize = (20, 6))\n",
    "sns.boxplot(x = 'Country', y = 'total', data = data_2011[(data_2011['total'] > 0) & (data_2011['total'] < 1000)]);\n",
    "plt.title(\"Total Purchase Amount by Country\");\n",
    "plt.xticks(rotation = 90);"
   ]
  },
  {
   "cell_type": "code",
   "execution_count": 18,
   "metadata": {
    "ExecuteTime": {
     "end_time": "2021-07-15T11:32:49.611977Z",
     "start_time": "2021-07-15T11:32:48.723224Z"
    }
   },
   "outputs": [
    {
     "data": {
      "image/png": "[encoded data removed]",
      "text/plain": [
       "<Figure size 1440x432 with 1 Axes>"
      ]
     },
     "metadata": {
      "needs_background": "light"
     },
     "output_type": "display_data"
    }
   ],
   "source": [
    "plt.figure(figsize = (20, 6))\n",
    "sns.boxplot(x = 'Country', y = 'Quantity', data = data_2011[(data_2011['total'] > 0) & (data_2011['total'] < 1000)]);\n",
    "plt.title(\"Purchased Quantity by Country\");\n",
    "plt.xticks(rotation = 90);"
   ]
  },
  {
   "cell_type": "markdown",
   "metadata": {},
   "source": [
    "- Both the purchase total and the quantity are heavily skewed. This occurs often in real-world data and means this might be difficult as a regression problem (predict the actual spending amount). \n",
    "- We might want to frame the problem as classification because the large purchase totals could throw off a machine learning algorithm. Our other option would be to remove the outliers, but given that these are probably legitimate, that does not seem like a responsible choice!\n",
    "\n",
    "### Skewness of Data\n",
    "\n",
    "To see the extent of how skewed the data is, we can use an [Empirical Cumulative Distribution Function (ECDF) plot](https://www.itl.nist.gov/div898/software/dataplot/refman1/auxillar/ecdfplot.htm). "
   ]
  },
  {
   "cell_type": "code",
   "execution_count": 19,
   "metadata": {
    "ExecuteTime": {
     "end_time": "2021-07-15T11:33:03.094946Z",
     "start_time": "2021-07-15T11:33:03.078025Z"
    }
   },
   "outputs": [],
   "source": [
    "def ecdf(data_2011):\n",
    "    x = np.sort(data_2011)\n",
    "    y = np.arange(1, len(x) + 1) / len(x)\n",
    "    return x, y"
   ]
  },
  {
   "cell_type": "code",
   "execution_count": 20,
   "metadata": {
    "ExecuteTime": {
     "end_time": "2021-07-15T11:33:06.645609Z",
     "start_time": "2021-07-15T11:33:05.200941Z"
    }
   },
   "outputs": [
    {
     "data": {
      "image/png": "[encoded data removed]",
      "text/plain": [
       "<Figure size 1008x288 with 2 Axes>"
      ]
     },
     "metadata": {
      "needs_background": "light"
     },
     "output_type": "display_data"
    }
   ],
   "source": [
    "plt.figure(figsize = (14, 4))\n",
    "\n",
    "# Total\n",
    "plt.subplot(121)\n",
    "x, y = ecdf(data_2011.loc[data_2011['total'] > 0, 'total'])\n",
    "plt.plot(x, y, marker = '.')\n",
    "plt.xlabel('Total'); plt.ylabel('Percentile'); plt.title('ECDF of Purchase Total');\n",
    "\n",
    "# Quantity\n",
    "plt.subplot(122)\n",
    "x, y = ecdf(data_2011.loc[data_2011['total'] > 0, 'Quantity'])\n",
    "plt.plot(x, y, marker = '.')\n",
    "plt.xlabel('Quantity'); plt.ylabel('Percentile'); plt.title('ECDF of Purchase Quantity');"
   ]
  },
  {
   "cell_type": "markdown",
   "metadata": {},
   "source": [
    "- The majority of total purchases are less than \\$20, but there a number of outliers.\n",
    "- Rather than using a regression problem, we therefore might want to try classifying customers based on their spending per month."
   ]
  },
  {
   "cell_type": "markdown",
   "metadata": {},
   "source": [
    "# Prediction Problem\n",
    "\n",
    "- The goal of machine learning is to predict some quantity (regression) or a label (classification). \n",
    "- **Our data exploration showed that regression might not be the best approach because of the extreme outliers, so instead we can make the problem classification.**\n",
    "\n",
    "- With this dataset, there are an _unlimited number of prediction problems_ because there are no labels (unlike in many machine learning competitions).\n",
    "- Choosing a worthwhile quantity to predict therefore becomes critical. In most real-world situations, we could use a domain expert to frame a problem based on what they know is important in the field, and then it's our objective to make a set of labels and features based on that problem. This is known as prediction engineering.\n",
    "\n",
    "- **We'll frame the problem as predicting whether or not a customer will spend more than 500 dollars in the next month.**\n",
    "- This could be useful to a business because it will let them market more effectively to those customers who are likely to spend more. Moreover, an online retailer could advertise differently to customers based on their predicted class of spending. \n",
    "\n",
    "- **Instead of picking just a single month for predictions, we can use each customer as a label multiple times. In other words, we not only predict whether a given customer will spend more than 500 dollars in May, but we also ask the same question in June, July, and so on.**\n",
    "\n",
    "The thing to note is that for each month, we _can't use data from the future_ to predict the class of spending. Each month we can use information from _any previous month_ which means that our predictions should get more accurate as we advance further in time through the data since we'll be able to use more information. Each label for a customer therefore has a different set of features because there is more or less data available to us depending on the month. Doing this by hand is very tedious and error-prone, but we'll see how Featuretools is able to handle the times associated with each label using cutoff times.\n",
    "\n",
    "\n",
    "\n",
    "\n",
    "## Making Labels\n",
    "\n",
    "The function below takes in a start date and an end date (which we set to 30 days apart) and generates a dataframe of the labels, which depends on how much the customer spent in the period and the threshold. Our threshold will be \\$500 for this prediction problem.\n",
    "\n",
    "For customers who appear in the data prior to the start date but then do have a purchase in between the start and end date, we set their total to 0. If we simply did not include them in the labels, then that would be cheating since we have no way of knowing ahead of time that they will not spend anything in the next month."
   ]
  },
  {
   "cell_type": "code",
   "execution_count": 21,
   "metadata": {
    "ExecuteTime": {
     "end_time": "2021-07-15T11:36:17.324532Z",
     "start_time": "2021-07-15T11:36:17.297607Z"
    }
   },
   "outputs": [
    {
     "data": {
      "text/plain": [
       "Index(['InvoiceNo', 'StockCode', 'Description', 'Quantity', 'InvoiceDate',\n",
       "       'UnitPrice', 'CustomerID', 'Country', 'total', 'cancelled'],\n",
       "      dtype='object')"
      ]
     },
     "execution_count": 21,
     "metadata": {},
     "output_type": "execute_result"
    }
   ],
   "source": [
    "data_2011.columns"
   ]
  },
  {
   "cell_type": "code",
   "execution_count": 22,
   "metadata": {
    "ExecuteTime": {
     "end_time": "2021-07-15T11:36:39.242758Z",
     "start_time": "2021-07-15T11:36:39.233801Z"
    }
   },
   "outputs": [],
   "source": [
    "def make_retail_cutoffs_total(start_date, end_date, threshold = 500):\n",
    "    \n",
    "    # Find customers who exist before start date\n",
    "    customer_pool = data_2011[data_2011['InvoiceDate'] < start_date]['CustomerID'].unique()\n",
    "    tmp = pd.DataFrame({'CustomerID': customer_pool})\n",
    "\n",
    "    # For customers in the customer pool, find their sum between the start and end date\n",
    "    totals = data_2011[data_2011['CustomerID'].isin(customer_pool) & \n",
    "        (data_2011['InvoiceDate'] > start_date) & \n",
    "        (data_2011['InvoiceDate']<end_date)\n",
    "    ].groupby('CustomerID')['total'].sum().reset_index()\n",
    "    \n",
    "    # Merge with all the customer ids to record all customers who existed before start date\n",
    "    totals = totals.merge(tmp, on = 'CustomerID', how = 'right')\n",
    "\n",
    "    # Set the total for any customer who did not have a purchase in the timeframe equal to 0\n",
    "    totals['total'] = totals['total'].fillna(0)\n",
    "    \n",
    "    # Label is based on the threshold\n",
    "    totals['label'] = (totals['total'] > threshold).astype(int)\n",
    "        \n",
    "    # The cutoff time is the start date\n",
    "    totals['cutoff_time'] = pd.to_datetime(start_date)\n",
    "    totals = totals[['CustomerID', 'cutoff_time', 'total', 'label']]\n",
    "    \n",
    "    return totals"
   ]
  },
  {
   "cell_type": "code",
   "execution_count": 23,
   "metadata": {
    "ExecuteTime": {
     "end_time": "2021-07-15T11:36:41.842623Z",
     "start_time": "2021-07-15T11:36:41.299788Z"
    }
   },
   "outputs": [
    {
     "data": {
      "text/html": [
       "<div>\n",
       "<style scoped>\n",
       "    .dataframe tbody tr th:only-of-type {\n",
       "        vertical-align: middle;\n",
       "    }\n",
       "\n",
       "    .dataframe tbody tr th {\n",
       "        vertical-align: top;\n",
       "    }\n",
       "\n",
       "    .dataframe thead th {\n",
       "        text-align: right;\n",
       "    }\n",
       "</style>\n",
       "<table border=\"1\" class=\"dataframe\">\n",
       "  <thead>\n",
       "    <tr style=\"text-align: right;\">\n",
       "      <th></th>\n",
       "      <th>CustomerID</th>\n",
       "      <th>cutoff_time</th>\n",
       "      <th>total</th>\n",
       "      <th>label</th>\n",
       "    </tr>\n",
       "  </thead>\n",
       "  <tbody>\n",
       "    <tr>\n",
       "      <th>0</th>\n",
       "      <td>13313.0</td>\n",
       "      <td>2011-05-01</td>\n",
       "      <td>499.026</td>\n",
       "      <td>0</td>\n",
       "    </tr>\n",
       "    <tr>\n",
       "      <th>1</th>\n",
       "      <td>18097.0</td>\n",
       "      <td>2011-05-01</td>\n",
       "      <td>1318.977</td>\n",
       "      <td>1</td>\n",
       "    </tr>\n",
       "    <tr>\n",
       "      <th>2</th>\n",
       "      <td>16656.0</td>\n",
       "      <td>2011-05-01</td>\n",
       "      <td>1804.176</td>\n",
       "      <td>1</td>\n",
       "    </tr>\n",
       "    <tr>\n",
       "      <th>3</th>\n",
       "      <td>16875.0</td>\n",
       "      <td>2011-05-01</td>\n",
       "      <td>0.000</td>\n",
       "      <td>0</td>\n",
       "    </tr>\n",
       "    <tr>\n",
       "      <th>4</th>\n",
       "      <td>13094.0</td>\n",
       "      <td>2011-05-01</td>\n",
       "      <td>678.942</td>\n",
       "      <td>1</td>\n",
       "    </tr>\n",
       "  </tbody>\n",
       "</table>\n",
       "</div>"
      ],
      "text/plain": [
       "   CustomerID cutoff_time     total  label\n",
       "0     13313.0  2011-05-01   499.026      0\n",
       "1     18097.0  2011-05-01  1318.977      1\n",
       "2     16656.0  2011-05-01  1804.176      1\n",
       "3     16875.0  2011-05-01     0.000      0\n",
       "4     13094.0  2011-05-01   678.942      1"
      ]
     },
     "execution_count": 23,
     "metadata": {},
     "output_type": "execute_result"
    }
   ],
   "source": [
    "may_spending = make_retail_cutoffs_total(pd.datetime(2011, 5, 1), pd.datetime(2011, 6, 1))\n",
    "may_spending.head()"
   ]
  },
  {
   "cell_type": "markdown",
   "metadata": {},
   "source": [
    "- For each customer who appeared in the data before May, we have a label for them for the month of May which is the sum of their spending in May converted to a binary label. When we make features for these labels, we can only use data from _before May_.\n",
    "- The `cutoff_time` represents the point at which any data we use must come before and the `label` is based on our threshold of \\$500. "
   ]
  },
  {
   "cell_type": "code",
   "execution_count": 24,
   "metadata": {
    "ExecuteTime": {
     "end_time": "2021-07-15T11:36:53.031781Z",
     "start_time": "2021-07-15T11:36:52.875488Z"
    }
   },
   "outputs": [
    {
     "data": {
      "image/png": "[encoded data removed]",
      "text/plain": [
       "<Figure size 432x288 with 1 Axes>"
      ]
     },
     "metadata": {
      "needs_background": "light"
     },
     "output_type": "display_data"
    }
   ],
   "source": [
    "may_spending['label'].value_counts().plot.bar();\n",
    "plt.title('Label Distribution for May');"
   ]
  },
  {
   "cell_type": "code",
   "execution_count": 25,
   "metadata": {
    "ExecuteTime": {
     "end_time": "2021-07-15T11:36:55.884206Z",
     "start_time": "2021-07-15T11:36:55.866253Z"
    }
   },
   "outputs": [
    {
     "data": {
      "text/plain": [
       "0    1689\n",
       "1     483\n",
       "Name: label, dtype: int64"
      ]
     },
     "execution_count": 25,
     "metadata": {},
     "output_type": "execute_result"
    }
   ],
   "source": [
    "may_spending['label'].value_counts()"
   ]
  },
  {
   "cell_type": "markdown",
   "metadata": {},
   "source": [
    "- **This is an imbalanced classification problem which means that we probably don't want to use accuracy as our metric.**\n",
    "\n",
    "### Metrics\n",
    "\n",
    "Instead of accuracy, we can measure performance in terms of:\n",
    "\n",
    "1. **Precision**: the percentage of customers predicted to spend more than \\$500 that actually did\n",
    "2. **Recall** : the percentage of customers that actually spent more than \\$500 that were correctly identified\n",
    "3. **F1 score**: the harmonic mean of precision and recall\n",
    "4. **Receiver Operating characteristic Area Under the Curve (ROC AUC)**: a 0 to 1 measure (with 1 being optimal) that measures the performance of a model across a range of thresholds\n",
    "\n",
    "We'll have to establish a baseline for these metrics (which will be a little later) so we know whether machine learning is useful for this task.\n",
    "\n",
    "Next we'll go ahead and make labels for the rest of the year. Keep in mind that this will generate one label for each customer for each month. We're used to thinking of a single label per customer, but since we have the data, we might as well use each customer as a training example as many times as possible (as long as we use valid data each time). A greater number of training observations should increase the predictive power of our model."
   ]
  },
  {
   "cell_type": "code",
   "execution_count": 26,
   "metadata": {
    "ExecuteTime": {
     "end_time": "2021-07-15T11:39:04.797421Z",
     "start_time": "2021-07-15T11:39:04.196587Z"
    }
   },
   "outputs": [],
   "source": [
    "#making labels for each month\n",
    "march_spending = make_retail_cutoffs_total('2011-03-01', '2011-04-01', 500)\n",
    "april_spending = make_retail_cutoffs_total('2011-04-01', '2011-05-01', 500)\n",
    "june_spending = make_retail_cutoffs_total('2011-06-01', '2011-07-01', 500)\n",
    "july_spending = make_retail_cutoffs_total('2011-07-01', '2011-08-01', 500)\n",
    "august_spending = make_retail_cutoffs_total('2011-08-01', '2011-09-01', 500)\n",
    "september_spending = make_retail_cutoffs_total('2011-09-01', '2011-10-01', 500)\n",
    "october_spending = make_retail_cutoffs_total('2011-10-01', '2011-11-01', 500)\n",
    "november_spending = make_retail_cutoffs_total('2011-11-01', '2011-12-01', 500)\n",
    "december_spending = make_retail_cutoffs_total('2011-12-01', '2012-01-01', 500)"
   ]
  },
  {
   "cell_type": "code",
   "execution_count": 27,
   "metadata": {
    "ExecuteTime": {
     "end_time": "2021-07-15T11:39:07.141711Z",
     "start_time": "2021-07-15T11:39:06.568447Z"
    }
   },
   "outputs": [
    {
     "name": "stdout",
     "output_type": "stream",
     "text": [
      "(28133, 4)\n"
     ]
    },
    {
     "data": {
      "text/plain": [
       "0    0.829453\n",
       "1    0.170547\n",
       "Name: label, dtype: float64"
      ]
     },
     "execution_count": 27,
     "metadata": {},
     "output_type": "execute_result"
    }
   ],
   "source": [
    "labels = pd.concat([march_spending, april_spending, may_spending, june_spending, july_spending, august_spending, \n",
    "                    september_spending, october_spending, november_spending, december_spending], axis = 0)\n",
    "#labels.to_csv('../input/labels.csv')\n",
    "print(labels.shape)\n",
    "labels.label.value_counts(normalize=True)"
   ]
  },
  {
   "cell_type": "markdown",
   "metadata": {},
   "source": [
    "- We have roughly 28,000 labels with ~17% of them positive.\n",
    "- The total is very skewed, with several customers recording negative total for some months (they had more cancellations than purchases). By framing this as a classification problem, we don't have to worry about the outlying purchase totals throwing off our model. \n",
    "\n",
    "Just to examine the data, we can plot the total spending distribution by month (with negative totals removed)."
   ]
  },
  {
   "cell_type": "code",
   "execution_count": 28,
   "metadata": {
    "ExecuteTime": {
     "end_time": "2021-07-15T11:39:09.016024Z",
     "start_time": "2021-07-15T11:39:08.600704Z"
    }
   },
   "outputs": [
    {
     "data": {
      "image/png": "[encoded data removed]",
      "text/plain": [
       "<Figure size 864x432 with 1 Axes>"
      ]
     },
     "metadata": {
      "needs_background": "light"
     },
     "output_type": "display_data"
    }
   ],
   "source": [
    "plot_labels = labels.copy()\n",
    "plot_labels['month'] = plot_labels['cutoff_time'].dt.month\n",
    "\n",
    "plt.figure(figsize = (12, 6))\n",
    "sns.boxplot(x = 'month', y = 'total', \n",
    "            data = plot_labels[(plot_labels['total'] > 0) & (plot_labels['total'] < 1000)]);\n",
    "plt.title('Customer Spending Distribution by Month');"
   ]
  },
  {
   "cell_type": "markdown",
   "metadata": {},
   "source": [
    "Let's zoom in to one customer to make sure we understand the labels. "
   ]
  },
  {
   "cell_type": "code",
   "execution_count": 29,
   "metadata": {
    "ExecuteTime": {
     "end_time": "2021-07-15T11:39:31.791350Z",
     "start_time": "2021-07-15T11:39:31.763423Z"
    }
   },
   "outputs": [
    {
     "data": {
      "text/html": [
       "<div>\n",
       "<style scoped>\n",
       "    .dataframe tbody tr th:only-of-type {\n",
       "        vertical-align: middle;\n",
       "    }\n",
       "\n",
       "    .dataframe tbody tr th {\n",
       "        vertical-align: top;\n",
       "    }\n",
       "\n",
       "    .dataframe thead th {\n",
       "        text-align: right;\n",
       "    }\n",
       "</style>\n",
       "<table border=\"1\" class=\"dataframe\">\n",
       "  <thead>\n",
       "    <tr style=\"text-align: right;\">\n",
       "      <th></th>\n",
       "      <th>CustomerID</th>\n",
       "      <th>cutoff_time</th>\n",
       "      <th>total</th>\n",
       "      <th>label</th>\n",
       "    </tr>\n",
       "  </thead>\n",
       "  <tbody>\n",
       "    <tr>\n",
       "      <th>666</th>\n",
       "      <td>12347.0</td>\n",
       "      <td>2011-03-01</td>\n",
       "      <td>0.0000</td>\n",
       "      <td>0</td>\n",
       "    </tr>\n",
       "    <tr>\n",
       "      <th>666</th>\n",
       "      <td>12347.0</td>\n",
       "      <td>2011-04-01</td>\n",
       "      <td>1049.8125</td>\n",
       "      <td>1</td>\n",
       "    </tr>\n",
       "    <tr>\n",
       "      <th>666</th>\n",
       "      <td>12347.0</td>\n",
       "      <td>2011-05-01</td>\n",
       "      <td>0.0000</td>\n",
       "      <td>0</td>\n",
       "    </tr>\n",
       "    <tr>\n",
       "      <th>666</th>\n",
       "      <td>12347.0</td>\n",
       "      <td>2011-06-01</td>\n",
       "      <td>631.1580</td>\n",
       "      <td>1</td>\n",
       "    </tr>\n",
       "    <tr>\n",
       "      <th>666</th>\n",
       "      <td>12347.0</td>\n",
       "      <td>2011-07-01</td>\n",
       "      <td>0.0000</td>\n",
       "      <td>0</td>\n",
       "    </tr>\n",
       "    <tr>\n",
       "      <th>666</th>\n",
       "      <td>12347.0</td>\n",
       "      <td>2011-08-01</td>\n",
       "      <td>965.1015</td>\n",
       "      <td>1</td>\n",
       "    </tr>\n",
       "    <tr>\n",
       "      <th>666</th>\n",
       "      <td>12347.0</td>\n",
       "      <td>2011-09-01</td>\n",
       "      <td>0.0000</td>\n",
       "      <td>0</td>\n",
       "    </tr>\n",
       "    <tr>\n",
       "      <th>666</th>\n",
       "      <td>12347.0</td>\n",
       "      <td>2011-10-01</td>\n",
       "      <td>2135.6280</td>\n",
       "      <td>1</td>\n",
       "    </tr>\n",
       "    <tr>\n",
       "      <th>666</th>\n",
       "      <td>12347.0</td>\n",
       "      <td>2011-11-01</td>\n",
       "      <td>0.0000</td>\n",
       "      <td>0</td>\n",
       "    </tr>\n",
       "    <tr>\n",
       "      <th>666</th>\n",
       "      <td>12347.0</td>\n",
       "      <td>2011-12-01</td>\n",
       "      <td>370.9530</td>\n",
       "      <td>0</td>\n",
       "    </tr>\n",
       "  </tbody>\n",
       "</table>\n",
       "</div>"
      ],
      "text/plain": [
       "     CustomerID cutoff_time      total  label\n",
       "666     12347.0  2011-03-01     0.0000      0\n",
       "666     12347.0  2011-04-01  1049.8125      1\n",
       "666     12347.0  2011-05-01     0.0000      0\n",
       "666     12347.0  2011-06-01   631.1580      1\n",
       "666     12347.0  2011-07-01     0.0000      0\n",
       "666     12347.0  2011-08-01   965.1015      1\n",
       "666     12347.0  2011-09-01     0.0000      0\n",
       "666     12347.0  2011-10-01  2135.6280      1\n",
       "666     12347.0  2011-11-01     0.0000      0\n",
       "666     12347.0  2011-12-01   370.9530      0"
      ]
     },
     "execution_count": 29,
     "metadata": {},
     "output_type": "execute_result"
    }
   ],
   "source": [
    "labels.loc[labels['CustomerID'] == 12347]"
   ]
  },
  {
   "cell_type": "code",
   "execution_count": 30,
   "metadata": {
    "ExecuteTime": {
     "end_time": "2021-07-15T11:39:36.783653Z",
     "start_time": "2021-07-15T11:39:36.173121Z"
    }
   },
   "outputs": [
    {
     "data": {
      "image/png": "[encoded data removed]",
      "text/plain": [
       "<Figure size 432x288 with 1 Axes>"
      ]
     },
     "metadata": {
      "needs_background": "light"
     },
     "output_type": "display_data"
    }
   ],
   "source": [
    "labels.loc[labels['CustomerID'] == 12347].set_index('cutoff_time')['total'].plot(figsize = (6, 4), linewidth = 3)\n",
    "plt.xlabel('Date', size = 16); \n",
    "plt.ylabel('Spending', size = 16); \n",
    "plt.title('Monthly Spending for Customer', size = 20);\n",
    "plt.xticks(size = 16); plt.yticks(size = 16);"
   ]
  },
  {
   "cell_type": "markdown",
   "metadata": {},
   "source": [
    "- One customer, 10 different labels. It seems like it might be difficult to predict this customer's spending given her fluctuating total spending! We'll have to see if Featuretools is up to the task."
   ]
  },
  {
   "cell_type": "markdown",
   "metadata": {},
   "source": [
    "We now have our prediction problem all set. The next step is to start making features we can use in a machine learning model.\n",
    "\n",
    "# Featuretools Implementation\n",
    "\n",
    "- The first step in Featuretools is to create an `EntitySet` which will hold all of our data and the relationships between the multiple tables (which we'll create shortly). Initially we'll add the entire `data` as an `entity` to the set. Since data has a `time_index`, we'll add that and specify the variable type of the product description.\n",
    "\n",
    "- The `time_index` represents the first time the information in that row is known. When we build features, Featuretools will use this `time_index` to filter data based on the cutoff time of the label. We can't use any purchases from after the cutoff time of the label to make features for that label."
   ]
  },
  {
   "cell_type": "code",
   "execution_count": 31,
   "metadata": {
    "ExecuteTime": {
     "end_time": "2021-07-15T11:40:00.902868Z",
     "start_time": "2021-07-15T11:40:00.872151Z"
    }
   },
   "outputs": [
    {
     "data": {
      "text/html": [
       "<div>\n",
       "<style scoped>\n",
       "    .dataframe tbody tr th:only-of-type {\n",
       "        vertical-align: middle;\n",
       "    }\n",
       "\n",
       "    .dataframe tbody tr th {\n",
       "        vertical-align: top;\n",
       "    }\n",
       "\n",
       "    .dataframe thead th {\n",
       "        text-align: right;\n",
       "    }\n",
       "</style>\n",
       "<table border=\"1\" class=\"dataframe\">\n",
       "  <thead>\n",
       "    <tr style=\"text-align: right;\">\n",
       "      <th></th>\n",
       "      <th>InvoiceNo</th>\n",
       "      <th>StockCode</th>\n",
       "      <th>Description</th>\n",
       "      <th>Quantity</th>\n",
       "      <th>InvoiceDate</th>\n",
       "      <th>UnitPrice</th>\n",
       "      <th>CustomerID</th>\n",
       "      <th>Country</th>\n",
       "      <th>total</th>\n",
       "      <th>cancelled</th>\n",
       "    </tr>\n",
       "  </thead>\n",
       "  <tbody>\n",
       "    <tr>\n",
       "      <th>42481</th>\n",
       "      <td>539993</td>\n",
       "      <td>22386</td>\n",
       "      <td>JUMBO BAG PINK POLKADOT</td>\n",
       "      <td>10</td>\n",
       "      <td>2011-01-04 10:00:00</td>\n",
       "      <td>3.2175</td>\n",
       "      <td>13313.0</td>\n",
       "      <td>United Kingdom</td>\n",
       "      <td>32.175</td>\n",
       "      <td>False</td>\n",
       "    </tr>\n",
       "    <tr>\n",
       "      <th>42482</th>\n",
       "      <td>539993</td>\n",
       "      <td>21499</td>\n",
       "      <td>BLUE POLKADOT WRAP</td>\n",
       "      <td>25</td>\n",
       "      <td>2011-01-04 10:00:00</td>\n",
       "      <td>0.6930</td>\n",
       "      <td>13313.0</td>\n",
       "      <td>United Kingdom</td>\n",
       "      <td>17.325</td>\n",
       "      <td>False</td>\n",
       "    </tr>\n",
       "    <tr>\n",
       "      <th>42483</th>\n",
       "      <td>539993</td>\n",
       "      <td>21498</td>\n",
       "      <td>RED RETROSPOT WRAP</td>\n",
       "      <td>25</td>\n",
       "      <td>2011-01-04 10:00:00</td>\n",
       "      <td>0.6930</td>\n",
       "      <td>13313.0</td>\n",
       "      <td>United Kingdom</td>\n",
       "      <td>17.325</td>\n",
       "      <td>False</td>\n",
       "    </tr>\n",
       "    <tr>\n",
       "      <th>42484</th>\n",
       "      <td>539993</td>\n",
       "      <td>22379</td>\n",
       "      <td>RECYCLING BAG RETROSPOT</td>\n",
       "      <td>5</td>\n",
       "      <td>2011-01-04 10:00:00</td>\n",
       "      <td>3.4650</td>\n",
       "      <td>13313.0</td>\n",
       "      <td>United Kingdom</td>\n",
       "      <td>17.325</td>\n",
       "      <td>False</td>\n",
       "    </tr>\n",
       "    <tr>\n",
       "      <th>42485</th>\n",
       "      <td>539993</td>\n",
       "      <td>20718</td>\n",
       "      <td>RED RETROSPOT SHOPPER BAG</td>\n",
       "      <td>10</td>\n",
       "      <td>2011-01-04 10:00:00</td>\n",
       "      <td>2.0625</td>\n",
       "      <td>13313.0</td>\n",
       "      <td>United Kingdom</td>\n",
       "      <td>20.625</td>\n",
       "      <td>False</td>\n",
       "    </tr>\n",
       "  </tbody>\n",
       "</table>\n",
       "</div>"
      ],
      "text/plain": [
       "      InvoiceNo StockCode                Description  Quantity  \\\n",
       "42481    539993     22386    JUMBO BAG PINK POLKADOT        10   \n",
       "42482    539993     21499         BLUE POLKADOT WRAP        25   \n",
       "42483    539993     21498        RED RETROSPOT WRAP         25   \n",
       "42484    539993     22379   RECYCLING BAG RETROSPOT          5   \n",
       "42485    539993     20718  RED RETROSPOT SHOPPER BAG        10   \n",
       "\n",
       "              InvoiceDate  UnitPrice  CustomerID         Country   total  \\\n",
       "42481 2011-01-04 10:00:00     3.2175     13313.0  United Kingdom  32.175   \n",
       "42482 2011-01-04 10:00:00     0.6930     13313.0  United Kingdom  17.325   \n",
       "42483 2011-01-04 10:00:00     0.6930     13313.0  United Kingdom  17.325   \n",
       "42484 2011-01-04 10:00:00     3.4650     13313.0  United Kingdom  17.325   \n",
       "42485 2011-01-04 10:00:00     2.0625     13313.0  United Kingdom  20.625   \n",
       "\n",
       "       cancelled  \n",
       "42481      False  \n",
       "42482      False  \n",
       "42483      False  \n",
       "42484      False  \n",
       "42485      False  "
      ]
     },
     "execution_count": 31,
     "metadata": {},
     "output_type": "execute_result"
    }
   ],
   "source": [
    "data_2011.head()"
   ]
  },
  {
   "cell_type": "code",
   "execution_count": 32,
   "metadata": {
    "ExecuteTime": {
     "end_time": "2021-07-15T11:40:06.233510Z",
     "start_time": "2021-07-15T11:40:05.094300Z"
    }
   },
   "outputs": [
    {
     "data": {
      "text/plain": [
       "Entity: purchases\n",
       "  Variables:\n",
       "    purchases_index (dtype: index)\n",
       "    InvoiceNo (dtype: categorical)\n",
       "    StockCode (dtype: categorical)\n",
       "    Quantity (dtype: numeric)\n",
       "    InvoiceDate (dtype: datetime_time_index)\n",
       "    UnitPrice (dtype: numeric)\n",
       "    CustomerID (dtype: numeric)\n",
       "    Country (dtype: categorical)\n",
       "    total (dtype: numeric)\n",
       "    cancelled (dtype: boolean)\n",
       "    Description (dtype: text)\n",
       "  Shape:\n",
       "    (Rows: 375250, Columns: 11)"
      ]
     },
     "execution_count": 32,
     "metadata": {},
     "output_type": "execute_result"
    }
   ],
   "source": [
    "es = ft.EntitySet(id=\"Online Retail Logs\")\n",
    "\n",
    "# Add the entire data table as an entity\n",
    "es.entity_from_dataframe(\"purchases\",\n",
    "                         dataframe=data_2011,\n",
    "                         index=\"purchases_index\",\n",
    "                         time_index = 'InvoiceDate',\n",
    "                         variable_types = {'Description': ft.variable_types.Text})\n",
    "\n",
    "es['purchases']"
   ]
  },
  {
   "cell_type": "markdown",
   "metadata": {},
   "source": [
    "### Normalizing Entities\n",
    "\n",
    "In order to create new tables out of the original table, we can normalize this `entity`. This creates new tables by creating a unique row for every variable that we pass in, such as the customer or the product.\n",
    "\n",
    "The code below creates a new entity for the `products` where each row contains one product and the columns describe the product. "
   ]
  },
  {
   "cell_type": "code",
   "execution_count": 33,
   "metadata": {
    "ExecuteTime": {
     "end_time": "2021-07-15T11:40:14.051764Z",
     "start_time": "2021-07-15T11:40:13.803279Z"
    }
   },
   "outputs": [
    {
     "data": {
      "text/html": [
       "<div>\n",
       "<style scoped>\n",
       "    .dataframe tbody tr th:only-of-type {\n",
       "        vertical-align: middle;\n",
       "    }\n",
       "\n",
       "    .dataframe tbody tr th {\n",
       "        vertical-align: top;\n",
       "    }\n",
       "\n",
       "    .dataframe thead th {\n",
       "        text-align: right;\n",
       "    }\n",
       "</style>\n",
       "<table border=\"1\" class=\"dataframe\">\n",
       "  <thead>\n",
       "    <tr style=\"text-align: right;\">\n",
       "      <th></th>\n",
       "      <th>StockCode</th>\n",
       "      <th>Description</th>\n",
       "      <th>first_purchases_time</th>\n",
       "    </tr>\n",
       "  </thead>\n",
       "  <tbody>\n",
       "    <tr>\n",
       "      <th>22386</th>\n",
       "      <td>22386</td>\n",
       "      <td>JUMBO BAG PINK POLKADOT</td>\n",
       "      <td>2011-01-04 10:00:00</td>\n",
       "    </tr>\n",
       "    <tr>\n",
       "      <th>21499</th>\n",
       "      <td>21499</td>\n",
       "      <td>BLUE POLKADOT WRAP</td>\n",
       "      <td>2011-01-04 10:00:00</td>\n",
       "    </tr>\n",
       "    <tr>\n",
       "      <th>21498</th>\n",
       "      <td>21498</td>\n",
       "      <td>RED RETROSPOT WRAP</td>\n",
       "      <td>2011-01-04 10:00:00</td>\n",
       "    </tr>\n",
       "    <tr>\n",
       "      <th>22379</th>\n",
       "      <td>22379</td>\n",
       "      <td>RECYCLING BAG RETROSPOT</td>\n",
       "      <td>2011-01-04 10:00:00</td>\n",
       "    </tr>\n",
       "    <tr>\n",
       "      <th>20718</th>\n",
       "      <td>20718</td>\n",
       "      <td>RED RETROSPOT SHOPPER BAG</td>\n",
       "      <td>2011-01-04 10:00:00</td>\n",
       "    </tr>\n",
       "  </tbody>\n",
       "</table>\n",
       "</div>"
      ],
      "text/plain": [
       "      StockCode                Description first_purchases_time\n",
       "22386     22386    JUMBO BAG PINK POLKADOT  2011-01-04 10:00:00\n",
       "21499     21499         BLUE POLKADOT WRAP  2011-01-04 10:00:00\n",
       "21498     21498        RED RETROSPOT WRAP   2011-01-04 10:00:00\n",
       "22379     22379   RECYCLING BAG RETROSPOT   2011-01-04 10:00:00\n",
       "20718     20718  RED RETROSPOT SHOPPER BAG  2011-01-04 10:00:00"
      ]
     },
     "execution_count": 33,
     "metadata": {},
     "output_type": "execute_result"
    }
   ],
   "source": [
    "# create a new \"products\" entity\n",
    "es.normalize_entity(new_entity_id=\"products\",\n",
    "                    base_entity_id=\"purchases\",\n",
    "                    index=\"StockCode\",\n",
    "                    additional_variables=[\"Description\"])\n",
    "\n",
    "es['products'].df.head()"
   ]
  },
  {
   "cell_type": "markdown",
   "metadata": {},
   "source": [
    "- The `first_purchases_time` is automatically created because the `purchases` table has a time index. This represents the first time the product appears in the purchase data. Again, Featuretools will filter data from this table for each label so that we only build valid features. \n",
    "\n",
    "- We can use this table to create new features; the products table is a parent of the `purchases` table with the linking variable `product_id`. For each product in `products`, there can be multiple purchases of that product in `purchases`. \n",
    "\n",
    "### Additional Tables\n",
    "\n",
    "We'll repeat the process to create tables for both the `customers` and the `orders`. `normalize_entity` automatically creates the relationships and time index so we don't have to do that ourselves. If we want to include any other additional variables in the table, we can pass those in. These variables must be unique to the object that we are normalizing for. As an example, each order comes from one country, so we can include that as additional variables when creating the `orders` table. However, the description is not unique to an order, so that should not be a variable that appears in the orders table."
   ]
  },
  {
   "cell_type": "code",
   "execution_count": 34,
   "metadata": {
    "ExecuteTime": {
     "end_time": "2021-07-15T11:40:53.095886Z",
     "start_time": "2021-07-15T11:40:53.083924Z"
    }
   },
   "outputs": [
    {
     "data": {
      "text/plain": [
       "Entity: purchases\n",
       "  Variables:\n",
       "    purchases_index (dtype: index)\n",
       "    InvoiceNo (dtype: categorical)\n",
       "    StockCode (dtype: id)\n",
       "    Quantity (dtype: numeric)\n",
       "    InvoiceDate (dtype: datetime_time_index)\n",
       "    UnitPrice (dtype: numeric)\n",
       "    CustomerID (dtype: numeric)\n",
       "    Country (dtype: categorical)\n",
       "    total (dtype: numeric)\n",
       "    cancelled (dtype: boolean)\n",
       "  Shape:\n",
       "    (Rows: 375250, Columns: 10)"
      ]
     },
     "execution_count": 34,
     "metadata": {},
     "output_type": "execute_result"
    }
   ],
   "source": [
    "es['purchases']"
   ]
  },
  {
   "cell_type": "code",
   "execution_count": 35,
   "metadata": {
    "ExecuteTime": {
     "end_time": "2021-07-15T11:40:58.372739Z",
     "start_time": "2021-07-15T11:40:58.120071Z"
    }
   },
   "outputs": [
    {
     "data": {
      "text/plain": [
       "Entityset: Online Retail Logs\n",
       "  Entities:\n",
       "    purchases [Rows: 375250, Columns: 8]\n",
       "    products [Rows: 3612, Columns: 3]\n",
       "    customers [Rows: 4244, Columns: 2]\n",
       "    orders [Rows: 20482, Columns: 4]\n",
       "  Relationships:\n",
       "    purchases.StockCode -> products.StockCode\n",
       "    purchases.CustomerID -> customers.CustomerID\n",
       "    purchases.InvoiceNo -> orders.InvoiceNo"
      ]
     },
     "execution_count": 35,
     "metadata": {},
     "output_type": "execute_result"
    }
   ],
   "source": [
    "# create a new \"customers\" entity based on the orders entity\n",
    "es.normalize_entity(new_entity_id=\"customers\",\n",
    "                    base_entity_id=\"purchases\",\n",
    "                    index=\"CustomerID\")\n",
    "\n",
    "# create a new \"orders\" entity\n",
    "es.normalize_entity(new_entity_id=\"orders\",\n",
    "                    base_entity_id=\"purchases\",\n",
    "                    index=\"InvoiceNo\",\n",
    "                    additional_variables=[\"Country\", 'cancelled'])\n",
    "\n",
    "es"
   ]
  },
  {
   "cell_type": "markdown",
   "metadata": {},
   "source": [
    "# Deep Feature Synthesis \n",
    "\n",
    "Now that our `EntitySet` is defined with the proper relationships between tables, we can perform [deep feature synthesis](http://www.jmaxkanter.com/static/papers/DSAA_DSM_2015.pdf) to generate 100s or 1000s of features. We can theoretically make features for any entity, but since our objective is to classify customer spending, we'll make features for each customer for each month. \n",
    "\n",
    "## Using cutoff times\n",
    "\n",
    "To ensure the features are valid for the customer and the month, we'll pass in the labels dataframe that has the cutoff time for each customer for each month. Featuretools will make one row for each customer for each month, with the features for each month derived only from data prior to the cutoff time. This is an _extremely useful method_ because it means we don't have to worry about using invalid data to make features. For example, if we were doing this by hand, it would be very easy to create features that use information from the future to make features for the labels, which is not allowed. One issue when we have the entire dataset is that _we have access to all the data_ and must prevent ourselves from using it when building training features since _when our model is deployed, it won't have access to data from the future_ and we want our models to do well in deployment.\n",
    "\n",
    "The requirements of the cutoff time dataframe are that the first column contains the ids corresponding to the index of the target entity, and the second column must have the cutoff times. Featuretools then takes care of the rest, for each month making features only using valid data. \n",
    "\n",
    "The following call will generate features for each customer, resulting in a `feature_matrix` where each row consists of one customer for one month corresponding to a label and each column is one feature. "
   ]
  },
  {
   "cell_type": "code",
   "execution_count": 36,
   "metadata": {
    "ExecuteTime": {
     "end_time": "2021-07-15T11:43:31.254876Z",
     "start_time": "2021-07-15T11:43:31.237921Z"
    }
   },
   "outputs": [
    {
     "data": {
      "text/html": [
       "<div>\n",
       "<style scoped>\n",
       "    .dataframe tbody tr th:only-of-type {\n",
       "        vertical-align: middle;\n",
       "    }\n",
       "\n",
       "    .dataframe tbody tr th {\n",
       "        vertical-align: top;\n",
       "    }\n",
       "\n",
       "    .dataframe thead th {\n",
       "        text-align: right;\n",
       "    }\n",
       "</style>\n",
       "<table border=\"1\" class=\"dataframe\">\n",
       "  <thead>\n",
       "    <tr style=\"text-align: right;\">\n",
       "      <th></th>\n",
       "      <th>CustomerID</th>\n",
       "      <th>cutoff_time</th>\n",
       "      <th>total</th>\n",
       "      <th>label</th>\n",
       "    </tr>\n",
       "  </thead>\n",
       "  <tbody>\n",
       "    <tr>\n",
       "      <th>0</th>\n",
       "      <td>13313.0</td>\n",
       "      <td>2011-03-01</td>\n",
       "      <td>0.000</td>\n",
       "      <td>0</td>\n",
       "    </tr>\n",
       "    <tr>\n",
       "      <th>1</th>\n",
       "      <td>18097.0</td>\n",
       "      <td>2011-03-01</td>\n",
       "      <td>0.000</td>\n",
       "      <td>0</td>\n",
       "    </tr>\n",
       "    <tr>\n",
       "      <th>2</th>\n",
       "      <td>16656.0</td>\n",
       "      <td>2011-03-01</td>\n",
       "      <td>589.248</td>\n",
       "      <td>1</td>\n",
       "    </tr>\n",
       "    <tr>\n",
       "      <th>3</th>\n",
       "      <td>16875.0</td>\n",
       "      <td>2011-03-01</td>\n",
       "      <td>0.000</td>\n",
       "      <td>0</td>\n",
       "    </tr>\n",
       "    <tr>\n",
       "      <th>4</th>\n",
       "      <td>13094.0</td>\n",
       "      <td>2011-03-01</td>\n",
       "      <td>115.434</td>\n",
       "      <td>0</td>\n",
       "    </tr>\n",
       "  </tbody>\n",
       "</table>\n",
       "</div>"
      ],
      "text/plain": [
       "   CustomerID cutoff_time    total  label\n",
       "0     13313.0  2011-03-01    0.000      0\n",
       "1     18097.0  2011-03-01    0.000      0\n",
       "2     16656.0  2011-03-01  589.248      1\n",
       "3     16875.0  2011-03-01    0.000      0\n",
       "4     13094.0  2011-03-01  115.434      0"
      ]
     },
     "execution_count": 36,
     "metadata": {},
     "output_type": "execute_result"
    }
   ],
   "source": [
    "labels.head()"
   ]
  },
  {
   "cell_type": "code",
   "execution_count": 37,
   "metadata": {
    "ExecuteTime": {
     "end_time": "2021-07-15T11:43:32.555184Z",
     "start_time": "2021-07-15T11:43:32.394023Z"
    }
   },
   "outputs": [
    {
     "name": "stdout",
     "output_type": "stream",
     "text": [
      "<class 'pandas.core.frame.DataFrame'>\n",
      "Int64Index: 28133 entries, 0 to 4196\n",
      "Data columns (total 4 columns):\n",
      " #   Column       Non-Null Count  Dtype         \n",
      "---  ------       --------------  -----         \n",
      " 0   CustomerID   28133 non-null  float64       \n",
      " 1   cutoff_time  28133 non-null  datetime64[ns]\n",
      " 2   total        28133 non-null  float64       \n",
      " 3   label        28133 non-null  int32         \n",
      "dtypes: datetime64[ns](1), float64(2), int32(1)\n",
      "memory usage: 989.1 KB\n"
     ]
    }
   ],
   "source": [
    "labels.info()"
   ]
  },
  {
   "cell_type": "code",
   "execution_count": 38,
   "metadata": {
    "ExecuteTime": {
     "end_time": "2021-07-15T11:43:35.081923Z",
     "start_time": "2021-07-15T11:43:35.068960Z"
    }
   },
   "outputs": [],
   "source": [
    "labels.rename(columns = {'cutoff_time':'time'}, inplace = True)"
   ]
  },
  {
   "cell_type": "code",
   "execution_count": 39,
   "metadata": {
    "ExecuteTime": {
     "end_time": "2021-07-15T11:43:36.225359Z",
     "start_time": "2021-07-15T11:43:36.208444Z"
    }
   },
   "outputs": [
    {
     "data": {
      "text/plain": [
       "Entityset: Online Retail Logs\n",
       "  Entities:\n",
       "    purchases [Rows: 375250, Columns: 8]\n",
       "    products [Rows: 3612, Columns: 3]\n",
       "    customers [Rows: 4244, Columns: 2]\n",
       "    orders [Rows: 20482, Columns: 4]\n",
       "  Relationships:\n",
       "    purchases.StockCode -> products.StockCode\n",
       "    purchases.CustomerID -> customers.CustomerID\n",
       "    purchases.InvoiceNo -> orders.InvoiceNo"
      ]
     },
     "execution_count": 39,
     "metadata": {},
     "output_type": "execute_result"
    }
   ],
   "source": [
    "es"
   ]
  },
  {
   "cell_type": "code",
   "execution_count": 40,
   "metadata": {
    "ExecuteTime": {
     "end_time": "2021-07-15T11:53:49.574557Z",
     "start_time": "2021-07-15T11:53:49.271325Z"
    }
   },
   "outputs": [
    {
     "name": "stdout",
     "output_type": "stream",
     "text": [
      "Built 27 features\n",
      "EntitySet scattered to 8 workers in 6 seconds                                                                          \n",
      "Elapsed: 00:12 | Progress: 100%|███████████████████████████████████████████████████████████████████████████████████████\n"
     ]
    },
    {
     "data": {
      "text/html": [
       "<div>\n",
       "<style scoped>\n",
       "    .dataframe tbody tr th:only-of-type {\n",
       "        vertical-align: middle;\n",
       "    }\n",
       "\n",
       "    .dataframe tbody tr th {\n",
       "        vertical-align: top;\n",
       "    }\n",
       "\n",
       "    .dataframe thead th {\n",
       "        text-align: right;\n",
       "    }\n",
       "</style>\n",
       "<table border=\"1\" class=\"dataframe\">\n",
       "  <thead>\n",
       "    <tr style=\"text-align: right;\">\n",
       "      <th></th>\n",
       "      <th></th>\n",
       "      <th>COUNT(purchases)</th>\n",
       "      <th>MAX(purchases.Quantity)</th>\n",
       "      <th>MAX(purchases.UnitPrice)</th>\n",
       "      <th>MAX(purchases.total)</th>\n",
       "      <th>MEAN(purchases.Quantity)</th>\n",
       "      <th>MEAN(purchases.UnitPrice)</th>\n",
       "      <th>MEAN(purchases.total)</th>\n",
       "      <th>MIN(purchases.Quantity)</th>\n",
       "      <th>MIN(purchases.UnitPrice)</th>\n",
       "      <th>MIN(purchases.total)</th>\n",
       "      <th>...</th>\n",
       "      <th>STD(purchases.total)</th>\n",
       "      <th>SUM(purchases.Quantity)</th>\n",
       "      <th>SUM(purchases.UnitPrice)</th>\n",
       "      <th>SUM(purchases.total)</th>\n",
       "      <th>DAY(first_purchases_time)</th>\n",
       "      <th>MONTH(first_purchases_time)</th>\n",
       "      <th>WEEKDAY(first_purchases_time)</th>\n",
       "      <th>YEAR(first_purchases_time)</th>\n",
       "      <th>total</th>\n",
       "      <th>label</th>\n",
       "    </tr>\n",
       "    <tr>\n",
       "      <th>CustomerID</th>\n",
       "      <th>time</th>\n",
       "      <th></th>\n",
       "      <th></th>\n",
       "      <th></th>\n",
       "      <th></th>\n",
       "      <th></th>\n",
       "      <th></th>\n",
       "      <th></th>\n",
       "      <th></th>\n",
       "      <th></th>\n",
       "      <th></th>\n",
       "      <th></th>\n",
       "      <th></th>\n",
       "      <th></th>\n",
       "      <th></th>\n",
       "      <th></th>\n",
       "      <th></th>\n",
       "      <th></th>\n",
       "      <th></th>\n",
       "      <th></th>\n",
       "      <th></th>\n",
       "      <th></th>\n",
       "    </tr>\n",
       "  </thead>\n",
       "  <tbody>\n",
       "    <tr>\n",
       "      <th>13313.0</th>\n",
       "      <th>2011-03-01</th>\n",
       "      <td>17</td>\n",
       "      <td>25</td>\n",
       "      <td>7.0125</td>\n",
       "      <td>58.410</td>\n",
       "      <td>10.058824</td>\n",
       "      <td>3.692118</td>\n",
       "      <td>29.826176</td>\n",
       "      <td>4</td>\n",
       "      <td>0.6930</td>\n",
       "      <td>17.3250</td>\n",
       "      <td>...</td>\n",
       "      <td>11.998083</td>\n",
       "      <td>171</td>\n",
       "      <td>62.7660</td>\n",
       "      <td>507.0450</td>\n",
       "      <td>4</td>\n",
       "      <td>1</td>\n",
       "      <td>1</td>\n",
       "      <td>2011</td>\n",
       "      <td>0.000</td>\n",
       "      <td>0</td>\n",
       "    </tr>\n",
       "    <tr>\n",
       "      <th>18097.0</th>\n",
       "      <th>2011-03-01</th>\n",
       "      <td>9</td>\n",
       "      <td>60</td>\n",
       "      <td>16.4175</td>\n",
       "      <td>143.550</td>\n",
       "      <td>30.000000</td>\n",
       "      <td>4.882167</td>\n",
       "      <td>87.021000</td>\n",
       "      <td>6</td>\n",
       "      <td>0.6930</td>\n",
       "      <td>33.2640</td>\n",
       "      <td>...</td>\n",
       "      <td>41.359375</td>\n",
       "      <td>270</td>\n",
       "      <td>43.9395</td>\n",
       "      <td>783.1890</td>\n",
       "      <td>4</td>\n",
       "      <td>1</td>\n",
       "      <td>1</td>\n",
       "      <td>2011</td>\n",
       "      <td>0.000</td>\n",
       "      <td>0</td>\n",
       "    </tr>\n",
       "    <tr>\n",
       "      <th>16656.0</th>\n",
       "      <th>2011-03-01</th>\n",
       "      <td>14</td>\n",
       "      <td>216</td>\n",
       "      <td>14.0250</td>\n",
       "      <td>498.960</td>\n",
       "      <td>56.285714</td>\n",
       "      <td>5.079643</td>\n",
       "      <td>109.184036</td>\n",
       "      <td>-12</td>\n",
       "      <td>0.6930</td>\n",
       "      <td>-32.6700</td>\n",
       "      <td>...</td>\n",
       "      <td>144.361356</td>\n",
       "      <td>788</td>\n",
       "      <td>71.1150</td>\n",
       "      <td>1528.5765</td>\n",
       "      <td>4</td>\n",
       "      <td>1</td>\n",
       "      <td>1</td>\n",
       "      <td>2011</td>\n",
       "      <td>589.248</td>\n",
       "      <td>1</td>\n",
       "    </tr>\n",
       "    <tr>\n",
       "      <th>16875.0</th>\n",
       "      <th>2011-03-01</th>\n",
       "      <td>52</td>\n",
       "      <td>24</td>\n",
       "      <td>27.9675</td>\n",
       "      <td>65.670</td>\n",
       "      <td>7.250000</td>\n",
       "      <td>7.433250</td>\n",
       "      <td>24.218192</td>\n",
       "      <td>-8</td>\n",
       "      <td>0.4785</td>\n",
       "      <td>-16.4175</td>\n",
       "      <td>...</td>\n",
       "      <td>17.671397</td>\n",
       "      <td>377</td>\n",
       "      <td>386.5290</td>\n",
       "      <td>1259.3460</td>\n",
       "      <td>4</td>\n",
       "      <td>1</td>\n",
       "      <td>1</td>\n",
       "      <td>2011</td>\n",
       "      <td>0.000</td>\n",
       "      <td>0</td>\n",
       "    </tr>\n",
       "    <tr>\n",
       "      <th>13094.0</th>\n",
       "      <th>2011-03-01</th>\n",
       "      <td>3</td>\n",
       "      <td>72</td>\n",
       "      <td>1.7490</td>\n",
       "      <td>125.928</td>\n",
       "      <td>72.000000</td>\n",
       "      <td>1.749000</td>\n",
       "      <td>125.928000</td>\n",
       "      <td>72</td>\n",
       "      <td>1.7490</td>\n",
       "      <td>125.9280</td>\n",
       "      <td>...</td>\n",
       "      <td>0.000000</td>\n",
       "      <td>216</td>\n",
       "      <td>5.2470</td>\n",
       "      <td>377.7840</td>\n",
       "      <td>4</td>\n",
       "      <td>1</td>\n",
       "      <td>1</td>\n",
       "      <td>2011</td>\n",
       "      <td>115.434</td>\n",
       "      <td>0</td>\n",
       "    </tr>\n",
       "  </tbody>\n",
       "</table>\n",
       "<p>5 rows × 29 columns</p>\n",
       "</div>"
      ],
      "text/plain": [
       "                       COUNT(purchases)  MAX(purchases.Quantity)  \\\n",
       "CustomerID time                                                    \n",
       "13313.0    2011-03-01                17                       25   \n",
       "18097.0    2011-03-01                 9                       60   \n",
       "16656.0    2011-03-01                14                      216   \n",
       "16875.0    2011-03-01                52                       24   \n",
       "13094.0    2011-03-01                 3                       72   \n",
       "\n",
       "                       MAX(purchases.UnitPrice)  MAX(purchases.total)  \\\n",
       "CustomerID time                                                         \n",
       "13313.0    2011-03-01                    7.0125                58.410   \n",
       "18097.0    2011-03-01                   16.4175               143.550   \n",
       "16656.0    2011-03-01                   14.0250               498.960   \n",
       "16875.0    2011-03-01                   27.9675                65.670   \n",
       "13094.0    2011-03-01                    1.7490               125.928   \n",
       "\n",
       "                       MEAN(purchases.Quantity)  MEAN(purchases.UnitPrice)  \\\n",
       "CustomerID time                                                              \n",
       "13313.0    2011-03-01                 10.058824                   3.692118   \n",
       "18097.0    2011-03-01                 30.000000                   4.882167   \n",
       "16656.0    2011-03-01                 56.285714                   5.079643   \n",
       "16875.0    2011-03-01                  7.250000                   7.433250   \n",
       "13094.0    2011-03-01                 72.000000                   1.749000   \n",
       "\n",
       "                       MEAN(purchases.total)  MIN(purchases.Quantity)  \\\n",
       "CustomerID time                                                         \n",
       "13313.0    2011-03-01              29.826176                        4   \n",
       "18097.0    2011-03-01              87.021000                        6   \n",
       "16656.0    2011-03-01             109.184036                      -12   \n",
       "16875.0    2011-03-01              24.218192                       -8   \n",
       "13094.0    2011-03-01             125.928000                       72   \n",
       "\n",
       "                       MIN(purchases.UnitPrice)  MIN(purchases.total)  ...  \\\n",
       "CustomerID time                                                        ...   \n",
       "13313.0    2011-03-01                    0.6930               17.3250  ...   \n",
       "18097.0    2011-03-01                    0.6930               33.2640  ...   \n",
       "16656.0    2011-03-01                    0.6930              -32.6700  ...   \n",
       "16875.0    2011-03-01                    0.4785              -16.4175  ...   \n",
       "13094.0    2011-03-01                    1.7490              125.9280  ...   \n",
       "\n",
       "                      STD(purchases.total) SUM(purchases.Quantity)  \\\n",
       "CustomerID time                                                      \n",
       "13313.0    2011-03-01            11.998083                     171   \n",
       "18097.0    2011-03-01            41.359375                     270   \n",
       "16656.0    2011-03-01           144.361356                     788   \n",
       "16875.0    2011-03-01            17.671397                     377   \n",
       "13094.0    2011-03-01             0.000000                     216   \n",
       "\n",
       "                       SUM(purchases.UnitPrice)  SUM(purchases.total)  \\\n",
       "CustomerID time                                                         \n",
       "13313.0    2011-03-01                   62.7660              507.0450   \n",
       "18097.0    2011-03-01                   43.9395              783.1890   \n",
       "16656.0    2011-03-01                   71.1150             1528.5765   \n",
       "16875.0    2011-03-01                  386.5290             1259.3460   \n",
       "13094.0    2011-03-01                    5.2470              377.7840   \n",
       "\n",
       "                       DAY(first_purchases_time)  MONTH(first_purchases_time)  \\\n",
       "CustomerID time                                                                 \n",
       "13313.0    2011-03-01                          4                            1   \n",
       "18097.0    2011-03-01                          4                            1   \n",
       "16656.0    2011-03-01                          4                            1   \n",
       "16875.0    2011-03-01                          4                            1   \n",
       "13094.0    2011-03-01                          4                            1   \n",
       "\n",
       "                       WEEKDAY(first_purchases_time)  \\\n",
       "CustomerID time                                        \n",
       "13313.0    2011-03-01                              1   \n",
       "18097.0    2011-03-01                              1   \n",
       "16656.0    2011-03-01                              1   \n",
       "16875.0    2011-03-01                              1   \n",
       "13094.0    2011-03-01                              1   \n",
       "\n",
       "                       YEAR(first_purchases_time)    total  label  \n",
       "CustomerID time                                                    \n",
       "13313.0    2011-03-01                        2011    0.000      0  \n",
       "18097.0    2011-03-01                        2011    0.000      0  \n",
       "16656.0    2011-03-01                        2011  589.248      1  \n",
       "16875.0    2011-03-01                        2011    0.000      0  \n",
       "13094.0    2011-03-01                        2011  115.434      0  \n",
       "\n",
       "[5 rows x 29 columns]"
      ]
     },
     "execution_count": 40,
     "metadata": {},
     "output_type": "execute_result"
    }
   ],
   "source": [
    "feature_matrix, feature_names = ft.dfs(entityset=es, target_entity='customers',\n",
    "                                       cutoff_time = labels, verbose = 2,\n",
    "                                       cutoff_time_in_index = True,\n",
    "                                       chunk_size = len(labels), n_jobs = -1,\n",
    "                                       max_depth = 1)\n",
    "\n",
    "feature_matrix.head()"
   ]
  },
  {
   "cell_type": "markdown",
   "metadata": {},
   "source": [
    "We will want to drop the `total` and `label` columns before training because these were passed through from the `cutoff_time` data (this happens a little later). We also can remove the `MODE` of the StockCode and InvoiceNo. These should not be used for creating features since they are index variables."
   ]
  },
  {
   "cell_type": "code",
   "execution_count": 41,
   "metadata": {},
   "outputs": [
    {
     "data": {
      "text/plain": [
       "(28133, 27)"
      ]
     },
     "execution_count": 41,
     "metadata": {},
     "output_type": "execute_result"
    }
   ],
   "source": [
    "feature_matrix = feature_matrix.drop(columns = ['MODE(purchases.StockCode)', 'MODE(purchases.InvoiceNo)'])\n",
    "feature_matrix.shape"
   ]
  },
  {
   "cell_type": "markdown",
   "metadata": {},
   "source": [
    "Initially we did not generate very many features because we limited the `max_depth` to 1. This means that only 1 aggregation will be stacked at a time. Let's take a look at some of the features. First, we'll zoom back in to a single one of the customers."
   ]
  },
  {
   "cell_type": "code",
   "execution_count": 42,
   "metadata": {},
   "outputs": [
    {
     "data": {
      "text/html": [
       "<div>\n",
       "<style scoped>\n",
       "    .dataframe tbody tr th:only-of-type {\n",
       "        vertical-align: middle;\n",
       "    }\n",
       "\n",
       "    .dataframe tbody tr th {\n",
       "        vertical-align: top;\n",
       "    }\n",
       "\n",
       "    .dataframe thead th {\n",
       "        text-align: right;\n",
       "    }\n",
       "</style>\n",
       "<table border=\"1\" class=\"dataframe\">\n",
       "  <thead>\n",
       "    <tr style=\"text-align: right;\">\n",
       "      <th></th>\n",
       "      <th>DAY(first_purchases_time)</th>\n",
       "      <th>MAX(purchases.UnitPrice)</th>\n",
       "      <th>SKEW(purchases.Quantity)</th>\n",
       "      <th>STD(purchases.Quantity)</th>\n",
       "      <th>MIN(purchases.total)</th>\n",
       "      <th>YEAR(first_purchases_time)</th>\n",
       "      <th>SKEW(purchases.total)</th>\n",
       "      <th>SUM(purchases.total)</th>\n",
       "      <th>MIN(purchases.UnitPrice)</th>\n",
       "      <th>MONTH(first_purchases_time)</th>\n",
       "    </tr>\n",
       "    <tr>\n",
       "      <th>time</th>\n",
       "      <th></th>\n",
       "      <th></th>\n",
       "      <th></th>\n",
       "      <th></th>\n",
       "      <th></th>\n",
       "      <th></th>\n",
       "      <th></th>\n",
       "      <th></th>\n",
       "      <th></th>\n",
       "      <th></th>\n",
       "    </tr>\n",
       "  </thead>\n",
       "  <tbody>\n",
       "    <tr>\n",
       "      <th>2011-03-01</th>\n",
       "      <td>26</td>\n",
       "      <td>21.0375</td>\n",
       "      <td>0.912823</td>\n",
       "      <td>7.510584</td>\n",
       "      <td>8.316</td>\n",
       "      <td>2011</td>\n",
       "      <td>1.643541</td>\n",
       "      <td>784.3935</td>\n",
       "      <td>0.6930</td>\n",
       "      <td>1</td>\n",
       "    </tr>\n",
       "    <tr>\n",
       "      <th>2011-04-01</th>\n",
       "      <td>26</td>\n",
       "      <td>21.0375</td>\n",
       "      <td>0.912823</td>\n",
       "      <td>7.510584</td>\n",
       "      <td>8.316</td>\n",
       "      <td>2011</td>\n",
       "      <td>1.643541</td>\n",
       "      <td>784.3935</td>\n",
       "      <td>0.6930</td>\n",
       "      <td>1</td>\n",
       "    </tr>\n",
       "    <tr>\n",
       "      <th>2011-05-01</th>\n",
       "      <td>26</td>\n",
       "      <td>21.0375</td>\n",
       "      <td>6.687266</td>\n",
       "      <td>32.387922</td>\n",
       "      <td>8.316</td>\n",
       "      <td>2011</td>\n",
       "      <td>6.796760</td>\n",
       "      <td>1834.2060</td>\n",
       "      <td>0.4125</td>\n",
       "      <td>1</td>\n",
       "    </tr>\n",
       "    <tr>\n",
       "      <th>2011-06-01</th>\n",
       "      <td>26</td>\n",
       "      <td>21.0375</td>\n",
       "      <td>6.687266</td>\n",
       "      <td>32.387922</td>\n",
       "      <td>8.316</td>\n",
       "      <td>2011</td>\n",
       "      <td>6.796760</td>\n",
       "      <td>1834.2060</td>\n",
       "      <td>0.4125</td>\n",
       "      <td>1</td>\n",
       "    </tr>\n",
       "    <tr>\n",
       "      <th>2011-07-01</th>\n",
       "      <td>26</td>\n",
       "      <td>21.0375</td>\n",
       "      <td>7.504132</td>\n",
       "      <td>28.279725</td>\n",
       "      <td>8.316</td>\n",
       "      <td>2011</td>\n",
       "      <td>7.450736</td>\n",
       "      <td>2465.3640</td>\n",
       "      <td>0.4125</td>\n",
       "      <td>1</td>\n",
       "    </tr>\n",
       "    <tr>\n",
       "      <th>2011-08-01</th>\n",
       "      <td>26</td>\n",
       "      <td>21.0375</td>\n",
       "      <td>7.504132</td>\n",
       "      <td>28.279725</td>\n",
       "      <td>8.316</td>\n",
       "      <td>2011</td>\n",
       "      <td>7.450736</td>\n",
       "      <td>2465.3640</td>\n",
       "      <td>0.4125</td>\n",
       "      <td>1</td>\n",
       "    </tr>\n",
       "    <tr>\n",
       "      <th>2011-09-01</th>\n",
       "      <td>26</td>\n",
       "      <td>21.0375</td>\n",
       "      <td>8.177428</td>\n",
       "      <td>25.078283</td>\n",
       "      <td>8.316</td>\n",
       "      <td>2011</td>\n",
       "      <td>6.472880</td>\n",
       "      <td>3430.4655</td>\n",
       "      <td>0.4125</td>\n",
       "      <td>1</td>\n",
       "    </tr>\n",
       "    <tr>\n",
       "      <th>2011-10-01</th>\n",
       "      <td>26</td>\n",
       "      <td>21.0375</td>\n",
       "      <td>8.177428</td>\n",
       "      <td>25.078283</td>\n",
       "      <td>8.316</td>\n",
       "      <td>2011</td>\n",
       "      <td>6.472880</td>\n",
       "      <td>3430.4655</td>\n",
       "      <td>0.4125</td>\n",
       "      <td>1</td>\n",
       "    </tr>\n",
       "    <tr>\n",
       "      <th>2011-11-01</th>\n",
       "      <td>26</td>\n",
       "      <td>21.0375</td>\n",
       "      <td>9.083077</td>\n",
       "      <td>21.064101</td>\n",
       "      <td>8.316</td>\n",
       "      <td>2011</td>\n",
       "      <td>5.781226</td>\n",
       "      <td>5566.0935</td>\n",
       "      <td>0.4125</td>\n",
       "      <td>1</td>\n",
       "    </tr>\n",
       "    <tr>\n",
       "      <th>2011-12-01</th>\n",
       "      <td>26</td>\n",
       "      <td>21.0375</td>\n",
       "      <td>9.083077</td>\n",
       "      <td>21.064101</td>\n",
       "      <td>8.316</td>\n",
       "      <td>2011</td>\n",
       "      <td>5.781226</td>\n",
       "      <td>5566.0935</td>\n",
       "      <td>0.4125</td>\n",
       "      <td>1</td>\n",
       "    </tr>\n",
       "  </tbody>\n",
       "</table>\n",
       "</div>"
      ],
      "text/plain": [
       "            DAY(first_purchases_time)  MAX(purchases.UnitPrice)  \\\n",
       "time                                                              \n",
       "2011-03-01                         26                   21.0375   \n",
       "2011-04-01                         26                   21.0375   \n",
       "2011-05-01                         26                   21.0375   \n",
       "2011-06-01                         26                   21.0375   \n",
       "2011-07-01                         26                   21.0375   \n",
       "2011-08-01                         26                   21.0375   \n",
       "2011-09-01                         26                   21.0375   \n",
       "2011-10-01                         26                   21.0375   \n",
       "2011-11-01                         26                   21.0375   \n",
       "2011-12-01                         26                   21.0375   \n",
       "\n",
       "            SKEW(purchases.Quantity)  STD(purchases.Quantity)  \\\n",
       "time                                                            \n",
       "2011-03-01                  0.912823                 7.510584   \n",
       "2011-04-01                  0.912823                 7.510584   \n",
       "2011-05-01                  6.687266                32.387922   \n",
       "2011-06-01                  6.687266                32.387922   \n",
       "2011-07-01                  7.504132                28.279725   \n",
       "2011-08-01                  7.504132                28.279725   \n",
       "2011-09-01                  8.177428                25.078283   \n",
       "2011-10-01                  8.177428                25.078283   \n",
       "2011-11-01                  9.083077                21.064101   \n",
       "2011-12-01                  9.083077                21.064101   \n",
       "\n",
       "            MIN(purchases.total)  YEAR(first_purchases_time)  \\\n",
       "time                                                           \n",
       "2011-03-01                 8.316                        2011   \n",
       "2011-04-01                 8.316                        2011   \n",
       "2011-05-01                 8.316                        2011   \n",
       "2011-06-01                 8.316                        2011   \n",
       "2011-07-01                 8.316                        2011   \n",
       "2011-08-01                 8.316                        2011   \n",
       "2011-09-01                 8.316                        2011   \n",
       "2011-10-01                 8.316                        2011   \n",
       "2011-11-01                 8.316                        2011   \n",
       "2011-12-01                 8.316                        2011   \n",
       "\n",
       "            SKEW(purchases.total)  SUM(purchases.total)  \\\n",
       "time                                                      \n",
       "2011-03-01               1.643541              784.3935   \n",
       "2011-04-01               1.643541              784.3935   \n",
       "2011-05-01               6.796760             1834.2060   \n",
       "2011-06-01               6.796760             1834.2060   \n",
       "2011-07-01               7.450736             2465.3640   \n",
       "2011-08-01               7.450736             2465.3640   \n",
       "2011-09-01               6.472880             3430.4655   \n",
       "2011-10-01               6.472880             3430.4655   \n",
       "2011-11-01               5.781226             5566.0935   \n",
       "2011-12-01               5.781226             5566.0935   \n",
       "\n",
       "            MIN(purchases.UnitPrice)  MONTH(first_purchases_time)  \n",
       "time                                                               \n",
       "2011-03-01                    0.6930                            1  \n",
       "2011-04-01                    0.6930                            1  \n",
       "2011-05-01                    0.4125                            1  \n",
       "2011-06-01                    0.4125                            1  \n",
       "2011-07-01                    0.4125                            1  \n",
       "2011-08-01                    0.4125                            1  \n",
       "2011-09-01                    0.4125                            1  \n",
       "2011-10-01                    0.4125                            1  \n",
       "2011-11-01                    0.4125                            1  \n",
       "2011-12-01                    0.4125                            1  "
      ]
     },
     "execution_count": 42,
     "metadata": {},
     "output_type": "execute_result"
    }
   ],
   "source": [
    "feature_matrix.loc[12347, :].sample(10, axis = 1)"
   ]
  },
  {
   "cell_type": "markdown",
   "metadata": {},
   "source": [
    "- We see that as we get deeper into the year, the numbers change for this customer because we are using more information to build the features. We would expect our predictions to get more accurate with time because we are incorporating more information. \n",
    "- However, it's also possible that customer behavior changes over time and therefore using all the previous data might not actually be useful."
   ]
  },
  {
   "cell_type": "code",
   "execution_count": 43,
   "metadata": {},
   "outputs": [
    {
     "data": {
      "image/png": "[encoded data removed]",
      "text/plain": [
       "<Figure size 432x288 with 1 Axes>"
      ]
     },
     "metadata": {
      "needs_background": "light"
     },
     "output_type": "display_data"
    }
   ],
   "source": [
    "# feature_matrix.reset_index(inplace = True)\n",
    "\n",
    "feature_matrix.groupby('time')['COUNT(purchases)'].mean().plot();\n",
    "plt.title('Average Monthly Count of Purchases');\n",
    "plt.ylabel('Purchases Per Customer');"
   ]
  },
  {
   "cell_type": "markdown",
   "metadata": {},
   "source": [
    "This shows that as we progress through time, we have more purchases per customer to use for prediction."
   ]
  },
  {
   "cell_type": "code",
   "execution_count": 44,
   "metadata": {},
   "outputs": [
    {
     "data": {
      "image/png": "[encoded data removed]",
      "text/plain": [
       "<Figure size 432x288 with 1 Axes>"
      ]
     },
     "metadata": {
      "needs_background": "light"
     },
     "output_type": "display_data"
    }
   ],
   "source": [
    "feature_matrix.groupby('time')['SUM(purchases.Quantity)'].mean().plot();\n",
    "plt.title('Average Monthly Sum of Purchased Products');\n",
    "plt.ylabel('Total Purchased Products Per Customer');"
   ]
  },
  {
   "cell_type": "markdown",
   "metadata": {},
   "source": [
    "Naturally, as we include more information, our forecasts should improve in accuracy. Therefore, if we are predicting purchase in November, we would expect better performance than predicting purchases in June."
   ]
  },
  {
   "cell_type": "markdown",
   "metadata": {},
   "source": [
    "## Correlations\n",
    "\n",
    "As a first approximation of useful features, we can see if there are any significant correlations between the features and the `total`. We'll one-hot encode the categorical features first."
   ]
  },
  {
   "cell_type": "code",
   "execution_count": 45,
   "metadata": {},
   "outputs": [
    {
     "data": {
      "text/plain": [
       "(28133, 29)"
      ]
     },
     "execution_count": 45,
     "metadata": {},
     "output_type": "execute_result"
    }
   ],
   "source": [
    "feature_matrix = pd.get_dummies(feature_matrix).reset_index()\n",
    "feature_matrix.shape"
   ]
  },
  {
   "cell_type": "code",
   "execution_count": 46,
   "metadata": {},
   "outputs": [
    {
     "data": {
      "text/plain": [
       "MONTH(first_purchases_time)     -0.083372\n",
       "DAY(first_purchases_time)       -0.050790\n",
       "MIN(purchases.total)            -0.026663\n",
       "WEEKDAY(first_purchases_time)   -0.009223\n",
       "MIN(purchases.UnitPrice)        -0.006407\n",
       "Name: total, dtype: float64"
      ]
     },
     "execution_count": 46,
     "metadata": {},
     "output_type": "execute_result"
    }
   ],
   "source": [
    "corrs = feature_matrix.corr().sort_values('total')\n",
    "corrs['total'].head()"
   ]
  },
  {
   "cell_type": "code",
   "execution_count": 47,
   "metadata": {},
   "outputs": [
    {
     "data": {
      "text/plain": [
       "label                              0.343661\n",
       "NUM_UNIQUE(purchases.InvoiceNo)    0.351811\n",
       "SUM(purchases.Quantity)            0.566804\n",
       "SUM(purchases.total)               0.630549\n",
       "total                              1.000000\n",
       "Name: total, dtype: float64"
      ]
     },
     "execution_count": 47,
     "metadata": {},
     "output_type": "execute_result"
    }
   ],
   "source": [
    "corrs['total'].dropna().tail()"
   ]
  },
  {
   "cell_type": "markdown",
   "metadata": {},
   "source": [
    "A few of the features have a moderate positive correlation with the `total` (ignoring the `label` for now). The number and total of the purchases is clearly related to the total spending! Keep in mind that the features are built using only data from before the cutoff time. "
   ]
  },
  {
   "cell_type": "code",
   "execution_count": 48,
   "metadata": {},
   "outputs": [
    {
     "data": {
      "image/png": "[encoded data removed]",
      "text/plain": [
       "<Figure size 906.375x288 with 1 Axes>"
      ]
     },
     "metadata": {
      "needs_background": "light"
     },
     "output_type": "display_data"
    }
   ],
   "source": [
    "g = sns.FacetGrid(feature_matrix[(feature_matrix['SUM(purchases.total)'] > 0) & (feature_matrix['SUM(purchases.total)'] < 1000)],\n",
    "                  hue = 'label', size = 4, aspect = 3)\n",
    "g.map(sns.kdeplot, 'SUM(purchases.total)')\n",
    "g.add_legend();\n",
    "plt.title('Distribution of Purchases Total by Label');"
   ]
  },
  {
   "cell_type": "markdown",
   "metadata": {},
   "source": [
    "The sum of purchase totals prior to the month of the label is clearly higher for those customers who then went on to spend more than \\$500 in the next month. We would expect this to be a useful feature in modeling. "
   ]
  },
  {
   "cell_type": "code",
   "execution_count": 49,
   "metadata": {},
   "outputs": [
    {
     "data": {
      "image/png": "[encoded data removed]",
      "text/plain": [
       "<Figure size 432x288 with 1 Axes>"
      ]
     },
     "metadata": {
      "needs_background": "light"
     },
     "output_type": "display_data"
    }
   ],
   "source": [
    "feature_matrix['month'] = feature_matrix['time'].dt.month\n",
    "sns.violinplot(x = 'month', y = 'NUM_UNIQUE(purchases.StockCode)', hue = 'label', figsize = (24, 6),\n",
    "               data = feature_matrix[(feature_matrix['SUM(purchases.total)'] > 0) & (feature_matrix['SUM(purchases.total)'] < 1000)])\n",
    "plt.title('Number of Unique Purchases by Label');"
   ]
  },
  {
   "cell_type": "markdown",
   "metadata": {},
   "source": [
    "## Preliminary modeling\n",
    "\n",
    "We can now directly use this feature matrix for training and making predictions with a machine learning model. We'll predict one month at a time, each time training on all the previous observations. The testing features for each testing label are built using all data prior to the month of the testing label.\n",
    "\n",
    "### Model\n",
    "\n",
    "For a model, we will use the `RandomForestClassifier` as implemented in Scikit-Learn. We'll keep most of the hyperparameters at the default values but increase the number of trees to 1000. This is not an optimized model but should allow us to tell whether or not our solution is better than a baseline estimate."
   ]
  },
  {
   "cell_type": "code",
   "execution_count": 50,
   "metadata": {},
   "outputs": [],
   "source": [
    "model = RandomForestClassifier(n_estimators = 1000, \n",
    "                               random_state = 50,\n",
    "                               n_jobs = -1)"
   ]
  },
  {
   "cell_type": "code",
   "execution_count": 51,
   "metadata": {},
   "outputs": [],
   "source": [
    "from sklearn.pipeline import Pipeline"
   ]
  },
  {
   "cell_type": "markdown",
   "metadata": {},
   "source": [
    "The function below trains and tests for a single month. We pass in the month, and the training data is subsetted to label - observation pairs from before the month, while the testing data comes from the month. This ensures that when making predictions for one month, we're only using data from before than month."
   ]
  },
  {
   "cell_type": "code",
   "execution_count": 52,
   "metadata": {},
   "outputs": [],
   "source": [
    "def predict_month(month, feature_matrix, return_probs = False):\n",
    "    \"\"\"Train and test a machine learning model using a feature set \n",
    "    for one month. Testing labels are from the month.\"\"\"\n",
    "\n",
    "    feature_matrix['month'] = feature_matrix['time'].dt.month\n",
    "    \n",
    "    # Subset labels\n",
    "    test_labels = feature_matrix.loc[feature_matrix['month'] == month, 'label']\n",
    "    train_labels = feature_matrix.loc[feature_matrix['month'] < month, 'label']\n",
    "    \n",
    "    # Features\n",
    "    X_train = feature_matrix[feature_matrix['time'].dt.month < month].drop(columns = ['CustomerID', 'time',\n",
    "                                                                                     'month', 'label', 'total'])\n",
    "    X_test = feature_matrix[feature_matrix['time'].dt.month == month].drop(columns = ['CustomerID', 'time',\n",
    "                                                                                     'month', 'label', 'total'])\n",
    "    feature_names = list(X_train.columns)\n",
    "    \n",
    "    # Impute and scale features\n",
    "    pipeline = Pipeline([('imputer', SimpleImputer(strategy = 'median')), \n",
    "                      ('scaler', MinMaxScaler())])\n",
    "\n",
    "    # Fit and transform training data\n",
    "    X_train = pipeline.fit_transform(X_train)\n",
    "    X_test = pipeline.transform(X_test)\n",
    "    \n",
    "    # Labels\n",
    "    y_train = np.array(train_labels).reshape((-1, ))\n",
    "    y_test = np.array(test_labels).reshape((-1, ))\n",
    "    \n",
    "    print('Training on {} observations.'.format(len(X_train)))\n",
    "    print('Testing on {} observations.\\n'.format(len(X_test)))\n",
    "    \n",
    "    # Train \n",
    "    model.fit(X_train, y_train)\n",
    "    \n",
    "    # Make predictions\n",
    "    predictions = model.predict(X_test)\n",
    "    probs = model.predict_proba(X_test)[:, 1]\n",
    "    \n",
    "    # Calculate metrics\n",
    "    p = precision_score(y_test, predictions)\n",
    "    r = recall_score(y_test, predictions)\n",
    "    f = f1_score(y_test, predictions)\n",
    "    auc = roc_auc_score(y_test, probs)\n",
    "    \n",
    "    print(f'Precision: {round(p, 5)}')\n",
    "    print(f'Recall: {round(r, 5)}')\n",
    "    print(f'F1 Score: {round(f, 5)}')\n",
    "    print(f'ROC AUC: {round(auc, 5)}')\n",
    "    \n",
    "    # Feature importances\n",
    "    fi = pd.DataFrame({'feature': feature_names, 'importance': model.feature_importances_})\n",
    "    \n",
    "    if return_probs:\n",
    "        return fi, probs\n",
    "    \n",
    "    return fi\n",
    "    "
   ]
  },
  {
   "cell_type": "code",
   "execution_count": 53,
   "metadata": {},
   "outputs": [
    {
     "name": "stdout",
     "output_type": "stream",
     "text": [
      "Training on 5266 observations.\n",
      "Testing on 2489 observations.\n",
      "\n",
      "Precision: 0.55519\n",
      "Recall: 0.40141\n",
      "F1 Score: 0.46594\n",
      "ROC AUC: 0.7488\n"
     ]
    }
   ],
   "source": [
    "june_fi = predict_month(6, feature_matrix)"
   ]
  },
  {
   "cell_type": "markdown",
   "metadata": {},
   "source": [
    "We can plot the feature importances using a utility function. These should allow us to see what the model considers useful information for predicting spending."
   ]
  },
  {
   "cell_type": "code",
   "execution_count": 54,
   "metadata": {},
   "outputs": [
    {
     "data": {
      "image/png": "[encoded data removed]",
      "text/plain": [
       "<Figure size 864x576 with 1 Axes>"
      ]
     },
     "metadata": {},
     "output_type": "display_data"
    }
   ],
   "source": [
    "from utils import plot_feature_importances\n",
    "\n",
    "norm_june_fi = plot_feature_importances(june_fi)"
   ]
  },
  {
   "cell_type": "markdown",
   "metadata": {},
   "source": [
    "- The most important features are those that are most correlated with the total. \n",
    "- This should give us confidence that our machine learning model is learning the important relationships and that the Featuretools features are useful for the problem.\n",
    "- If we want to predict future spending next month, the best indicators are the customer's total spending to date and the total number of their purchases to date."
   ]
  },
  {
   "cell_type": "markdown",
   "metadata": {},
   "source": [
    "# Comparison to Baseline\n",
    "\n",
    "We calculated metrics for our model, but it's possible that these numbers are no better than we might have done by guessing. One question we have to ask is how do those numbers compare to an informed baseline? If our model can't beat a simple baseline, then we might want to question our approach or even if machine learning is applicable to the problem. \n",
    "\n",
    "For an informed baseline, let's use the amount the customer spent in the past month to predict how much they will spend in the next month. We can try this for July 2011. For the probability (used for the ROC AUC), we'll divide the previous month's total by the threhold (so a spending of 0 corresponds to 0 probability) and then clip any values to 1."
   ]
  },
  {
   "cell_type": "code",
   "execution_count": 55,
   "metadata": {},
   "outputs": [
    {
     "data": {
      "text/html": [
       "<div>\n",
       "<style scoped>\n",
       "    .dataframe tbody tr th:only-of-type {\n",
       "        vertical-align: middle;\n",
       "    }\n",
       "\n",
       "    .dataframe tbody tr th {\n",
       "        vertical-align: top;\n",
       "    }\n",
       "\n",
       "    .dataframe thead th {\n",
       "        text-align: right;\n",
       "    }\n",
       "</style>\n",
       "<table border=\"1\" class=\"dataframe\">\n",
       "  <thead>\n",
       "    <tr style=\"text-align: right;\">\n",
       "      <th></th>\n",
       "      <th>CustomerID</th>\n",
       "      <th>time</th>\n",
       "      <th>total</th>\n",
       "      <th>label</th>\n",
       "    </tr>\n",
       "  </thead>\n",
       "  <tbody>\n",
       "    <tr>\n",
       "      <th>0</th>\n",
       "      <td>13313.0</td>\n",
       "      <td>2011-03-01</td>\n",
       "      <td>0.000</td>\n",
       "      <td>0</td>\n",
       "    </tr>\n",
       "    <tr>\n",
       "      <th>1</th>\n",
       "      <td>18097.0</td>\n",
       "      <td>2011-03-01</td>\n",
       "      <td>0.000</td>\n",
       "      <td>0</td>\n",
       "    </tr>\n",
       "    <tr>\n",
       "      <th>2</th>\n",
       "      <td>16656.0</td>\n",
       "      <td>2011-03-01</td>\n",
       "      <td>589.248</td>\n",
       "      <td>1</td>\n",
       "    </tr>\n",
       "    <tr>\n",
       "      <th>3</th>\n",
       "      <td>16875.0</td>\n",
       "      <td>2011-03-01</td>\n",
       "      <td>0.000</td>\n",
       "      <td>0</td>\n",
       "    </tr>\n",
       "    <tr>\n",
       "      <th>4</th>\n",
       "      <td>13094.0</td>\n",
       "      <td>2011-03-01</td>\n",
       "      <td>115.434</td>\n",
       "      <td>0</td>\n",
       "    </tr>\n",
       "  </tbody>\n",
       "</table>\n",
       "</div>"
      ],
      "text/plain": [
       "   CustomerID       time    total  label\n",
       "0     13313.0 2011-03-01    0.000      0\n",
       "1     18097.0 2011-03-01    0.000      0\n",
       "2     16656.0 2011-03-01  589.248      1\n",
       "3     16875.0 2011-03-01    0.000      0\n",
       "4     13094.0 2011-03-01  115.434      0"
      ]
     },
     "execution_count": 55,
     "metadata": {},
     "output_type": "execute_result"
    }
   ],
   "source": [
    "labels.head()"
   ]
  },
  {
   "cell_type": "code",
   "execution_count": 56,
   "metadata": {},
   "outputs": [
    {
     "data": {
      "text/html": [
       "<div>\n",
       "<style scoped>\n",
       "    .dataframe tbody tr th:only-of-type {\n",
       "        vertical-align: middle;\n",
       "    }\n",
       "\n",
       "    .dataframe tbody tr th {\n",
       "        vertical-align: top;\n",
       "    }\n",
       "\n",
       "    .dataframe thead th {\n",
       "        text-align: right;\n",
       "    }\n",
       "</style>\n",
       "<table border=\"1\" class=\"dataframe\">\n",
       "  <thead>\n",
       "    <tr style=\"text-align: right;\">\n",
       "      <th></th>\n",
       "      <th>CustomerID</th>\n",
       "      <th>time</th>\n",
       "      <th>july_total</th>\n",
       "      <th>label</th>\n",
       "      <th>month</th>\n",
       "      <th>june_total</th>\n",
       "      <th>predicted_label</th>\n",
       "      <th>probability</th>\n",
       "    </tr>\n",
       "  </thead>\n",
       "  <tbody>\n",
       "    <tr>\n",
       "      <th>1647</th>\n",
       "      <td>14711.0</td>\n",
       "      <td>2011-07-01</td>\n",
       "      <td>0.0000</td>\n",
       "      <td>0</td>\n",
       "      <td>7</td>\n",
       "      <td>778.8165</td>\n",
       "      <td>1</td>\n",
       "      <td>1.00000</td>\n",
       "    </tr>\n",
       "    <tr>\n",
       "      <th>627</th>\n",
       "      <td>14849.0</td>\n",
       "      <td>2011-07-01</td>\n",
       "      <td>1342.9185</td>\n",
       "      <td>1</td>\n",
       "      <td>7</td>\n",
       "      <td>1624.8210</td>\n",
       "      <td>1</td>\n",
       "      <td>1.00000</td>\n",
       "    </tr>\n",
       "    <tr>\n",
       "      <th>2434</th>\n",
       "      <td>13213.0</td>\n",
       "      <td>2011-07-01</td>\n",
       "      <td>0.0000</td>\n",
       "      <td>0</td>\n",
       "      <td>7</td>\n",
       "      <td>221.2650</td>\n",
       "      <td>0</td>\n",
       "      <td>0.44253</td>\n",
       "    </tr>\n",
       "    <tr>\n",
       "      <th>2236</th>\n",
       "      <td>15258.0</td>\n",
       "      <td>2011-07-01</td>\n",
       "      <td>0.0000</td>\n",
       "      <td>0</td>\n",
       "      <td>7</td>\n",
       "      <td>507.3750</td>\n",
       "      <td>1</td>\n",
       "      <td>1.00000</td>\n",
       "    </tr>\n",
       "    <tr>\n",
       "      <th>1852</th>\n",
       "      <td>14747.0</td>\n",
       "      <td>2011-07-01</td>\n",
       "      <td>0.0000</td>\n",
       "      <td>0</td>\n",
       "      <td>7</td>\n",
       "      <td>0.0000</td>\n",
       "      <td>0</td>\n",
       "      <td>0.00000</td>\n",
       "    </tr>\n",
       "    <tr>\n",
       "      <th>1547</th>\n",
       "      <td>13946.0</td>\n",
       "      <td>2011-07-01</td>\n",
       "      <td>0.0000</td>\n",
       "      <td>0</td>\n",
       "      <td>7</td>\n",
       "      <td>0.0000</td>\n",
       "      <td>0</td>\n",
       "      <td>0.00000</td>\n",
       "    </tr>\n",
       "    <tr>\n",
       "      <th>241</th>\n",
       "      <td>13004.0</td>\n",
       "      <td>2011-07-01</td>\n",
       "      <td>508.9260</td>\n",
       "      <td>1</td>\n",
       "      <td>7</td>\n",
       "      <td>1121.6040</td>\n",
       "      <td>1</td>\n",
       "      <td>1.00000</td>\n",
       "    </tr>\n",
       "    <tr>\n",
       "      <th>437</th>\n",
       "      <td>13982.0</td>\n",
       "      <td>2011-07-01</td>\n",
       "      <td>0.0000</td>\n",
       "      <td>0</td>\n",
       "      <td>7</td>\n",
       "      <td>520.8060</td>\n",
       "      <td>1</td>\n",
       "      <td>1.00000</td>\n",
       "    </tr>\n",
       "    <tr>\n",
       "      <th>2043</th>\n",
       "      <td>14323.0</td>\n",
       "      <td>2011-07-01</td>\n",
       "      <td>0.0000</td>\n",
       "      <td>0</td>\n",
       "      <td>7</td>\n",
       "      <td>-29.2050</td>\n",
       "      <td>0</td>\n",
       "      <td>-0.05841</td>\n",
       "    </tr>\n",
       "    <tr>\n",
       "      <th>1972</th>\n",
       "      <td>17827.0</td>\n",
       "      <td>2011-07-01</td>\n",
       "      <td>0.0000</td>\n",
       "      <td>0</td>\n",
       "      <td>7</td>\n",
       "      <td>0.0000</td>\n",
       "      <td>0</td>\n",
       "      <td>0.00000</td>\n",
       "    </tr>\n",
       "  </tbody>\n",
       "</table>\n",
       "</div>"
      ],
      "text/plain": [
       "      CustomerID       time  july_total  label  month  june_total  \\\n",
       "1647     14711.0 2011-07-01      0.0000      0      7    778.8165   \n",
       "627      14849.0 2011-07-01   1342.9185      1      7   1624.8210   \n",
       "2434     13213.0 2011-07-01      0.0000      0      7    221.2650   \n",
       "2236     15258.0 2011-07-01      0.0000      0      7    507.3750   \n",
       "1852     14747.0 2011-07-01      0.0000      0      7      0.0000   \n",
       "1547     13946.0 2011-07-01      0.0000      0      7      0.0000   \n",
       "241      13004.0 2011-07-01    508.9260      1      7   1121.6040   \n",
       "437      13982.0 2011-07-01      0.0000      0      7    520.8060   \n",
       "2043     14323.0 2011-07-01      0.0000      0      7    -29.2050   \n",
       "1972     17827.0 2011-07-01      0.0000      0      7      0.0000   \n",
       "\n",
       "      predicted_label  probability  \n",
       "1647                1      1.00000  \n",
       "627                 1      1.00000  \n",
       "2434                0      0.44253  \n",
       "2236                1      1.00000  \n",
       "1852                0      0.00000  \n",
       "1547                0      0.00000  \n",
       "241                 1      1.00000  \n",
       "437                 1      1.00000  \n",
       "2043                0     -0.05841  \n",
       "1972                0      0.00000  "
      ]
     },
     "execution_count": 56,
     "metadata": {},
     "output_type": "execute_result"
    }
   ],
   "source": [
    "labels['month'] = labels['time'].dt.month\n",
    "july_labels = labels[labels['month'] == 7]\n",
    "june_labels = labels[labels['month'] == 6]\n",
    "\n",
    "july_labels = july_labels.rename(columns = {'total': 'july_total'})\n",
    "june_labels = june_labels.rename(columns = {'total': 'june_total'})\n",
    "\n",
    "# Merge the current month with the previous\n",
    "july_labels = july_labels.merge(june_labels[['CustomerID', 'june_total']], on = 'CustomerID', how = 'left')\n",
    "july_labels['june_total'] = july_labels['june_total'].fillna(0)\n",
    "july_labels['predicted_label'] = (july_labels['june_total'] > 500).astype(int)\n",
    "\n",
    "july_labels['probability'] = july_labels['june_total'] / 500\n",
    "    \n",
    "# Set probabilities greater than 1 equal to 1\n",
    "july_labels.loc[july_labels['probability'] > 1, 'probability'] = 1\n",
    "    \n",
    "july_labels.sample(10, random_state=50)"
   ]
  },
  {
   "cell_type": "markdown",
   "metadata": {},
   "source": [
    "To test whether this is reasonable, we can find the correlation between the previous months total and the current months total."
   ]
  },
  {
   "cell_type": "code",
   "execution_count": 57,
   "metadata": {},
   "outputs": [
    {
     "data": {
      "text/plain": [
       "0.6212795006643778"
      ]
     },
     "execution_count": 57,
     "metadata": {},
     "output_type": "execute_result"
    }
   ],
   "source": [
    "july_labels['july_total'].corr(july_labels['june_total'])"
   ]
  },
  {
   "cell_type": "markdown",
   "metadata": {},
   "source": [
    "There is a moderate correlation between spending from one month to the next."
   ]
  },
  {
   "cell_type": "code",
   "execution_count": 58,
   "metadata": {},
   "outputs": [
    {
     "data": {
      "image/png": "[encoded data removed]",
      "text/plain": [
       "<Figure size 360x360 with 1 Axes>"
      ]
     },
     "metadata": {},
     "output_type": "display_data"
    }
   ],
   "source": [
    "sns.lmplot('june_total', 'july_total', data = july_labels, fit_reg = False)\n",
    "plt.title('July vs June Spending');"
   ]
  },
  {
   "cell_type": "markdown",
   "metadata": {},
   "source": [
    "Let's look at the four performance metrics."
   ]
  },
  {
   "cell_type": "code",
   "execution_count": 59,
   "metadata": {},
   "outputs": [
    {
     "name": "stdout",
     "output_type": "stream",
     "text": [
      "Precision: 0.41784.\n",
      "Recall: 0.39644.\n",
      "F1 Score: 0.40686.\n",
      "ROC AUC Score: 0.64365.\n"
     ]
    }
   ],
   "source": [
    "print('Precision: {:.5f}.'.format(precision_score(july_labels['label'], july_labels['predicted_label'])))\n",
    "print('Recall: {:.5f}.'.format(recall_score(july_labels['label'], july_labels['predicted_label'])))\n",
    "print('F1 Score: {:.5f}.'.format(f1_score(july_labels['label'], july_labels['predicted_label'])))\n",
    "print('ROC AUC Score: {:.5f}.'.format(roc_auc_score(july_labels['label'], july_labels['probability'])))"
   ]
  },
  {
   "cell_type": "markdown",
   "metadata": {},
   "source": [
    "We can now compare this performance to that from the model. "
   ]
  },
  {
   "cell_type": "code",
   "execution_count": 60,
   "metadata": {},
   "outputs": [
    {
     "name": "stdout",
     "output_type": "stream",
     "text": [
      "Training on 7755 observations.\n",
      "Testing on 2752 observations.\n",
      "\n",
      "Precision: 0.53191\n",
      "Recall: 0.33408\n",
      "F1 Score: 0.4104\n",
      "ROC AUC: 0.75889\n"
     ]
    }
   ],
   "source": [
    "july_fi, july_probs = predict_month(7, feature_matrix, True)"
   ]
  },
  {
   "cell_type": "markdown",
   "metadata": {},
   "source": [
    "For a classifier, the most important metric is the ROC AUC because that accounts for performance across all possible thresholds. We can adjust the threshold to maximize the Recall/Precision/F1 Score depending on our preferences.\n",
    "\n",
    "To make sure that our model is really outperforming the baseline, we can plot the Receiver Operating Characteristic Curve for the two sets of predictions."
   ]
  },
  {
   "cell_type": "code",
   "execution_count": 61,
   "metadata": {},
   "outputs": [
    {
     "data": {
      "image/png": "[encoded data removed]",
      "text/plain": [
       "<Figure size 576x432 with 1 Axes>"
      ]
     },
     "metadata": {},
     "output_type": "display_data"
    }
   ],
   "source": [
    "# Calculate false positive rates and true positive rates\n",
    "base_fpr, base_tpr, _ = roc_curve(july_labels['label'], july_labels['probability'])\n",
    "model_fpr, model_tpr, _ = roc_curve(feature_matrix[feature_matrix['month'] == 7]['label'], july_probs)\n",
    "\n",
    "plt.figure(figsize = (8, 6))\n",
    "plt.rcParams['font.size'] = 16\n",
    "# Plot both curves\n",
    "plt.plot(base_fpr, base_tpr, 'b', label = 'baseline')\n",
    "plt.plot(model_fpr, model_tpr, 'r', label = 'model')\n",
    "plt.legend();\n",
    "plt.xlabel('False Positive Rate'); plt.ylabel('True Positive Rate'); plt.title('ROC Curves');"
   ]
  },
  {
   "cell_type": "markdown",
   "metadata": {},
   "source": [
    "__Based on the metrics and this plot, we can say that our model does indeed outperform the informed baseline guess.__ Machine learning, and the features from Featuretools, yield us a better solution than using a decent approximation.\n",
    "\n",
    "__If we were an online retailer currently using an informed guess for advertising, machine learning could make our advertising campaigns more efficient.__\n",
    "\n",
    "Let's take all of the code for comparing the baseline to the model and put it in a single function. First we need to calculate the informed baseline in a function. "
   ]
  },
  {
   "cell_type": "code",
   "execution_count": 62,
   "metadata": {},
   "outputs": [],
   "source": [
    "def informed_baseline(month_number, threshold = 500):\n",
    "    \"\"\"Calculate an informed baseline for a given month. \n",
    "    The informed baseline is guessing the previous month's spending\n",
    "    for the next month. The probability is assessed by dividing\n",
    "    the previous month's total by the threshold and setting\n",
    "    any values greater than 1 to 1.\"\"\"\n",
    "    \n",
    "    # Subset to the months\n",
    "    month = labels[labels['month'] == month_number]\n",
    "    previous_month = labels[labels['month'] == (month_number - 1)]\n",
    "    previous_month = previous_month.rename(columns = {'total': 'previous_total'})\n",
    "\n",
    "    # Merge the current month with the previous month\n",
    "    month = month.merge(previous_month[['CustomerID', 'previous_total']], on = 'CustomerID', how = 'left')\n",
    "    \n",
    "    # For customers who had no spending in the previous month, set their spending to 0\n",
    "    month['previous_total'] = month['previous_total'].fillna(0)\n",
    "    \n",
    "    # Calculate a probability based on the previous months spending and the threshold\n",
    "    month['probability'] = month['previous_total'] / threshold\n",
    "    \n",
    "    # Set probabilities greater than 1 equal to 1\n",
    "    month.loc[month['probability'] > 1, 'probability'] = 1\n",
    "    \n",
    "    # Make the predicted label\n",
    "    month['prediction'] = (month['previous_total'] > threshold).astype(int)\n",
    "    \n",
    "    # Calculate metrics\n",
    "    print('Precision: {:.5f}.'.format(precision_score(month['label'], month['prediction'])))\n",
    "    print('Recall: {:.5f}.'.format(recall_score(month['label'], month['prediction'])))\n",
    "    print('F1 Score: {:.5f}.'.format(f1_score(month['label'], month['prediction'])))\n",
    "    print('ROC AUC Score: {:.5f}.'.format(roc_auc_score(month['label'], month['probability'])))\n",
    "    \n",
    "    return month"
   ]
  },
  {
   "cell_type": "markdown",
   "metadata": {},
   "source": [
    "The next function compares a machine learning model trained on a set of features to the informed baseline."
   ]
  },
  {
   "cell_type": "code",
   "execution_count": 63,
   "metadata": {},
   "outputs": [],
   "source": [
    "def compare(month, feature_matrix):\n",
    "    \"\"\"Compare machine learning model to baseline performance.\n",
    "    Computes statistics and shows ROC curve.\"\"\"\n",
    "    \n",
    "    print('Baseline Performance')\n",
    "    baseline = informed_baseline(month)\n",
    "    \n",
    "    print('\\nModel Performance')\n",
    "    fi, probs = predict_month(month, feature_matrix, return_probs=True)\n",
    "    \n",
    "    # Calculate false positive rates and true positive rates\n",
    "    base_fpr, base_tpr, _ = roc_curve(baseline['label'], baseline['probability'])\n",
    "    model_fpr, model_tpr, _ = roc_curve(feature_matrix[feature_matrix['month'] == month]['label'], probs)\n",
    "\n",
    "    plt.figure(figsize = (8, 6))\n",
    "    plt.rcParams['font.size'] = 16\n",
    "    \n",
    "    # Plot both curves\n",
    "    plt.plot(base_fpr, base_tpr, 'b', label = 'baseline')\n",
    "    plt.plot(model_fpr, model_tpr, 'r', label = 'model')\n",
    "    plt.legend();\n",
    "    plt.xlabel('False Positive Rate'); plt.ylabel('True Positive Rate'); plt.title('ROC Curves');\n",
    "    "
   ]
  },
  {
   "cell_type": "code",
   "execution_count": 64,
   "metadata": {},
   "outputs": [
    {
     "name": "stdout",
     "output_type": "stream",
     "text": [
      "Baseline Performance\n",
      "Precision: 0.41201.\n",
      "Recall: 0.46714.\n",
      "F1 Score: 0.43784.\n",
      "ROC AUC Score: 0.67321.\n",
      "\n",
      "Model Performance\n",
      "Training on 5266 observations.\n",
      "Testing on 2489 observations.\n",
      "\n",
      "Precision: 0.55519\n",
      "Recall: 0.40141\n",
      "F1 Score: 0.46594\n",
      "ROC AUC: 0.7488\n"
     ]
    },
    {
     "data": {
      "image/png": "[encoded data removed]",
      "text/plain": [
       "<Figure size 576x432 with 1 Axes>"
      ]
     },
     "metadata": {},
     "output_type": "display_data"
    }
   ],
   "source": [
    "compare(6, feature_matrix)"
   ]
  },
  {
   "cell_type": "markdown",
   "metadata": {},
   "source": [
    "- We clearly see our model outperforming the baseline. In practice, we would optimize the model threshold for Precision/Recall/F1 Score.\n",
    "\n",
    "Let's test December, when theoretically our model should do the best because it is training on the most data."
   ]
  },
  {
   "cell_type": "code",
   "execution_count": 65,
   "metadata": {},
   "outputs": [
    {
     "name": "stdout",
     "output_type": "stream",
     "text": [
      "Baseline Performance\n",
      "Precision: 0.21606.\n",
      "Recall: 0.57547.\n",
      "F1 Score: 0.31416.\n",
      "ROC AUC Score: 0.69502.\n",
      "\n",
      "Model Performance\n",
      "Training on 23936 observations.\n",
      "Testing on 4197 observations.\n",
      "\n",
      "Precision: 0.30977\n",
      "Recall: 0.46855\n",
      "F1 Score: 0.37297\n",
      "ROC AUC: 0.79344\n"
     ]
    },
    {
     "data": {
      "image/png": "[encoded data removed]",
      "text/plain": [
       "<Figure size 576x432 with 1 Axes>"
      ]
     },
     "metadata": {},
     "output_type": "display_data"
    }
   ],
   "source": [
    "compare(12, feature_matrix)"
   ]
  },
  {
   "cell_type": "markdown",
   "metadata": {},
   "source": [
    "We get a slightly better ROC AUC. It's possible that the data does not stay consistent over the couse of the year so using more data might not necessarily create a better model. In other words, consumer behavior can shift (potentially due to seasonality) so the older data might not be relevant."
   ]
  },
  {
   "cell_type": "markdown",
   "metadata": {},
   "source": [
    "Feel free to check all of the months! It's clear that featuretools and machine learning is able to outperform the baseline for this problem. Even without concentrating on the model, we were able to perform significantly better than a well-informed guess. With some minor hyperparameter tuning (using random search) we could achieve even better performance. We'll not implement any hyperparameter tuning here, but usually it delivers a small performance gain relative to feature engineering (as can be seen in the other two projects in this repository.)"
   ]
  },
  {
   "cell_type": "markdown",
   "metadata": {},
   "source": [
    "## Precision Recall Curve\n",
    "\n",
    "Our model was using a default threshold of 0.5 to make predictions. We can use the precision recall curve to identify the ideal threshold for our model. For example, we may care more about identifying customers who will spend more than \\$500 than about false positive so we choose a threshold that results in high recall but low precision. Conversely, we may want to limit false positives even if that means missing some potential high-spending customers so we would try for a higher level of precision. The ideal threshold for a classifier will depend on the problem.\n",
    "\n",
    "We use the ROC AUC to compare models across a range of thresholds, so we know which model is strictly better, but then we can use a precision recall curve to adjust the threshold for our business needs. This is usually a process done with the help of domain experts and validated in cross validation (or on a separate validation set of data). "
   ]
  },
  {
   "cell_type": "code",
   "execution_count": 66,
   "metadata": {},
   "outputs": [],
   "source": [
    "def precision_recall(month, feature_matrix):\n",
    "    \"Show the precision vs recall curve for a month\"\n",
    "    \n",
    "    # Find the probability\n",
    "    fi, probs = predict_month(month, feature_matrix, \n",
    "                              return_probs = True)\n",
    "    \n",
    "    # Calculate metrics across thresholds\n",
    "    precision, recall, t = precision_recall_curve(labels.loc[labels['time'].dt.month == month, 'label'], \n",
    "                                                  probs)\n",
    "    \n",
    "    # Plot the curve\n",
    "    plt.step(recall, precision, color='b', alpha=0.5,\n",
    "             where='post')\n",
    "    \n",
    "    # Fill in the curve\n",
    "    plt.fill_between(recall, precision, step='post', alpha=0.5,\n",
    "                     color='b')\n",
    "\n",
    "    plt.xlabel('Recall')\n",
    "    plt.ylabel('Precision')\n",
    "    plt.ylim([0.0, 1.05])\n",
    "    plt.xlim([0.0, 1.0])\n",
    "    plt.title(\"Precision vs. Recall Curve\"); plt.show();"
   ]
  },
  {
   "cell_type": "code",
   "execution_count": 67,
   "metadata": {},
   "outputs": [
    {
     "name": "stdout",
     "output_type": "stream",
     "text": [
      "Training on 23936 observations.\n",
      "Testing on 4197 observations.\n",
      "\n",
      "Precision: 0.30977\n",
      "Recall: 0.46855\n",
      "F1 Score: 0.37297\n",
      "ROC AUC: 0.79344\n"
     ]
    },
    {
     "data": {
      "image/png": "[encoded data removed]",
      "text/plain": [
       "<Figure size 432x288 with 1 Axes>"
      ]
     },
     "metadata": {},
     "output_type": "display_data"
    }
   ],
   "source": [
    "precision_recall(12, feature_matrix)"
   ]
  },
  {
   "cell_type": "code",
   "execution_count": 68,
   "metadata": {},
   "outputs": [
    {
     "name": "stdout",
     "output_type": "stream",
     "text": [
      "Training on 16631 observations.\n",
      "Testing on 3467 observations.\n",
      "\n",
      "Precision: 0.50833\n",
      "Recall: 0.29048\n",
      "F1 Score: 0.3697\n",
      "ROC AUC: 0.72216\n"
     ]
    },
    {
     "data": {
      "image/png": "[encoded data removed]",
      "text/plain": [
       "<Figure size 432x288 with 1 Axes>"
      ]
     },
     "metadata": {},
     "output_type": "display_data"
    }
   ],
   "source": [
    "precision_recall(10, feature_matrix)"
   ]
  },
  {
   "cell_type": "markdown",
   "metadata": {},
   "source": [
    "Depending on what we want to maximize for, we can use these plots to select the appropriate threshold. If we want a recall around 80%, then we would have to accept a precision of near 25%."
   ]
  },
  {
   "cell_type": "markdown",
   "metadata": {},
   "source": [
    "Below we generate probabilities for each month to plot the ROC curve compared to both the baseline and manual engineered features. The graphs can be seen in the conclusions section. The code used to make the graphs is included in the Manual Retail Spending notebook."
   ]
  },
  {
   "cell_type": "code",
   "execution_count": 69,
   "metadata": {},
   "outputs": [],
   "source": [
    "%%capture\n",
    "\n",
    "# Record probabilities for each month\n",
    "for month in range(4, 13):\n",
    "    _, probs = predict_month(month, feature_matrix, return_probs = True)\n",
    "    \n",
    "    temp_df = pd.DataFrame({'Automated': probs, 'month': month})\n",
    "    \n",
    "    if month == 4:\n",
    "        probs_df = temp_df.copy()\n",
    "    \n",
    "    else:\n",
    "        probs_df = probs_df.append(temp_df)\n"
   ]
  },
  {
   "cell_type": "code",
   "execution_count": 70,
   "metadata": {},
   "outputs": [
    {
     "data": {
      "text/html": [
       "<div>\n",
       "<style scoped>\n",
       "    .dataframe tbody tr th:only-of-type {\n",
       "        vertical-align: middle;\n",
       "    }\n",
       "\n",
       "    .dataframe tbody tr th {\n",
       "        vertical-align: top;\n",
       "    }\n",
       "\n",
       "    .dataframe thead th {\n",
       "        text-align: right;\n",
       "    }\n",
       "</style>\n",
       "<table border=\"1\" class=\"dataframe\">\n",
       "  <thead>\n",
       "    <tr style=\"text-align: right;\">\n",
       "      <th></th>\n",
       "      <th>Automated</th>\n",
       "      <th>month</th>\n",
       "    </tr>\n",
       "  </thead>\n",
       "  <tbody>\n",
       "    <tr>\n",
       "      <th>0</th>\n",
       "      <td>0.029</td>\n",
       "      <td>4</td>\n",
       "    </tr>\n",
       "    <tr>\n",
       "      <th>1</th>\n",
       "      <td>0.104</td>\n",
       "      <td>4</td>\n",
       "    </tr>\n",
       "    <tr>\n",
       "      <th>2</th>\n",
       "      <td>0.943</td>\n",
       "      <td>4</td>\n",
       "    </tr>\n",
       "    <tr>\n",
       "      <th>3</th>\n",
       "      <td>0.184</td>\n",
       "      <td>4</td>\n",
       "    </tr>\n",
       "    <tr>\n",
       "      <th>4</th>\n",
       "      <td>0.297</td>\n",
       "      <td>4</td>\n",
       "    </tr>\n",
       "  </tbody>\n",
       "</table>\n",
       "</div>"
      ],
      "text/plain": [
       "   Automated  month\n",
       "0      0.029      4\n",
       "1      0.104      4\n",
       "2      0.943      4\n",
       "3      0.184      4\n",
       "4      0.297      4"
      ]
     },
     "execution_count": 70,
     "metadata": {},
     "output_type": "execute_result"
    }
   ],
   "source": [
    "probs_df.head()"
   ]
  },
  {
   "cell_type": "code",
   "execution_count": 71,
   "metadata": {},
   "outputs": [
    {
     "data": {
      "text/plain": [
       "(26851, 2)"
      ]
     },
     "execution_count": 71,
     "metadata": {},
     "output_type": "execute_result"
    }
   ],
   "source": [
    "probs_df.shape"
   ]
  },
  {
   "cell_type": "code",
   "execution_count": 72,
   "metadata": {},
   "outputs": [
    {
     "data": {
      "text/plain": [
       "array([ 4,  5,  6,  7,  8,  9, 10, 11, 12], dtype=int64)"
      ]
     },
     "execution_count": 72,
     "metadata": {},
     "output_type": "execute_result"
    }
   ],
   "source": [
    "probs_df['month'].unique()"
   ]
  },
  {
   "cell_type": "markdown",
   "metadata": {},
   "source": [
    "# Conclusions\n",
    "\n",
    "In this notebook we saw that Featuretools automated feature engineering in a machine learning pipeline results in better prediction of future customer behavior than an informed baseline guess. There are many advantages to using Featuretools in a time-series problem with multiple tables of data such as we often encounter in real life. Following are the key takeaways:\n",
    "\n",
    "1. Featuretools creates a rich set of relevant features from a set of related tables\n",
    "    * These features can deliver effective machine learning model performance\n",
    "2. Featuretools handles the issue of filtering data in a time-series problem\n",
    "    * Cutoff times for each label filter data \n",
    "    * All features for each label use only valid data\n",
    "3. Even using the default settings for Featuretools, we can create an effective machine learning model\n",
    "    * The featuretools and random forest classifier outperformed an informed guess in terms of ROC AUC and F1 score\n",
    "\n",
    "One can try doing manual feature engineering for this problem, but the time spent will be significantly more than with Featuretools and yet there is a rare possibility to develop a model better than the baseline. \n",
    "\n",
    "Data science is about using the right methods to get the job done as efficiently as possible, and for the retail dataset, that method is Featuretools in a predictive modeling pipeline. The implementation with automated feature engineering is faster, safer, and just as interpretable as any manual engineering work and delivers an effect machine learning model."
   ]
  }
 ],
 "metadata": {
  "kernelspec": {
   "display_name": "Python 3",
   "language": "python",
   "name": "python3"
  },
  "language_info": {
   "codemirror_mode": {
    "name": "ipython",
    "version": 3
   },
   "file_extension": ".py",
   "mimetype": "text/x-python",
   "name": "python",
   "nbconvert_exporter": "python",
   "pygments_lexer": "ipython3",
   "version": "3.7.6"
  },
  "toc": {
   "base_numbering": 1,
   "nav_menu": {},
   "number_sections": true,
   "sideBar": true,
   "skip_h1_title": false,
   "title_cell": "Table of Contents",
   "title_sidebar": "Contents",
   "toc_cell": false,
   "toc_position": {},
   "toc_section_display": true,
   "toc_window_display": false
  },
  "varInspector": {
   "cols": {
    "lenName": 16,
    "lenType": 16,
    "lenVar": 40
   },
   "kernels_config": {
    "python": {
     "delete_cmd_postfix": "",
     "delete_cmd_prefix": "del ",
     "library": "var_list.py",
     "varRefreshCmd": "print(var_dic_list())"
    },
    "r": {
     "delete_cmd_postfix": ") ",
     "delete_cmd_prefix": "rm(",
     "library": "var_list.r",
     "varRefreshCmd": "cat(var_dic_list()) "
    }
   },
   "types_to_exclude": [
    "module",
    "function",
    "builtin_function_or_method",
    "instance",
    "_Feature"
   ],
   "window_display": false
  }
 },
 "nbformat": 4,
 "nbformat_minor": 2
}
